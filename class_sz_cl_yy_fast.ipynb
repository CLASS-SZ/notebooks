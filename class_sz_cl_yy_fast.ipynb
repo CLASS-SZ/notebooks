{
 "cells": [
  {
   "cell_type": "markdown",
   "metadata": {},
   "source": [
    "# Compute tSZ power spectrum with JAX"
   ]
  },
  {
   "cell_type": "markdown",
   "metadata": {},
   "source": [
    "## Initialize"
   ]
  },
  {
   "cell_type": "code",
   "execution_count": 305,
   "metadata": {},
   "outputs": [],
   "source": [
    "import numpy as np\n",
    "import mcfit\n",
    "from mcfit import TophatVar\n",
    "import jax\n",
    "import jax.numpy as jnp\n",
    "import jax.scipy as jscipy\n",
    "from jax.scipy.interpolate import RegularGridInterpolator\n",
    "# from jax.scipy.integrate import trapezoid\n",
    "import functools\n",
    "import matplotlib.pyplot as plt\n",
    "from classy_sz import Class as Class_sz\n",
    "# from scipy.integrate import simpson"
   ]
  },
  {
   "cell_type": "code",
   "execution_count": 306,
   "metadata": {},
   "outputs": [],
   "source": [
    "allpars = {\n",
    "'omega_b': 0.02242,\n",
    "'omega_cdm':  0.1193,\n",
    "'H0': 67.66, # use H0 because this is what is used by the emulators and to avoid any ambiguity when comparing with camb.\n",
    "# 'H0': 80, # use H0 because this is what is used by the emulators and to avoid any ambiguity when comparing with camb.\n",
    "'tau_reio': 0.0561,\n",
    "'ln10^{10}A_s': 3.047,\n",
    "# 'sigma8': 0.8,\n",
    "'n_s': 0.9665,\n",
    "# \"cosmo_model\": 1, # use mnu-lcdm emulators\n",
    "\n",
    "'M_min': 1.0e10,\n",
    "'M_max': 3.5e15,\n",
    "\n",
    "\"ell_min\" : 2,\n",
    "\"ell_max\" : 8000,\n",
    "# 'dell': 10,\n",
    "'dlogell': 0.1,\n",
    "\n",
    "'z_min' : 0.005,\n",
    "'z_max' : 3.0,\n",
    "\n",
    "\"P0GNFW\": 8.130,\n",
    "\"c500\": 1.156,\n",
    "\"gammaGNFW\": 0.3292,\n",
    "\"alphaGNFW\": 1.0620,\n",
    "\"betaGNFW\":5.4807,\n",
    "\n",
    "# X ray mass bias (if applicable)\n",
    "'B' : 1.,\n",
    "\n",
    "'jax' : 1, # Enable jax\n",
    "}"
   ]
  },
  {
   "cell_type": "code",
   "execution_count": 307,
   "metadata": {},
   "outputs": [],
   "source": [
    "classy_sz = Class_sz()\n",
    "classy_sz.set(allpars)\n",
    "classy_sz.set({\n",
    "'output':' ',\n",
    "'pressure_profile':'GNFW', # can be Battaglia, Arnaud, etc\n",
    "})\n",
    "classy_sz.compute_class_szfast()"
   ]
  },
  {
   "cell_type": "markdown",
   "metadata": {},
   "source": [
    "## Define Hankel transform of pressure profile"
   ]
  },
  {
   "cell_type": "code",
   "execution_count": 308,
   "metadata": {},
   "outputs": [],
   "source": [
    "def gnfw_pressure_profile(x, z, m, params_values_dict = None):\n",
    "    \"\"\"\n",
    "    GNFW pressure profile\n",
    "    \"\"\"\n",
    "    # Obtain cosmological parameters from classy_sz\n",
    "    rparams = classy_sz.get_all_relevant_params(params_values_dict = params_values_dict)\n",
    "    # rparams = classy_sz.pars\n",
    "    conv_fac = 299792.458 # speed of light\n",
    "    h = rparams['H0']/100\n",
    "    H = classy_sz.get_hubble_at_z(z, params_values_dict = params_values_dict) * conv_fac  # Hubble parameter at given z\n",
    "    H0 = rparams['H0']  # Hubble parameter at z=0\n",
    "\n",
    "    # GNFW prefactor\n",
    "    B = rparams['B']    \n",
    "    m_delta_tilde = (m / B)/h # convert to M_sun \n",
    "    C = 1.65 * (h / 0.7)**2 * (H / H0)**(8 / 3) * ((h / 0.7) * m_delta_tilde / (3e14))**(2 / 3 + 0.12) # eV cm^-3\n",
    "    c500 = rparams['c500']\n",
    "    gamma = rparams['gammaGNFW']\n",
    "    alpha = rparams['alphaGNFW']\n",
    "    beta = rparams['betaGNFW']\n",
    "    P0 = rparams['P0GNFW']\n",
    "\n",
    "    # Calculate scaled radius and pressure profile\n",
    "    scaled_x = c500 * x\n",
    "    term1 = scaled_x**(-gamma)\n",
    "    term2 = (1 + scaled_x**alpha)**((gamma - beta) / alpha)\n",
    "    Pe = C * P0 * term1 * term2\n",
    "\n",
    "    return Pe\n"
   ]
  },
  {
   "cell_type": "code",
   "execution_count": 309,
   "metadata": {},
   "outputs": [],
   "source": [
    "def window_function(x, x_min, x_max):\n",
    "    \"\"\"\n",
    "    Since the integral is between x_min and x_max\n",
    "    \"\"\"\n",
    "\n",
    "    return np.where((x >= x_min) & (x <= x_max), 1.0, 0.0)"
   ]
  },
  {
   "cell_type": "code",
   "execution_count": 310,
   "metadata": {},
   "outputs": [],
   "source": [
    "def hankel_integrand(x, z, m, x_min=1e-6, x_max=4, params_values_dict = None):\n",
    "    \"\"\"\n",
    "    Compute x^0.5 * Pe(x) * W(x).\n",
    "    Handles x and m as arrays using vmap for vectorization.\n",
    "    \"\"\"\n",
    "    # Vectorize over m\n",
    "    def single_m(m_val, params_values_dict = params_values_dict):\n",
    "        # Compute GNFW pressure profile for given m\n",
    "        Pe = gnfw_pressure_profile(x, z, m_val, params_values_dict = params_values_dict)\n",
    "        \n",
    "        # Compute the window function\n",
    "        W_x = window_function(x, x_min, x_max)\n",
    "        \n",
    "        # Combine the result\n",
    "        return x**0.5 * Pe * W_x\n",
    "    \n",
    "    # Apply vmap to vectorize over m\n",
    "    result = jax.vmap(single_m)(m)\n",
    "    \n",
    "    return result  # Shape: (len(m), len(x))"
   ]
  },
  {
   "cell_type": "code",
   "execution_count": 311,
   "metadata": {},
   "outputs": [],
   "source": [
    "def mpc_per_h_to_cm(mpc_per_h, h):\n",
    "    \"\"\"\n",
    "    Converts a distance in Mpc/h to centimeters.\n",
    "    \"\"\"\n",
    "    # 1 megaparsec (Mpc) in centimeters\n",
    "    Mpc_to_cm = 3.085677581e24  # cm\n",
    "\n",
    "    # Convert Mpc/h to Mpc by dividing by h\n",
    "    mpc = mpc_per_h / h\n",
    "\n",
    "    # Convert Mpc to cm\n",
    "    cm = mpc * Mpc_to_cm\n",
    "\n",
    "    return cm"
   ]
  },
  {
   "cell_type": "code",
   "execution_count": 312,
   "metadata": {},
   "outputs": [],
   "source": [
    "def y_ell_prefactor(z, m, delta = 500, params_values_dict = None): \n",
    "    \n",
    "    rparams = classy_sz.get_all_relevant_params(params_values_dict = params_values_dict)\n",
    "    # rparams = classy_sz.pars\n",
    "    h = rparams['H0']/100\n",
    "\n",
    "    # print(rparams)\n",
    "    me_in_eV = 510998.95 # electron mass in eV/c^2\n",
    "    # me_in_eV = 511000 # electron mass in eV/c^2\n",
    "    sigmat_cm = 6.6524587321e-25 # Thomson cross section in cm^2\n",
    "    sigmat_over_mec2 = sigmat_cm / me_in_eV\n",
    "    # sigmat_over_mec2 = 283.2980000259841 / 0.5176\n",
    "\n",
    "    dAz = classy_sz.get_angular_distance_at_z(z,params_values_dict = params_values_dict)*h\n",
    "    # dAz = classy_sz.get_angular_distance_at_z(z,params_values_dict = params_values_dict)/(1+z)*h # in Mpc/h\n",
    "    r_delta = classy_sz.get_r_delta_of_m_delta_at_z(delta, m, z, params_values_dict = params_values_dict)  # in Mpc/h\n",
    "    ell_delta = dAz/r_delta\n",
    "    # print(ell_delta)\n",
    "    h = rparams['H0']/100\n",
    "\n",
    "    r_delta_cm = mpc_per_h_to_cm(r_delta, h)  # r is in cm \n",
    "    # print(r_delta_cm/ell_delta**2)\n",
    "    # print(sigmat_over_mec2)\n",
    "\n",
    "    prefactor = sigmat_over_mec2 * 4 * np.pi * r_delta_cm/(ell_delta**2)\n",
    "\n",
    "    return prefactor"
   ]
  },
  {
   "cell_type": "code",
   "execution_count": 313,
   "metadata": {},
   "outputs": [],
   "source": [
    "def y_ell_complete(z, m, x_min=1e-6, x_max=4, params_values_dict = None):\n",
    "\n",
    "    rparams = classy_sz.get_all_relevant_params(params_values_dict = params_values_dict)\n",
    "    h = rparams['H0']/100\n",
    "    \n",
    "    prefactor = y_ell_prefactor(z, m, params_values_dict=params_values_dict)\n",
    "    # print(prefactor)\n",
    "    # Define x in logarithmic space\n",
    "    x = jnp.logspace(jnp.log10(1e-6), jnp.log10(6e2), num=128)  # Avoid x = 0 to prevent divergence\n",
    "\n",
    "    integrand = hankel_integrand(x, z, m, x_min=1e-6, x_max=4, params_values_dict=params_values_dict)\n",
    "    # print(integrand)\n",
    "\n",
    "    # Hankel transform with JAX\n",
    "    H = mcfit.Hankel(x, nu=0.5, lowring=True, backend='jax') \n",
    "    H_jit = jax.jit(functools.partial(H, extrap=False))\n",
    "\n",
    "    k, y_k = H_jit(integrand) # Note that k = ell/ell_delta\n",
    "    # print(k)\n",
    "    # print(y_k)\n",
    "\n",
    "    dAz = classy_sz.get_angular_distance_at_z(z, params_values_dict = params_values_dict) * h # in Mpc/h\n",
    "    # dAz = classy_sz.get_angular_distance_at_z(z,params_values_dict = params_values_dict)/(1+z)*h # in Mpc/h\n",
    "\n",
    "    delta = 500\n",
    "    r_delta = classy_sz.get_r_delta_of_m_delta_at_z(delta, m, z, params_values_dict = params_values_dict)  # in Mpc/h\n",
    "    # print(r_delta)\n",
    "    ell_delta = dAz/r_delta\n",
    "    # print(ell_delta)\n",
    "\n",
    "    ell = jnp.zeros(ell_delta.shape)\n",
    "    # ell = k * ell_delta  # Note that k = ell/ell_delta\n",
    "    ell = k[None, :] * ell_delta[:, None]\n",
    "    # print(\"shape  of ell:\", ell.shape)\n",
    "\n",
    "\n",
    "    # print(\"shape of k:\", k.shape)\n",
    "    # print(\"shape of ell_delta:\", ell_delta.shape)\n",
    "\n",
    "    # print(ell)\n",
    "    # print(ell_delta[:, None].shape)\n",
    "    # print(k[None, :])\n",
    "    # print(y_k.shape)\n",
    "    # print(prefactor.shape)\n",
    "    # print(prefactor[:, None])\n",
    "\n",
    "    # y_ell = prefactor * y_k * np.sqrt(np.pi/(2*k)) # multiply the prefactor of spherical Bessel to Hankel\n",
    "    y_ell = prefactor[:, None] * y_k * jnp.sqrt(jnp.pi / (2 * k[None, :]))\n",
    "\n",
    "    return ell, y_ell"
   ]
  },
  {
   "cell_type": "markdown",
   "metadata": {},
   "source": [
    "## Interpolator of $y_\\ell$"
   ]
  },
  {
   "cell_type": "code",
   "execution_count": 314,
   "metadata": {},
   "outputs": [],
   "source": [
    "def y_ell_interpolate(z, m, params_values_dict = None):\n",
    "    \"\"\"\n",
    "    Interpolate y_ell values onto a uniform ell grid for multiple m values.\n",
    "    \"\"\"\n",
    "    # Get cosmological parameters\n",
    "    rparams = classy_sz.pars\n",
    "    l_min = rparams['ell_min']\n",
    "    l_max = rparams['ell_max']\n",
    "    dlogell = rparams['dlogell']\n",
    "\n",
    "\n",
    "    log10_l_min = jnp.log10(l_min)\n",
    "    log10_l_max = jnp.log10(l_max)\n",
    "    num = int((log10_l_max - log10_l_min) / dlogell) + 1\n",
    "    # print(num)\n",
    "\n",
    "    # Compute the complete y_ell values\n",
    "    ell_nointer_list, y_ell_nointer_list = y_ell_complete(z, m, params_values_dict = params_values_dict)\n",
    "\n",
    "    # Define evaluation ell values (uniform grid)\n",
    "    ell_eval = jnp.logspace(log10_l_min, log10_l_max, num=num)\n",
    "\n",
    "    # Interpolator function for a single m\n",
    "    def interpolate_single(ell_nointer, y_ell_nointer):\n",
    "        interpolator = RegularGridInterpolator((ell_nointer,), y_ell_nointer, method='linear', bounds_error=False, fill_value=None)\n",
    "        return interpolator(ell_eval)\n",
    "\n",
    "    # Vectorize the interpolation across all m\n",
    "    interpolate_all = jax.vmap(interpolate_single, in_axes=(0, 0), out_axes=0)\n",
    "\n",
    "    # Perform the interpolation\n",
    "    y_ell_eval_list = interpolate_all(ell_nointer_list, y_ell_nointer_list)\n",
    "\n",
    "    return ell_eval, y_ell_eval_list\n"
   ]
  },
  {
   "cell_type": "code",
   "execution_count": 315,
   "metadata": {},
   "outputs": [
    {
     "data": {
      "image/png": "[encoded data removed]",
      "text/plain": [
       "<Figure size 640x480 with 1 Axes>"
      ]
     },
     "metadata": {},
     "output_type": "display_data"
    }
   ],
   "source": [
    "m = jnp.array([3e15, 5e15])\n",
    "z = 1\n",
    "ell = y_ell_interpolate(z, m, params_values_dict=allpars)[0]\n",
    "y_ell = y_ell_interpolate(z, m, params_values_dict=allpars)[1][0]\n",
    "plt.plot(ell, y_ell, label='Interpolation', color='r')\n",
    "\n",
    "ell_no_inter = y_ell_complete(z, m, params_values_dict = allpars)[0][0]\n",
    "y_ell_no_inter = y_ell_complete(z, m, params_values_dict = allpars)[1][0]\n",
    "plt.plot(ell_no_inter, y_ell_no_inter, label='No Interpolation', color='b') \n",
    "plt.xlim(1,1e5)\n",
    "# plt.ylim(1.5e-25,3e-25)\n",
    "plt.ylabel(r'$y_{\\ell}$')\n",
    "plt.xlabel(r'$\\ell$')\n",
    "plt.xscale('log')\n",
    "# plt.yscale('log')\n",
    "plt.legend()\n",
    "plt.show()"
   ]
  },
  {
   "cell_type": "markdown",
   "metadata": {},
   "source": [
    "## Halo Mass Function (T08500c)"
   ]
  },
  {
   "cell_type": "code",
   "execution_count": 316,
   "metadata": {},
   "outputs": [],
   "source": [
    "def MF_T08(sigmas, z, delta_mean):\n",
    "    # Convert delta_mean to log scale\n",
    "    delta_mean = jnp.log10(delta_mean)\n",
    "\n",
    "    # Define parameters as JAX arrays\n",
    "    delta_mean_tab = jnp.log10(jnp.array([200, 300, 400, 600, 800, 1200, 1600, 2400, 3200]))\n",
    "    A_tab = jnp.array([0.186, 0.200, 0.212, 0.218, 0.248, 0.255, 0.260, 0.260, 0.260])\n",
    "    aa_tab = jnp.array([1.47, 1.52, 1.56, 1.61, 1.87, 2.13, 2.30, 2.53, 2.66])\n",
    "    b_tab = jnp.array([2.57, 2.25, 2.05, 1.87, 1.59, 1.51, 1.46, 1.44, 1.41])\n",
    "    c_tab = jnp.array([1.19, 1.27, 1.34, 1.45, 1.58, 1.80, 1.97, 2.24, 2.44])\n",
    "\n",
    "    # Linear interpolation using jnp.interp\n",
    "    Ap = jnp.interp(delta_mean, delta_mean_tab, A_tab) * (1 + z) ** -0.14\n",
    "    a = jnp.interp(delta_mean, delta_mean_tab, aa_tab) * (1 + z) ** -0.06\n",
    "    b = jnp.interp(delta_mean, delta_mean_tab, b_tab) * (1 + z) ** -jnp.power(10, -jnp.power(0.75 / jnp.log10(jnp.power(10, delta_mean) / 75), 1.2))\n",
    "    c = jnp.interp(delta_mean, delta_mean_tab, c_tab)\n",
    "\n",
    "    # print(a.shape,b.shape,c.shape,Ap.shape,sigmas.shape)\n",
    "\n",
    "    # Calculate final result\n",
    "    result = 0.5 * Ap[:,None] * (jnp.power(sigmas / b[:, None], -a[:, None]) + 1) * jnp.exp(-c[:, None] / sigmas**2)\n",
    "\n",
    "    return result"
   ]
  },
  {
   "cell_type": "code",
   "execution_count": 317,
   "metadata": {},
   "outputs": [],
   "source": [
    "def MF_T08(sigmas, z, delta_mean):\n",
    "    # Convert delta_mean to log scale\n",
    "    delta_mean = jnp.log10(delta_mean)\n",
    "    \n",
    "    # Define parameters as JAX arrays\n",
    "    delta_mean_tab = jnp.log10(jnp.array([200, 300, 400, 600, 800, 1200, 1600, 2400, 3200]))\n",
    "    A_tab = jnp.array([0.186, 0.200, 0.212, 0.218, 0.248, 0.255, 0.260, 0.260, 0.260])\n",
    "    aa_tab = jnp.array([1.47, 1.52, 1.56, 1.61, 1.87, 2.13, 2.30, 2.53, 2.66])\n",
    "    b_tab = jnp.array([2.57, 2.25, 2.05, 1.87, 1.59, 1.51, 1.46, 1.44, 1.41])\n",
    "    c_tab = jnp.array([1.19, 1.27, 1.34, 1.45, 1.58, 1.80, 1.97, 2.24, 2.44])\n",
    "\n",
    "    # Linear interpolation using jnp.interp\n",
    "    Ap = jnp.interp(delta_mean, delta_mean_tab, A_tab) * (1 + z) ** -0.14\n",
    "    a = jnp.interp(delta_mean, delta_mean_tab, aa_tab) * (1 + z) ** -0.06\n",
    "    b = jnp.interp(delta_mean, delta_mean_tab, b_tab) * (1 + z) ** -jnp.power(10, -jnp.power(0.75 / jnp.log10(jnp.power(10, delta_mean) / 75), 1.2))\n",
    "    c = jnp.interp(delta_mean, delta_mean_tab, c_tab)\n",
    "    \n",
    "    # print(a.shape,b.shape,c.shape,Ap.shape,sigmas.shape)\n",
    "\n",
    "    # Calculate final result\n",
    "    result = 0.5 * Ap[:,None] * (jnp.power(sigmas / b[:, None], -a[:, None]) + 1) * jnp.exp(-c[:, None] / sigmas**2)\n",
    "\n",
    "    return result"
   ]
  },
  {
   "cell_type": "code",
   "execution_count": 318,
   "metadata": {},
   "outputs": [],
   "source": [
    "def get_hmf_grid(delta = 500, delta_def = 'critical', params_values_dict = None):\n",
    "    \n",
    "    rparams = classy_sz.get_all_relevant_params(params_values_dict = params_values_dict)\n",
    "    h = rparams['h']\n",
    "    ## initialize (get ks)\n",
    "    z = 1.\n",
    "    _,ks = classy_sz.get_pkl_at_z(z,params_values_dict = params_values_dict)\n",
    "\n",
    "    # Define a single function for `get_pkl_at_z` calls\n",
    "    def get_pks_for_z(zp):\n",
    "        pks, ks = classy_sz.get_pkl_at_z(zp, params_values_dict= params_values_dict)\n",
    "        return pks.flatten()\n",
    "\n",
    "    # Vectorize this function over `z_grid`\n",
    "    z_grid = classy_sz.z_grid()\n",
    "    P = jax.vmap(get_pks_for_z)(z_grid).T\n",
    "\n",
    "    # Vectorize the TophatVar function over `z_grid`\n",
    "    def compute_tophat_var(pks, ks):\n",
    "        _, var_z = TophatVar(ks, lowring=True, backend='jax')(pks, extrap=True)\n",
    "        return var_z\n",
    "\n",
    "    # Apply the function to each column of P\n",
    "    var = jax.vmap(compute_tophat_var, in_axes=(1, None))(P, ks)\n",
    "\n",
    "\n",
    "    # Vectorize the TophatVar function over `z_grid`\n",
    "    def compute_tophat_dvar(pks, ks):\n",
    "        _, var_z = TophatVar(ks, lowring=True, backend='jax',deriv=1)(pks*ks, extrap=True)\n",
    "        # cosmocnc:  TophatVar(self.k,lowring=True,deriv=1)(self.pk*self.k,extrap=True)\n",
    "        return var_z\n",
    "\n",
    "\n",
    "    # Apply the function to each column of P\n",
    "    dvar = jax.vmap(compute_tophat_dvar, in_axes=(1, None))(P, ks)\n",
    "\n",
    "\n",
    "    # Step 4: Compute gradient of var with respect to R\n",
    "    # Assuming R is uniform across z_grid, use the first R from TophatVar\n",
    "    R, _ = TophatVar(ks, lowring=True, backend='jax')(P[:, 0], extrap=True)\n",
    "    R = R.flatten()  # Ensure R has shape (1000,)\n",
    "    lnr_grid = jnp.log(R)\n",
    "    lnx_grid = jnp.log(1+z_grid)\n",
    "    \n",
    "    \n",
    "    \n",
    "    lnsigma_grid = 0.5*jnp.log(var)\n",
    "    \n",
    "    # dvar = R*jnp.gradient(var, jnp.log(R))\n",
    "    dsigma2_grid = dvar\n",
    "\n",
    "    \n",
    "    Rh = R*rparams['h']\n",
    "    lnm_grid = jnp.log(4*jnp.pi*rparams['Omega0_cb']*rparams['Rho_crit_0']*Rh**3/3.) # in h-units\n",
    "    \n",
    "    # Define the interpolator\n",
    "    # lnsigma_interpolator = jscipy.interpolate.RegularGridInterpolator((lnx_grid, lnm_grid), lnsigma_grid)\n",
    "    # dsigma2_interpolator = jscipy.interpolate.RegularGridInterpolator((lnx_grid, lnm_grid), dsigma2_grid)\n",
    "    # print(jnp.exp(lnm_grid)[0],jnp.exp(lnm_grid)[-1])\n",
    "    if delta_def == 'critical':\n",
    "        delta_mean = classy_sz.get_delta_mean_from_delta_crit_at_z(delta,z_grid,params_values_dict = params_values_dict)\n",
    "    elif delta_def == 'mean':\n",
    "        delta_mean = jnp.full_like(z_grid, delta)\n",
    "    else:\n",
    "        print(\"Not implemened yet\")\n",
    "    # print(delta_mean[0],delta_mean[-1])\n",
    "    \n",
    "    \n",
    "    delta_c =  (3./20.)*jnp.power(12.*jnp.pi,2./3.) # this is = 1.686470199841145\n",
    "    # print(delta_c)\n",
    "    # note here we dont use matter dependent delta_c\n",
    "    # which would be multiplied by (1.+0.012299*log10(pvecback[pba->index_bg_Omega_m]));\n",
    "    \n",
    "    \n",
    "    sigmas = jnp.exp(lnsigma_grid)\n",
    "    nus = (delta_c/sigmas)**2 ## currently for book keeping\n",
    "    # print(\"nus\",nus.shape)\n",
    "    # print(\"sigmas shape\",sigmas.shape)\n",
    "    # print(\"z_grid shape\",z_grid.shape)\n",
    "    # print(\"delta_mean shape\",delta_mean.shape)\n",
    "    \n",
    "    hmf = MF_T08(sigmas, z_grid, delta_mean)\n",
    "    # print(\"hmf shape\",hmf.shape)\n",
    "    \n",
    "    lnSigma2 = 2.*lnsigma_grid\n",
    "    dlnsigmadlnR = dsigma2_grid/2.\n",
    "    dlnSigma2dlnR = 2.*dlnsigmadlnR*R/jnp.exp(lnSigma2)\n",
    "    dlnnudlnRh = -dlnSigma2dlnR\n",
    "    \n",
    "    # Return dn/dlogM in units of h^3 Mpc^-3\n",
    "    dndlnm_grid = 1./3.*3./(4.*jnp.pi*Rh**3)*dlnnudlnRh*hmf\n",
    "    return lnx_grid,lnm_grid,dndlnm_grid"
   ]
  },
  {
   "cell_type": "code",
   "execution_count": 319,
   "metadata": {},
   "outputs": [],
   "source": [
    "def get_hmf_at_z_and_m(z,m,params_values_dict = None):\n",
    "    lnx, lnm, dndlnm = get_hmf_grid(delta = 500, delta_def = 'critical', params_values_dict = params_values_dict)\n",
    "    hmf_interp = jscipy.interpolate.RegularGridInterpolator((lnx, lnm), jnp.log(dndlnm))\n",
    "    lnxp = jnp.log(1.+z)\n",
    "    lnmp = jnp.log(m)\n",
    "    return jnp.exp(hmf_interp((lnxp,lnmp)))"
   ]
  },
  {
   "cell_type": "code",
   "execution_count": 320,
   "metadata": {},
   "outputs": [
    {
     "data": {
      "text/plain": [
       "(10000000000.0, 1000000000000000.0)"
      ]
     },
     "execution_count": 320,
     "metadata": {},
     "output_type": "execute_result"
    },
    {
     "data": {
      "image/png": "[encoded data removed]",
      "text/plain": [
       "<Figure size 640x480 with 1 Axes>"
      ]
     },
     "metadata": {},
     "output_type": "display_data"
    }
   ],
   "source": [
    "m = jnp.geomspace(1e10,1e15,200)\n",
    "for z in [0,1,2]:\n",
    "    dndlnm = get_hmf_at_z_and_m(z,m,params_values_dict = allpars)\n",
    "    plt.plot(m,dndlnm)\n",
    "plt.loglog()\n",
    "plt.grid(which='both',alpha=0.1)\n",
    "plt.ylim(1e-6,2e-1)\n",
    "plt.xlim(1e10,1e15)"
   ]
  },
  {
   "cell_type": "markdown",
   "metadata": {},
   "source": [
    "## Comoving Volume factor"
   ]
  },
  {
   "cell_type": "code",
   "execution_count": 321,
   "metadata": {},
   "outputs": [],
   "source": [
    "def dVdzdOmega(z, params_values_dict = None):\n",
    "\n",
    "    rparams = classy_sz.get_all_relevant_params(params_values_dict = params_values_dict)\n",
    "    h = rparams['h']\n",
    "    dAz = classy_sz.get_angular_distance_at_z(z,params_values_dict = params_values_dict) * h\n",
    "    # dAz = classy_sz.get_angular_distance_at_z(z,params_values_dict = cosmo_params)/(1+z)*h # in Mpc/h\n",
    "    Hz = classy_sz.get_hubble_at_z(z,params_values_dict = params_values_dict) / h # in Mpc^(-1) h\n",
    "    # print(Hz)\n",
    "\n",
    "    return (1+z)**2*dAz**2/Hz"
   ]
  },
  {
   "cell_type": "markdown",
   "metadata": {},
   "source": [
    "## Simpson Integration in JAX (c.f. Inigo's modification)"
   ]
  },
  {
   "cell_type": "code",
   "execution_count": 322,
   "metadata": {},
   "outputs": [],
   "source": [
    "def simpson(y, *, x=None, dx=1.0, axis=-1):\n",
    "    y = jnp.asarray(y)\n",
    "    nd = len(y.shape)\n",
    "    N = y.shape[axis]\n",
    "    last_dx = dx\n",
    "    returnshape = 0\n",
    "    if x is not None:\n",
    "        x = jnp.asarray(x)\n",
    "        if len(x.shape) == 1:\n",
    "            shapex = [1] * nd\n",
    "            shapex[axis] = x.shape[0]\n",
    "            saveshape = x.shape\n",
    "            returnshape = 1\n",
    "            x = x.reshape(tuple(shapex))\n",
    "        elif len(x.shape) != len(y.shape):\n",
    "            raise ValueError(\"If given, shape of x must be 1-D or the \"\n",
    "                             \"same as y.\")\n",
    "        if x.shape[axis] != N:\n",
    "            raise ValueError(\"If given, length of x along axis must be the \"\n",
    "                             \"same as y.\")\n",
    "    if N % 2 == 0:\n",
    "        val = 0.0\n",
    "        result = 0.0\n",
    "        slice_all = (slice(None),) * nd\n",
    "        if N == 2:\n",
    "            # need at least 3 points in integration axis to form parabolic\n",
    "            # segment. If there are two points then any of 'avg', 'first',\n",
    "            # 'last' should give the same result.\n",
    "            slice1 = tupleset(slice_all, axis, -1)\n",
    "            slice2 = tupleset(slice_all, axis, -2)\n",
    "            if x is not None:\n",
    "                last_dx = x[slice1] - x[slice2]\n",
    "            val += 0.5 * last_dx * (y[slice1] + y[slice2])\n",
    "        else:\n",
    "            # use Simpson's rule on first intervals\n",
    "            result = _basic_simpson(y, 0, N-3, x, dx, axis)\n",
    "            slice1 = tupleset(slice_all, axis, -1)\n",
    "            slice2 = tupleset(slice_all, axis, -2)\n",
    "            slice3 = tupleset(slice_all, axis, -3)\n",
    "            h = jnp.asarray([dx, dx], dtype=jnp.float64)\n",
    "            if x is not None:\n",
    "                # grab the last two spacings from the appropriate axis\n",
    "                hm2 = tupleset(slice_all, axis, slice(-2, -1, 1))\n",
    "                hm1 = tupleset(slice_all, axis, slice(-1, None, 1))\n",
    "                diffs = jnp.float64(jnp.diff(x, axis=axis))\n",
    "                h = [jnp.squeeze(diffs[hm2], axis=axis),\n",
    "                     jnp.squeeze(diffs[hm1], axis=axis)]\n",
    "            num = 2 * h[1] ** 2 + 3 * h[0] * h[1]\n",
    "            den = 6 * (h[1] + h[0])\n",
    "            alpha = jnp.true_divide(\n",
    "                num,\n",
    "                den,\n",
    "            )\n",
    "            num = h[1] ** 2 + 3.0 * h[0] * h[1]\n",
    "            den = 6 * h[0]\n",
    "            beta = jnp.true_divide(\n",
    "                num,\n",
    "                den,\n",
    "            )\n",
    "            num = 1 * h[1] ** 3\n",
    "            den = 6 * h[0] * (h[0] + h[1])\n",
    "            eta = jnp.true_divide(\n",
    "                num,\n",
    "                den,\n",
    "            )\n",
    "            result += alpha*y[slice1] + beta*y[slice2] - eta*y[slice3]\n",
    "        result += val\n",
    "    else:\n",
    "        result = _basic_simpson(y, 0, N-2, x, dx, axis)\n",
    "    if returnshape:\n",
    "        x = x.reshape(saveshape)\n",
    "    return result\n",
    "def _basic_simpson(y, start, stop, x, dx, axis):\n",
    "    nd = len(y.shape)\n",
    "    if start is None:\n",
    "        start = 0\n",
    "    step = 2\n",
    "    slice_all = (slice(None),)*nd\n",
    "    slice0 = tupleset(slice_all, axis, slice(start, stop, step))\n",
    "    slice1 = tupleset(slice_all, axis, slice(start+1, stop+1, step))\n",
    "    slice2 = tupleset(slice_all, axis, slice(start+2, stop+2, step))\n",
    "    if x is None:  # Even-spaced Simpson's rule.\n",
    "        result = jnp.sum(y[slice0] + 4.0*y[slice1] + y[slice2], axis=axis)\n",
    "        result *= dx / 3.0\n",
    "    else:\n",
    "        # Account for possibly different spacings.\n",
    "        #    Simpson's rule changes a bit.\n",
    "        h = jnp.diff(x, axis=axis)\n",
    "        sl0 = tupleset(slice_all, axis, slice(start, stop, step))\n",
    "        sl1 = tupleset(slice_all, axis, slice(start+1, stop+1, step))\n",
    "        h0 = h[sl0].astype(float)\n",
    "        h1 = h[sl1].astype(float)\n",
    "        hsum = h0 + h1\n",
    "        hprod = h0 * h1\n",
    "        h0divh1 = jnp.true_divide(h0, h1)\n",
    "        tmp = hsum/6.0 * (y[slice0] *\n",
    "                          (2.0 - jnp.true_divide(1.0, h0divh1)) +\n",
    "                          y[slice1] * (hsum *\n",
    "                                       jnp.true_divide(hsum, hprod)) +\n",
    "                          y[slice2] * (2.0 - h0divh1))\n",
    "        result = jnp.sum(tmp, axis=axis)\n",
    "    return result\n",
    "def tupleset(t, i, value):\n",
    "    l = list(t)\n",
    "    l[i] = value\n",
    "    return tuple(l)"
   ]
  },
  {
   "cell_type": "code",
   "execution_count": 323,
   "metadata": {},
   "outputs": [],
   "source": [
    "def get_ell_range(params_values_dict = None):\n",
    "\n",
    "    # Get cosmological parameters\n",
    "    rparams = classy_sz.get_all_relevant_params(params_values_dict = params_values_dict)\n",
    "    l_min = rparams['ell_min']\n",
    "    l_max = rparams['ell_max']\n",
    "    dlogell = rparams['dlogell']\n",
    "\n",
    "    log10_l_min = jnp.log10(l_min)\n",
    "    log10_l_max = jnp.log10(l_max)\n",
    "    num = int((log10_l_max - log10_l_min) / dlogell) + 1\n",
    "    # print(num)\n",
    "\n",
    "    # Define evaluation ell values (uniform grid)\n",
    "    ell_eval = jnp.logspace(log10_l_min, log10_l_max, num=num)\n",
    "    \n",
    "    return ell_eval"
   ]
  },
  {
   "cell_type": "markdown",
   "metadata": {},
   "source": [
    "## Set up the integration grid"
   ]
  },
  {
   "cell_type": "code",
   "execution_count": 324,
   "metadata": {},
   "outputs": [],
   "source": [
    "def get_integral_grid(params_values_dict = None):\n",
    "    \n",
    "    rparams = classy_sz.get_all_relevant_params(params_values_dict = params_values_dict)\n",
    "    allparams = classy_sz.pars\n",
    "    \n",
    "\n",
    "    z_min = allparams['z_min']\n",
    "    z_max = allparams['z_max']\n",
    "    z_grid = jnp.geomspace(z_min, z_max, 100)\n",
    "    \n",
    "    h = rparams['h']\n",
    "    # Define an m_grid:\n",
    "    M_min = allparams['M_min']\n",
    "    M_max = allparams['M_max']\n",
    "    m_grid_yl = jnp.geomspace(M_min,M_max,100)\n",
    "    # m_grid_dndlnm = jnp.geomspace(M_min,M_max,100) * h\n",
    "\n",
    "\n",
    "    def get_yellm_for_z(zp):\n",
    "        ell, y_ellm = y_ell_interpolate(zp, m_grid_yl, params_values_dict = params_values_dict)\n",
    "        # print(y_ellm)\n",
    "        # print(ell.shape)\n",
    "        # ell, y_ellm = y_ell_complete(zp, m_grid_yl, params_values_dict=cosmo_params)\n",
    "        return ell, y_ellm\n",
    "    \n",
    "    def get_hmf_for_z(zp):\n",
    "        # dndlnm = get_hmf_at_z_and_m(z = zp, m=m_grid_dndlnm, params_values_dict=cosmo_params)\n",
    "        dndlnm = get_hmf_at_z_and_m(z = zp, m=m_grid_yl, params_values_dict= params_values_dict)\n",
    "        return dndlnm\n",
    " \n",
    "\n",
    "    # Vectorize this function over `z_grid`\n",
    "    # y_ell_mz_grid = jax.vmap(get_yellm_for_z)(z_grid)\n",
    "    ell, y_ell_mz_grid = jax.vmap(get_yellm_for_z)(z_grid)\n",
    "    dndlnm_grid = jax.vmap(get_hmf_for_z)(z_grid)\n",
    "    # print(y_ell_mz_grid.shape)\n",
    "    # print(dndlnm_grid.shape)\n",
    "\n",
    "    # print(z_grid)\n",
    "    # print(y_ell_mz_grid)\n",
    "    # Ensure `dndlnm_grid` has a compatible shape for broadcasting\n",
    "    dndlnm_grid_expanded = dndlnm_grid[:, :, None]  # Shape becomes (100, 100, 1)\n",
    "\n",
    "    comov_vol = dVdzdOmega(z_grid, params_values_dict=params_values_dict)\n",
    "\n",
    "    # Expand comov_vol to align with the shape of `result`\n",
    "    comov_vol_expanded = comov_vol[:, None, None]  # Shape becomes (100, 1, 1)\n",
    "\n",
    "    # Perform element-wise multiplication\n",
    "    result = y_ell_mz_grid**2 * dndlnm_grid_expanded * comov_vol_expanded  # Shape becomes (100, 100, 18)= (dim_z, dim_m, dim_ell)\n",
    "    # result = y_ell_mz_grid\n",
    "    # prefactor = y_ell_prefactor(z_grid, m_grid_yl, params_values_dict=cosmo_params)\n",
    "\n",
    "    # Perform element-wise multiplication\n",
    "    # result = y_ell_mz_grid * dndlnm_grid_expanded  # Shape becomes (100, 100, 18)  \n",
    "    # print(result.shape) \n",
    "    # print(ell.shape)\n",
    "    return result\n",
    "    \n",
    "    "
   ]
  },
  {
   "cell_type": "code",
   "execution_count": 325,
   "metadata": {},
   "outputs": [],
   "source": [
    "def compute_integral(params_values_dict = None):\n",
    "\n",
    "    allparams = classy_sz.pars\n",
    "\n",
    "    integrand = get_integral_grid(params_values_dict = params_values_dict) # shape is (dim_z, dim_m, dim_ell) \n",
    "    # ell = get_integral_grid()[0]\n",
    "    # print(integrand.shape)\n",
    "    # print(ell.shape)\n",
    "\n",
    "    z_min = allparams['z_min']\n",
    "    z_max = allparams['z_max']\n",
    "    z_grid = jnp.geomspace(z_min, z_max, 100)\n",
    "    \n",
    "\n",
    "    # Define an m_grid:\n",
    "    M_min = allparams['M_min']\n",
    "    M_max = allparams['M_max']\n",
    "    m_grid = jnp.geomspace(M_min,M_max,100)\n",
    "    logm_grid = jnp.log(m_grid)\n",
    "\n",
    "\n",
    "    # ell = get_ell_range()\n",
    "    # ell = y_ell_complete(z=1, m=m_grid, params_values_dict = cosmo_params)[0]\n",
    "    # This will store the integrated value for each ell\n",
    "    C_yy = jnp.zeros(len(ell))\n",
    "\n",
    "    for i in range(len(ell)):\n",
    "        # 1) Integrate over m\n",
    "        #    integrand[:, :, i] has shape (dim_z, dim_m)\n",
    "        partial_m = simpson(integrand[:, :, i], x=logm_grid, dx=(logm_grid[1]-logm_grid[0]),axis=1)\n",
    "        # partial_m = jnp.trapezoid(integrand[:, :, i], x=logm_grid, dx=(logm_grid[1]-logm_grid[0]),axis=1)\n",
    "        # partial_m = simpson(integrand[:, :, i], x=m_grid, axis=1)\n",
    "        # partial_m now has shape (dim_z,)\n",
    "\n",
    "        # 2) Integrate the result over z\n",
    "        result = simpson(partial_m, x=z_grid, dx = (z_grid[1]-z_grid[0]), axis=0)\n",
    "        # result = jnp.trapezoid(partial_m, x=z_grid, dx = (z_grid[1]-z_grid[0]), axis=0)\n",
    "\n",
    "        # Store the result for this ell\n",
    "        C_yy = C_yy.at[i].set(result)\n",
    "            \n",
    "    return C_yy  "
   ]
  },
  {
   "cell_type": "markdown",
   "metadata": {},
   "source": [
    "## Compute the integral"
   ]
  },
  {
   "cell_type": "code",
   "execution_count": 326,
   "metadata": {},
   "outputs": [
    {
     "name": "stdout",
     "output_type": "stream",
     "text": [
      "329 ms ± 5.17 ms per loop (mean ± std. dev. of 5 runs, 10 loops each)\n"
     ]
    }
   ],
   "source": [
    "%timeit -n 10 -r 5  C_yy = compute_integral(params_values_dict = allpars)\n",
    "C_yy = compute_integral(params_values_dict = allpars)"
   ]
  },
  {
   "cell_type": "code",
   "execution_count": 327,
   "metadata": {},
   "outputs": [
    {
     "data": {
      "image/png": "[encoded data removed]",
      "text/plain": [
       "<Figure size 640x480 with 1 Axes>"
      ]
     },
     "metadata": {},
     "output_type": "display_data"
    }
   ],
   "source": [
    "# ell=ell-0.5\n",
    "plt.plot(ell, ell*(ell+1)*C_yy*1e12/(2*jnp.pi))\n",
    "plt.xscale('log')\n",
    "plt.yscale('log')\n",
    "plt.xlabel(r'$\\ell$')\n",
    "plt.ylabel(r'$10^{12} D_{\\ell}^{y y}$')\n",
    "plt.grid(visible=True, which=\"both\", alpha=0.2, linestyle='--')\n",
    "plt.show()"
   ]
  },
  {
   "cell_type": "code",
   "execution_count": 328,
   "metadata": {},
   "outputs": [
    {
     "name": "stdout",
     "output_type": "stream",
     "text": [
      "ell peak 3183.1792787940494\n",
      "y_max: 2.3421387915639857\n"
     ]
    }
   ],
   "source": [
    "# Calculate the y values for the plot\n",
    "y_values = ell * (ell + 1) * C_yy * 1e12/2/jnp.pi\n",
    "# y_values = ell * (ell + 1) * C_yy * 1e12\n",
    "\n",
    "# Find the maximum value and the corresponding ell\n",
    "max_y = np.max(y_values)\n",
    "ell_max = ell[np.argmax(y_values)]\n",
    "print(\"ell peak\",ell_max)\n",
    "print(\"y_max:\",max_y)"
   ]
  },
  {
   "cell_type": "markdown",
   "metadata": {},
   "source": [
    "### Note, peak value is too low, should be ~2.60 from class_sz, cannot find the reason"
   ]
  },
  {
   "cell_type": "markdown",
   "metadata": {},
   "source": [
    "## Compute derivative with JAX"
   ]
  },
  {
   "cell_type": "code",
   "execution_count": 329,
   "metadata": {},
   "outputs": [],
   "source": [
    "Omega_cdm = 0.26\n",
    "# omega_cdm = 0.11933\n",
    "def cl_yy(Omega_cdm):\n",
    "    \n",
    "    # allpars = classy_sz.get_all_relevant_params(params_values_dict = allpars)\n",
    "    allpars.update({'omega_cdm': Omega_cdm*(allpars['H0']/100)**2})\n",
    "    cl_yy = compute_integral(params_values_dict = allpars)\n",
    "    \n",
    "    return cl_yy"
   ]
  },
  {
   "cell_type": "code",
   "execution_count": 330,
   "metadata": {},
   "outputs": [],
   "source": [
    "from jax import jacfwd\n",
    "dcl_yy_domegac = jacfwd(cl_yy)\n",
    "# %timeit -n 10 -r 5 dcl_yy_dsigma8(0.8)"
   ]
  },
  {
   "cell_type": "code",
   "execution_count": 331,
   "metadata": {},
   "outputs": [
    {
     "data": {
      "text/plain": [
       "Array([2.15701591e-14, 2.15026174e-14, 2.13971202e-14, 2.12332778e-14,\n",
       "       2.09814923e-14, 2.06009544e-14, 2.00400820e-14, 1.92428905e-14,\n",
       "       1.81648609e-14, 1.67964553e-14, 1.51807833e-14, 1.34053608e-14,\n",
       "       1.15726599e-14, 9.77972653e-15, 8.10929497e-15, 6.61961002e-15,\n",
       "       5.33872054e-15, 4.26776165e-15, 3.38982600e-15, 2.67891779e-15,\n",
       "       2.10713193e-15, 1.64868917e-15, 1.28164954e-15, 9.88143910e-16,\n",
       "       7.53980284e-16, 5.67973725e-16, 4.21282006e-16, 3.06820705e-16,\n",
       "       2.18798726e-16, 1.52363724e-16, 1.03340666e-16, 6.81008254e-17,\n",
       "       4.35043406e-17, 2.68873578e-17, 1.60479554e-17, 9.23637343e-18,\n",
       "       5.11973893e-18], dtype=float64)"
      ]
     },
     "execution_count": 331,
     "metadata": {},
     "output_type": "execute_result"
    }
   ],
   "source": [
    "dcl_yy_domegac(0.26)"
   ]
  },
  {
   "cell_type": "code",
   "execution_count": 332,
   "metadata": {},
   "outputs": [
    {
     "data": {
      "image/png": "[encoded data removed]",
      "text/plain": [
       "<Figure size 640x480 with 1 Axes>"
      ]
     },
     "metadata": {},
     "output_type": "display_data"
    },
    {
     "name": "stdout",
     "output_type": "stream",
     "text": [
      "CPU times: user 1.12 s, sys: 75.8 ms, total: 1.19 s\n",
      "Wall time: 950 ms\n"
     ]
    }
   ],
   "source": [
    "%%time\n",
    "plt.loglog(ell, 1e12*ell*(ell+1)*jnp.abs(dcl_yy_domegac(0.26))/2/jnp.pi)\n",
    "# print(allpars)\n",
    "plt.grid(which = 'both',alpha=0.1)\n",
    "plt.xlabel(r\"$\\ell$\")\n",
    "plt.ylabel(r\"$|\\partial \\mathrm{C_\\ell^{yy}}/\\partial \\Omega_c|$\")\n",
    "plt.show()"
   ]
  },
  {
   "cell_type": "code",
   "execution_count": 333,
   "metadata": {},
   "outputs": [],
   "source": [
    "# plt.loglog(ell, ell*(ell+1)*C_yy*1e12/(2*jnp.pi)*3.2/0.26)\n",
    "# plt.grid(which = 'both',alpha=0.1)\n",
    "# plt.show()"
   ]
  }
 ],
 "metadata": {
  "kernelspec": {
   "display_name": "jax_env",
   "language": "python",
   "name": "python3"
  },
  "language_info": {
   "codemirror_mode": {
    "name": "ipython",
    "version": 3
   },
   "file_extension": ".py",
   "mimetype": "text/x-python",
   "name": "python",
   "nbconvert_exporter": "python",
   "pygments_lexer": "ipython3",
   "version": "3.12.4"
  }
 },
 "nbformat": 4,
 "nbformat_minor": 2
}
