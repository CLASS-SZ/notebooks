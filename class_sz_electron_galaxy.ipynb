{
 "cells": [
  {
   "cell_type": "markdown",
   "id": "a3461285-3f18-4ba7-9619-4ead5fa207c5",
   "metadata": {},
   "source": [
    "# Intialize"
   ]
  },
  {
   "cell_type": "code",
   "execution_count": 22,
   "id": "dd77bdd4-5984-4527-9a21-82574543d1e8",
   "metadata": {},
   "outputs": [],
   "source": [
    "%matplotlib inline\n",
    "import matplotlib\n",
    "import matplotlib.pyplot as plt\n",
    "import numpy as np\n",
    "from classy_sz import Class\n",
    "import os\n",
    "import time\n",
    "\n",
    "\n",
    "# the parameters needed for cosmology:\n",
    "# use the last column of Planck 2018 (https://arxiv.org/pdf/1807.06209.pdf)\n",
    "# TT,TE,EE+lowE+lensing+BAO\n",
    "cosmo_params = {\n",
    "'omega_b': 0.02242,\n",
    "'omega_cdm':  0.11933,\n",
    "'H0': 67.66,\n",
    "'tau_reio': 0.0561,\n",
    "'ln10^{10}A_s': 3.047,\n",
    "'n_s': 0.9665,\n",
    " \n",
    "}\n",
    "\n",
    "\n",
    "\n",
    "\n",
    "common_params = {\n",
    "\n",
    "'z_min' : 0.005,\n",
    "'z_max' : 3.0,\n",
    "'M_min' : 1.0e10, \n",
    "'M_max' : 3.5e15,\n",
    "    \n",
    "\n",
    "# 'delta for galaxies' : \"200c\",\n",
    "# 'delta for matter density' : \"200c\",\n",
    "# 'delta for electron density':\"200c\",    \n",
    "\n",
    "'mass function' : 'T08M200c',\n",
    "'concentration parameter' : 'B13',\n",
    "\n",
    "'redshift_epsabs': 1.0e-40,\n",
    "'redshift_epsrel': 0.0005,\n",
    "'mass_epsabs': 1.0e-40,\n",
    "'mass_epsrel': 0.0005,\n",
    "\n",
    "\n",
    "'ell_max': 1600.0,\n",
    "'ell_min': 2.0,\n",
    "'dell': 10,\n",
    "\n",
    "'non_linear' : 'hmcode',\n",
    "\n",
    "'hm_consistency' : 1,\n",
    "# 'x_outSZ': 4.,\n",
    "# 'truncate_wrt_rvir':0,\n",
    "}\n",
    "\n",
    "\n",
    "import os \n",
    "path_to_class_sz = os.getcwd() + '/../../class_sz/'\n",
    "\n",
    "# a simple conversion from cl's to dl's\n",
    "def l_to_dl(lp):\n",
    "    return lp*(lp+1.)/2./np.pi"
   ]
  },
  {
   "cell_type": "code",
   "execution_count": 23,
   "id": "67fe81d1-95dd-4d5e-8b61-0f317c03ae42",
   "metadata": {},
   "outputs": [
    {
     "data": {
      "text/plain": [
       "'/Users/boris/opt/miniconda3/lib/python3.9/site-packages/classy_sz-2.9.4-py3.9-macosx-11.0-arm64.egg/classy_sz.cpython-39-darwin.so'"
      ]
     },
     "execution_count": 23,
     "metadata": {},
     "output_type": "execute_result"
    }
   ],
   "source": [
    "import classy_sz\n",
    "classy_sz.__file__\n"
   ]
  },
  {
   "cell_type": "code",
   "execution_count": 37,
   "id": "ebb65920-5a2f-492a-a5e5-e04f03d4407a",
   "metadata": {},
   "outputs": [],
   "source": [
    "ksz_params = {\n",
    "'output': 'tau_gal_1h,tau_gal_2h',\n",
    "\n",
    "# 'pressure profile':'B16',\n",
    "# 'gas profile mode' :'agn',\n",
    "    \n",
    "\"ell_min\" : 2,\n",
    "\"ell_max\" : 20000,\n",
    "'dell': 0,\n",
    "'dlogell': 0.2,\n",
    "    \n",
    "'M_min' : 1.0e10, \n",
    "'M_max' : 5e15,\n",
    "\n",
    "'gas profile':'B16',\n",
    "'gas profile mode' : 'custom', # important to read values of parameters\n",
    "'use_xout_in_density_profile_from_enclosed_mass' : 1,\n",
    "'n_z_m_to_xout' : 30,\n",
    "'n_mass_m_to_xout' : 30,\n",
    "\n",
    "    \n",
    "\n",
    "'n_m_density_profile' :30, # default: 100, decrease for faster\n",
    "'n_z_density_profile' :30, # default: 100, decrease for faster\n",
    "\n",
    "\n",
    "    \n",
    "'k_min_samp_fftw' : 1e-3,\n",
    "'k_max_samp_fftw' : 1e3,\n",
    "'N_samp_fftw' : 1024,\n",
    "    \n",
    "    \n",
    "'hm_consistency' : 1,\n",
    "    \n",
    "    \n",
    "'use_fft_for_profiles_transform' : 1,\n",
    "    \n",
    "    \n",
    "'x_min_gas_density_fftw' : 1e-6,\n",
    "'x_max_gas_density_fftw' : 1e5,    \n",
    "    \n",
    "}\n",
    "\n",
    "HOD_blue = {\n",
    "'sigma_log10M_HOD': 0.68660116,\n",
    "'alpha_s_HOD':    1.3039425,\n",
    "'M1_prime_HOD': 10**12.701308, # Msun/h\n",
    "'M_min_HOD': 10**11.795964, # Msun/h\n",
    "'M0_HOD' :0,\n",
    "'x_out_truncated_nfw_profile_satellite_galaxies':  1.0868995,\n",
    "'f_cen_HOD' : 1., \n",
    "    \n",
    "'galaxy_sample': 'unwise',\n",
    "'galaxy_sample_id': \"blue\",\n",
    "'UNWISE_dndz_file': path_to_class_sz +\"/class_sz_auxiliary_files/normalised_dndz_cosmos.txt\"\n",
    "}"
   ]
  },
  {
   "cell_type": "code",
   "execution_count": 38,
   "id": "2b679b49-795a-49b5-9440-af6959351f95",
   "metadata": {},
   "outputs": [
    {
     "name": "stdout",
     "output_type": "stream",
     "text": [
      "CPU times: user 1.64 s, sys: 78.6 ms, total: 1.72 s\n",
      "Wall time: 389 ms\n"
     ]
    }
   ],
   "source": [
    "%%time\n",
    "\n",
    "M = Class()\n",
    "\n",
    "M.set(common_params)\n",
    "M.set(cosmo_params)\n",
    "M.set(ksz_params)\n",
    "M.set(HOD_blue)\n",
    "M.set({\n",
    "'use_fft_for_profiles_transform' : 1,\n",
    "'ndim_redshifts':30, ## precision parameter -- how many z in redshift grid.\n",
    "})\n",
    "M.compute_class_szfast() # fast mode works\n",
    "# M.compute() # slow mode works"
   ]
  },
  {
   "cell_type": "code",
   "execution_count": 39,
   "id": "9ed95e42-d23c-4715-a45a-bf61393cea5a",
   "metadata": {},
   "outputs": [],
   "source": [
    "l = np.asarray(M.cl_sz()['ell'])\n",
    "cl_eg_1h = np.asarray(M.cl_eg()['1h'])/l_to_dl(l)\n",
    "cl_eg_2h = np.asarray(M.cl_eg()['2h'])/l_to_dl(l)\n"
   ]
  },
  {
   "cell_type": "code",
   "execution_count": 40,
   "id": "59dcf226-9372-43eb-b8f1-e7fe08516356",
   "metadata": {},
   "outputs": [
    {
     "data": {
      "text/plain": [
       "array([2.00000000e+00, 2.44280552e+00, 2.98364940e+00, 3.64423760e+00,\n",
       "       4.45108186e+00, 5.43656366e+00, 6.64023385e+00, 8.11039993e+00,\n",
       "       9.90606485e+00, 1.20992949e+01, 1.47781122e+01, 1.80500270e+01,\n",
       "       2.20463528e+01, 2.69274761e+01, 3.28892935e+01, 4.01710738e+01,\n",
       "       4.90650604e+01, 5.99282001e+01, 7.31964689e+01, 8.94023690e+01,\n",
       "       1.09196300e+02, 1.33372662e+02, 1.62901737e+02, 1.98968631e+02,\n",
       "       2.43020835e+02, 2.96826318e+02, 3.62544484e+02, 4.42812832e+02,\n",
       "       5.40852815e+02, 6.60599120e+02, 8.06857587e+02, 9.85498082e+02,\n",
       "       1.20369008e+03, 1.47019038e+03, 1.79569458e+03, 2.19326632e+03,\n",
       "       2.67886153e+03, 3.27196886e+03, 3.99639179e+03, 4.88120396e+03,\n",
       "       5.96191597e+03, 7.28190061e+03, 8.89413350e+03, 1.08633192e+04,\n",
       "       1.32684880e+04, 1.62061679e+04, 1.97942581e+04])"
      ]
     },
     "execution_count": 40,
     "metadata": {},
     "output_type": "execute_result"
    }
   ],
   "source": [
    "l"
   ]
  },
  {
   "cell_type": "code",
   "execution_count": 41,
   "id": "7e211b08-8a4e-4dc8-8eef-aafc5a66ae42",
   "metadata": {},
   "outputs": [
    {
     "data": {
      "text/plain": [
       "(0.0, 1e-10)"
      ]
     },
     "execution_count": 41,
     "metadata": {},
     "output_type": "execute_result"
    },
    {
     "data": {
      "image/png": "[encoded data removed]",
      "text/plain": [
       "<Figure size 640x480 with 1 Axes>"
      ]
     },
     "metadata": {},
     "output_type": "display_data"
    }
   ],
   "source": [
    "plt.plot(l,cl_eg_1h,label='1h')\n",
    "plt.plot(l,cl_eg_2h,label='2h')\n",
    "plt.legend()\n",
    "# plt.yscale('log')\n",
    "# plt.yscale('log')\n",
    "plt.ylim(0,1e-10)"
   ]
  },
  {
   "cell_type": "code",
   "execution_count": 42,
   "id": "6d702e10-a66e-4994-b724-1f202daa30a1",
   "metadata": {},
   "outputs": [],
   "source": [
    "np.savetxt(\"cleg_l_1h_2h_1p2h.txt\",np.c_[l,cl_eg_1h,cl_eg_2h,cl_eg_1h+cl_eg_2h])"
   ]
  },
  {
   "cell_type": "code",
   "execution_count": null,
   "id": "bc346637-e96d-4327-9c50-dbc28efcf3b6",
   "metadata": {},
   "outputs": [],
   "source": []
  }
 ],
 "metadata": {
  "kernelspec": {
   "display_name": "Python 3 (ipykernel)",
   "language": "python",
   "name": "python3"
  },
  "language_info": {
   "codemirror_mode": {
    "name": "ipython",
    "version": 3
   },
   "file_extension": ".py",
   "mimetype": "text/x-python",
   "name": "python",
   "nbconvert_exporter": "python",
   "pygments_lexer": "ipython3",
   "version": "3.9.13"
  }
 },
 "nbformat": 4,
 "nbformat_minor": 5
}
