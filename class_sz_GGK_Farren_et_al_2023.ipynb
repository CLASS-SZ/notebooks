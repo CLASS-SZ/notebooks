{
  "nbformat": 4,
  "nbformat_minor": 0,
  "metadata": {
    "colab": {
      "provenance": [],
      "authorship_tag": "ABX9TyPobFpAkrhQ6LTybyd1iECw",
      "include_colab_link": true
    },
    "kernelspec": {
      "name": "python3",
      "display_name": "Python 3"
    },
    "language_info": {
      "name": "python"
    }
  },
  "cells": [
    {
      "cell_type": "markdown",
      "metadata": {
        "id": "view-in-github",
        "colab_type": "text"
      },
      "source": [
        "<a href=\"https://colab.research.google.com/github/CLASS-SZ/notebooks/blob/main/class_sz_GGK_Farren_et_al_2023.ipynb\" target=\"_parent\"><img src=\"https://colab.research.google.com/assets/colab-badge.svg\" alt=\"Open In Colab\"/></a>"
      ]
    },
    {
      "cell_type": "markdown",
      "source": [
        "Prediction for Galaxy - CMB Lensing compressed bispectrum"
      ],
      "metadata": {
        "id": "a67r-j8x6Nv8"
      }
    },
    {
      "cell_type": "code",
      "source": [],
      "metadata": {
        "id": "i_7Bl73d6NCI"
      },
      "execution_count": null,
      "outputs": []
    }
  ]
}