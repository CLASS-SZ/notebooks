{
 "cells": [
  {
   "cell_type": "markdown",
   "id": "ac99cae1-dd42-4603-8aa5-82952d01fd53",
   "metadata": {},
   "source": [
    "# Prerequisites"
   ]
  },
  {
   "cell_type": "markdown",
   "id": "d33e0fa9-7784-4d78-b801-755ad172d003",
   "metadata": {},
   "source": [
    "# class_sz\n",
    "\n",
    "To intstall class_sz, follow carefully the instructions given in the README file of the code repository. "
   ]
  },
  {
   "cell_type": "code",
   "execution_count": 1,
   "id": "db6283b3-8950-4f99-a6d8-31c1c9e76a9e",
   "metadata": {},
   "outputs": [
    {
     "name": "stdout",
     "output_type": "stream",
     "text": [
      "Metal device set to: Apple M1 Pro\n",
      "WARNING:tensorflow:Please fix your imports. Module tensorflow.python.training.tracking.data_structures has been moved to tensorflow.python.trackable.data_structures. The old module will be deleted in version 2.11.\n"
     ]
    },
    {
     "name": "stderr",
     "output_type": "stream",
     "text": [
      "2023-04-02 01:50:36.542707: I tensorflow/core/common_runtime/pluggable_device/pluggable_device_factory.cc:306] Could not identify NUMA node of platform GPU ID 0, defaulting to 0. Your kernel may not have been built with NUMA support.\n",
      "2023-04-02 01:50:36.542828: I tensorflow/core/common_runtime/pluggable_device/pluggable_device_factory.cc:272] Created TensorFlow device (/job:localhost/replica:0/task:0/device:GPU:0 with 0 MB memory) -> physical PluggableDevice (device: 0, name: METAL, pci bus id: <undefined>)\n"
     ]
    },
    {
     "data": {
      "text/plain": [
       "'/Users/boris/opt/miniconda3/lib/python3.9/site-packages/classy_sz-2.9.4-py3.9-macosx-11.0-arm64.egg/classy_sz.cpython-39-darwin.so'"
      ]
     },
     "execution_count": 1,
     "metadata": {},
     "output_type": "execute_result"
    }
   ],
   "source": [
    "import classy_sz\n",
    "classy_sz.__file__"
   ]
  },
  {
   "cell_type": "markdown",
   "id": "9080465b-7fca-4fcf-b3bb-b87867a1b2aa",
   "metadata": {},
   "source": [
    "## cosmopower"
   ]
  },
  {
   "cell_type": "markdown",
   "id": "9d84e201-ceaf-4abe-9b80-8772b7bf09c7",
   "metadata": {},
   "source": [
    "To install cosmopower, visit:\n",
    "\n",
    "https://github.com/alessiospuriomancini/cosmopower\n",
    "\n",
    "\n",
    "Check cosmopower is installed:"
   ]
  },
  {
   "cell_type": "code",
   "execution_count": 2,
   "id": "29933714-ef8b-4c2b-8cfc-9add6f1e7d3c",
   "metadata": {},
   "outputs": [],
   "source": [
    "import cosmopower"
   ]
  },
  {
   "cell_type": "markdown",
   "id": "9e9114e6-73ab-4596-977b-2b3224c5a264",
   "metadata": {},
   "source": [
    "## cobaya"
   ]
  },
  {
   "cell_type": "markdown",
   "id": "d23e35a7-4b85-4849-b349-ef6af53a1a24",
   "metadata": {},
   "source": [
    "To install cobaya, visit: \n",
    "\n",
    "https://cobaya.readthedocs.io/en/latest/installation.html\n",
    "\n",
    "Check cobaya is installed:"
   ]
  },
  {
   "cell_type": "code",
   "execution_count": 3,
   "id": "8ae082cd-0917-4cca-a76c-61340544c6e7",
   "metadata": {},
   "outputs": [],
   "source": [
    "import cobaya"
   ]
  },
  {
   "cell_type": "markdown",
   "id": "36c6e0a5-c9d9-4929-b94b-09bcde3e2cbc",
   "metadata": {},
   "source": [
    "## getdist"
   ]
  },
  {
   "cell_type": "markdown",
   "id": "b6b6a8d1-1ae6-4bea-8b59-c626b2ef54bd",
   "metadata": {},
   "source": [
    "To install getdist, visit:\n",
    "\n",
    "https://getdist.readthedocs.io/en/latest/intro.html\n",
    "\n",
    "Check getdist is installed\n"
   ]
  },
  {
   "cell_type": "code",
   "execution_count": 4,
   "id": "3be39aac-329f-468a-aebc-c9466b82dd67",
   "metadata": {},
   "outputs": [],
   "source": [
    "import getdist"
   ]
  },
  {
   "cell_type": "markdown",
   "id": "3555edfe-74da-4835-95c6-c738cf1d2132",
   "metadata": {},
   "source": [
    "## cosmopower emulators\n",
    "\n",
    "Make a cosmopower-organtization repository to store the emulaotors. It can be wherever on your system: <br>\n",
    "\n",
    "$ mkdir cosmopower-organtization <br>\n",
    "\n",
    "Then clone the emulators inside it: <br>\n",
    "\n",
    "$ cd cosmopower-organtization <br>\n",
    "\n",
    "$ git clone https://github.com/cosmopower-organization/lcdm.git <br>\n",
    "\n",
    "Now we need to set the path to this repository. <br>\n",
    "Mine is several levels above where we are now, so: (**adapt to your needs!**)"
   ]
  },
  {
   "cell_type": "code",
   "execution_count": 5,
   "id": "37701d83-4dad-4770-89b9-ca9ae2dc1564",
   "metadata": {},
   "outputs": [],
   "source": [
    "import os\n",
    "root_path = os.path.abspath(\"\")\n",
    "path_to_cosmopower_organization = root_path + '/../../../../../cosmopower-organization/' "
   ]
  },
  {
   "cell_type": "markdown",
   "id": "26df01b6-cebc-4f7c-b200-db24c5ed36de",
   "metadata": {},
   "source": [
    "Finally, the path to the emulators is:"
   ]
  },
  {
   "cell_type": "code",
   "execution_count": 6,
   "id": "5fe9e624-48cd-497c-8383-e0a29e8f274e",
   "metadata": {},
   "outputs": [],
   "source": [
    "path_to_emulators = path_to_cosmopower_organization + 'lcdm/'"
   ]
  },
  {
   "cell_type": "markdown",
   "id": "afcd4ef1-eea8-4c0b-a49d-5edc28001367",
   "metadata": {},
   "source": [
    "Check that these paths are correctly set:"
   ]
  },
  {
   "cell_type": "code",
   "execution_count": 7,
   "id": "4d779fb9-ca55-4a40-ae96-956e391aaa4b",
   "metadata": {},
   "outputs": [
    {
     "name": "stdout",
     "output_type": "stream",
     "text": [
      "inside lcdm:\n",
      "\u001b[34mPK\u001b[m\u001b[m\n",
      "\u001b[34mPP\u001b[m\u001b[m\n",
      "README.md\n",
      "\u001b[34mTTTEEE\u001b[m\u001b[m\n",
      "\u001b[34mderived-parameters\u001b[m\u001b[m\n",
      "\u001b[34mgrowth-and-distances\u001b[m\u001b[m\n",
      "0\n"
     ]
    }
   ],
   "source": [
    "import subprocess\n",
    "path_to_emulators = path_to_cosmopower_organization + 'lcdm/'\n",
    "str_cmd_subprocess = [\"ls\",path_to_emulators]\n",
    "print('inside lcdm:')\n",
    "print(subprocess.call(str_cmd_subprocess))\n",
    "\n"
   ]
  },
  {
   "cell_type": "markdown",
   "id": "63b7ffdd-20e9-48f8-9971-94dbea44c32c",
   "metadata": {},
   "source": [
    "# Initialize"
   ]
  },
  {
   "cell_type": "code",
   "execution_count": 8,
   "id": "d775e88a-d96b-40a0-be0c-6a4ef571365b",
   "metadata": {},
   "outputs": [],
   "source": [
    "import numpy as np\n",
    "import scipy\n",
    "import yaml\n",
    "\n",
    "\n",
    "from getdist import loadMCSamples, MCSamples\n",
    "from getdist import plots\n",
    "\n",
    "from cosmopower import cosmopower_NN\n",
    "from cosmopower import cosmopower_PCAplusNN\n",
    "\n",
    "\n",
    "import cobaya\n",
    "\n",
    "\n",
    "#\n",
    "import matplotlib\n",
    "import matplotlib.pyplot as plt\n",
    "%matplotlib inline\n",
    "#\n",
    "font = {'size'   : 16, 'family':'STIXGeneral'}\n",
    "axislabelfontsize='large'\n",
    "matplotlib.rc('font', **font)"
   ]
  },
  {
   "cell_type": "markdown",
   "id": "d47bbba9-f504-4c08-aba7-be6077199217",
   "metadata": {},
   "source": [
    "We will save chains in the chain directory insied the repository where this notebook is"
   ]
  },
  {
   "cell_type": "code",
   "execution_count": 9,
   "id": "3cb7a120-3dd9-4278-b3ed-ee031d7d73c3",
   "metadata": {},
   "outputs": [
    {
     "name": "stdout",
     "output_type": "stream",
     "text": [
      "/Users/boris/Work/CLASS-SZ/SO-SZ/class_sz_organization/notebooks/mcmcs/cobaya/notebooks/../chains/\n"
     ]
    }
   ],
   "source": [
    "path_to_chains_dir = root_path + '/../chains/'\n",
    "\n",
    "print(path_to_chains_dir)"
   ]
  },
  {
   "cell_type": "markdown",
   "id": "3f980fd1-f97f-437f-8c95-0c89331c7536",
   "metadata": {},
   "source": [
    "Path to the cobaya packages, see the cobaya documentation.  (**adapt to your needs!**)"
   ]
  },
  {
   "cell_type": "code",
   "execution_count": 10,
   "id": "5ed5223c-37d1-47ec-9690-95f9e4e8cb19",
   "metadata": {},
   "outputs": [],
   "source": [
    "path_to_cobaya_packages_data = '/Users/boris/Work/CLASS-SZ/SO-SZ/cobaya_packages/data'"
   ]
  },
  {
   "cell_type": "markdown",
   "id": "2fa2601f-d79c-4f1a-898d-d62d27e3807e",
   "metadata": {},
   "source": [
    "Load the emulators:"
   ]
  },
  {
   "cell_type": "code",
   "execution_count": 11,
   "id": "d905041b-e566-4ce5-9dec-797c8b9afc9e",
   "metadata": {},
   "outputs": [
    {
     "name": "stdout",
     "output_type": "stream",
     "text": [
      "CPU times: user 12.2 ms, sys: 7.12 ms, total: 19.3 ms\n",
      "Wall time: 20 ms\n"
     ]
    }
   ],
   "source": [
    "%%time\n",
    "path_to_emulators = path_to_cosmopower_organization + 'lcdm/'\n",
    "\n",
    "\n",
    "cp_der_nn = cosmopower_NN(restore=True,\n",
    "                      restore_filename=path_to_emulators + 'derived-parameters/DER_v1',\n",
    "                      )\n"
   ]
  },
  {
   "cell_type": "markdown",
   "id": "79cbe133-21ec-4c9d-b96b-9a005b0d8186",
   "metadata": {},
   "source": [
    "# Planck Lensing + SDSS $f\\sigma_8$ - LCDM"
   ]
  },
  {
   "cell_type": "markdown",
   "id": "e12b576f-75c9-4a46-a26e-936805442294",
   "metadata": {},
   "source": [
    "## Set-up of the input file"
   ]
  },
  {
   "cell_type": "markdown",
   "id": "4dcba7a2-300f-4cf5-b6a5-9518fc9c465f",
   "metadata": {},
   "source": [
    "We need to load the template and add the correct paths to the data files and where we save the chains:"
   ]
  },
  {
   "cell_type": "code",
   "execution_count": 12,
   "id": "f277fce6-a29e-41c8-8f79-acc15868aacb",
   "metadata": {},
   "outputs": [
    {
     "name": "stdout",
     "output_type": "stream",
     "text": [
      "{'output': 'planck_lensing_and_sdssfs8', 'likelihood': {'planck_2018_lensing.CMBMarged': {'path': '/path/to/cobaya_packages/data/planck_supp_data_and_covmats'}, 'bao.sdss_dr12_consensus_full_shape': {'path': '/path/to/cobaya_packages/data/'}}, 'theory': None, 'params': {'omega_b': {'prior': {'min': 0.01933, 'max': 0.02533}, 'ref': {'dist': 'norm', 'loc': 0.022211104, 'scale': 0.00088253849}, 'proposal': 0.00088253849, 'latex': '\\\\omega_\\\\mathrm{b}'}, 'omega_cdm': {'prior': {'min': 0.08, 'max': 0.2}, 'ref': {'dist': 'norm', 'loc': 0.12590565, 'scale': 0.012255042}, 'proposal': 0.012255042, 'latex': '\\\\omega_\\\\mathrm{cdm}'}, 'H0': {'prior': {'min': 40.0, 'max': 99.0}, 'ref': {'dist': 'norm', 'loc': 69.351243, 'scale': 12.0}, 'proposal': 12.0, 'latex': 'H_0'}, 'n_s': {'prior': {'min': 0.8812, 'max': 1.0492}, 'ref': {'dist': 'norm', 'loc': 0.95989286, 'scale': 0.019465327}, 'proposal': 0.019465327, 'latex': 'n_s'}, 'logA': {'prior': {'min': 2.5, 'max': 3.5}, 'ref': {'dist': 'norm', 'loc': 2.9939341, 'scale': 0.12892144}, 'proposal': 0.12892144, 'latex': 'ln10^{10}A_s'}, 'tau_reio': 0.055}, 'prior': {'ns_prior': 'lambda n_s: stats.norm.logpdf(n_s, loc=0.96, scale=0.02)', 'omb_prior': 'lambda omega_b: stats.norm.logpdf(omega_b, loc=0.0222, scale=0.0005)'}, 'sampler': {'mcmc': {'covmat': 'planck_lensing_and_sdssfs8.covmat', 'Rminus1_stop': 0.01, 'proposal_scale': 1.9, 'burn_in': 50, 'max_tries': 5000, 'learn_proposal': True, 'learn_proposal_Rminus1_max': 30.0, 'learn_proposal_Rminus1_max_early': 80.0}}}\n"
     ]
    }
   ],
   "source": [
    "Dict_yaml = yaml.safe_load(open('../input_files/planck_lensing_and_sdssfs8-classy_sz.yaml'))\n",
    "print(Dict_yaml)"
   ]
  },
  {
   "cell_type": "code",
   "execution_count": 13,
   "id": "596844d5-dff6-4bd3-93f7-a7d485f0452c",
   "metadata": {},
   "outputs": [],
   "source": [
    "Dict_yaml['output'] = path_to_chains_dir +'planck_lensing_and_sdssfs8'\n",
    "Dict_yaml['sampler']['mcmc']['covmat'] = path_to_chains_dir + '../covmats/planck_lensing_and_sdssfs8.covmat'\n",
    "Dict_yaml['sampler']['mcmc']['Rminus1_stop'] = 0.5\n",
    "Dict_yaml['likelihood']['planck_2018_lensing.CMBMarged']['path'] = path_to_cobaya_packages_data + '/planck_supp_data_and_covmats'\n",
    "Dict_yaml['likelihood']['bao.sdss_dr12_consensus_full_shape']['path'] = path_to_cobaya_packages_data \n",
    "\n",
    "\n",
    "Dict_yaml['theory'] = {}\n",
    "Dict_yaml['theory']['classy_szfast.classy_sz.classy_sz'] = {}\n",
    "Dict_yaml['theory']['classy_szfast.classy_sz.classy_sz']['use_class_sz_fast_mode'] = 1\n",
    "\n",
    "Dict_yaml['theory']['classy_szfast.classy_sz.classy_sz']['lensing_lkl'] = 'Planck'\n",
    "Dict_yaml['theory']['classy_szfast.classy_sz.classy_sz']['stop_at_error'] = True\n",
    "Dict_yaml['theory']['classy_szfast.classy_sz.classy_sz']['extra_args'] = {}\n",
    "Dict_yaml['theory']['classy_szfast.classy_sz.classy_sz']['extra_args']['output'] = 'tCl,lCl,pCl'\n",
    "Dict_yaml['theory']['classy_szfast.classy_sz.classy_sz']['extra_args']['ndim_redshifts'] = 4 # doesnt matter if you dont need pk\n",
    "Dict_yaml['theory']['classy_szfast.classy_sz.classy_sz']['extra_args']['skip_background_and_thermo'] = 1\n",
    "Dict_yaml['theory']['classy_szfast.classy_sz.classy_sz']['extra_args']['skip_pk'] = 1 # for this run we dont need pk's\n",
    "\n",
    "with open('../input_files/planck_lensing_and_sdssfs8_system.yaml', 'w') as outfile:\n",
    "    yaml.dump(Dict_yaml, outfile, default_flow_style=False)"
   ]
  },
  {
   "cell_type": "markdown",
   "id": "7943f14c-c16c-472f-b828-973668367f3d",
   "metadata": {},
   "source": [
    "## Run the chains"
   ]
  },
  {
   "cell_type": "code",
   "execution_count": 14,
   "id": "006ca237-fef8-4465-9d57-d5ba01aae1b4",
   "metadata": {
    "tags": []
   },
   "outputs": [
    {
     "name": "stdout",
     "output_type": "stream",
     "text": [
      "[0 : output] Output to be read-from/written-into folder '/Users/boris/Work/CLASS-SZ/SO-SZ/class_sz_organization/notebooks/mcmcs/cobaya/notebooks/../chains', with prefix 'planck_lensing_and_sdssfs8'\n",
      "[0 : output] Found existing info files with the requested output prefix: '/Users/boris/Work/CLASS-SZ/SO-SZ/class_sz_organization/notebooks/mcmcs/cobaya/notebooks/../chains/planck_lensing_and_sdssfs8'\n",
      "[0 : output] Will delete previous products ('force' was requested).\n",
      "Metal device set to: Apple M1 Pro\n",
      "\n",
      "systemMemory: 16.00 GB\n",
      "maxCacheSize: 5.33 GB\n",
      "\n",
      "Metal device set to: Apple M1 Pro\n",
      "\n",
      "systemMemory: 16.00 GB\n",
      "maxCacheSize: 5.33 GB\n",
      "\n",
      "Metal device set to: Apple M1 Pro\n",
      "\n",
      "systemMemory: 16.00 GB\n",
      "maxCacheSize: 5.33 GB\n",
      "\n",
      "Metal device set to: Apple M1 Pro\n",
      "\n",
      "systemMemory: 16.00 GB\n",
      "maxCacheSize: 5.33 GB\n",
      "\n",
      "[0 : tensorflow] *WARNING* Please fix your imports. Module tensorflow.python.training.tracking.data_structures has been moved to tensorflow.python.trackable.data_structures. The old module will be deleted in version 2.11.\n",
      "[1 : tensorflow] *WARNING* Please fix your imports. Module tensorflow.python.training.tracking.data_structures has been moved to tensorflow.python.trackable.data_structures. The old module will be deleted in version 2.11.\n",
      "[2 : tensorflow] *WARNING* Please fix your imports. Module tensorflow.python.training.tracking.data_structures has been moved to tensorflow.python.trackable.data_structures. The old module will be deleted in version 2.11.\n",
      "[3 : tensorflow] *WARNING* Please fix your imports. Module tensorflow.python.training.tracking.data_structures has been moved to tensorflow.python.trackable.data_structures. The old module will be deleted in version 2.11.\n"
     ]
    },
    {
     "name": "stderr",
     "output_type": "stream",
     "text": [
      "2023-04-02 01:50:52.448195: I tensorflow/core/common_runtime/pluggable_device/pluggable_device_factory.cc:306] Could not identify NUMA node of platform GPU ID 0, defaulting to 0. Your kernel may not have been built with NUMA support.\n",
      "2023-04-02 01:50:52.448378: I tensorflow/core/common_runtime/pluggable_device/pluggable_device_factory.cc:272] Created TensorFlow device (/job:localhost/replica:0/task:0/device:GPU:0 with 0 MB memory) -> physical PluggableDevice (device: 0, name: METAL, pci bus id: <undefined>)\n",
      "2023-04-02 01:50:52.448462: I tensorflow/core/common_runtime/pluggable_device/pluggable_device_factory.cc:306] Could not identify NUMA node of platform GPU ID 0, defaulting to 0. Your kernel may not have been built with NUMA support.\n",
      "2023-04-02 01:50:52.448574: I tensorflow/core/common_runtime/pluggable_device/pluggable_device_factory.cc:272] Created TensorFlow device (/job:localhost/replica:0/task:0/device:GPU:0 with 0 MB memory) -> physical PluggableDevice (device: 0, name: METAL, pci bus id: <undefined>)\n",
      "2023-04-02 01:50:52.448584: I tensorflow/core/common_runtime/pluggable_device/pluggable_device_factory.cc:306] Could not identify NUMA node of platform GPU ID 0, defaulting to 0. Your kernel may not have been built with NUMA support.\n",
      "2023-04-02 01:50:52.448708: I tensorflow/core/common_runtime/pluggable_device/pluggable_device_factory.cc:272] Created TensorFlow device (/job:localhost/replica:0/task:0/device:GPU:0 with 0 MB memory) -> physical PluggableDevice (device: 0, name: METAL, pci bus id: <undefined>)\n",
      "2023-04-02 01:50:52.449208: I tensorflow/core/common_runtime/pluggable_device/pluggable_device_factory.cc:306] Could not identify NUMA node of platform GPU ID 0, defaulting to 0. Your kernel may not have been built with NUMA support.\n",
      "2023-04-02 01:50:52.449326: I tensorflow/core/common_runtime/pluggable_device/pluggable_device_factory.cc:272] Created TensorFlow device (/job:localhost/replica:0/task:0/device:GPU:0 with 0 MB memory) -> physical PluggableDevice (device: 0, name: METAL, pci bus id: <undefined>)\n"
     ]
    },
    {
     "name": "stdout",
     "output_type": "stream",
     "text": [
      "[0 : prior] *WARNING* External prior 'ns_prior' loaded. Mind that it might not be normalized!\n",
      "[0 : prior] *WARNING* External prior 'omb_prior' loaded. Mind that it might not be normalized!\n",
      "[0 : classy_szfast.classy_sz.classy_sz] Initialized!\n",
      "[1 : classy_szfast.classy_sz.classy_sz] Initialized!\n",
      "[2 : classy_szfast.classy_sz.classy_sz] Initialized!\n",
      "[3 : classy_szfast.classy_sz.classy_sz] Initialized!\n",
      "[2 : bao.sdss_dr12_consensus_full_shape] Initialized.\n",
      "[3 : bao.sdss_dr12_consensus_full_shape] Initialized.\n",
      "[0 : bao.sdss_dr12_consensus_full_shape] Initialized.\n",
      "[1 : bao.sdss_dr12_consensus_full_shape] Initialized.\n",
      "[1 : mcmc] Getting initial point... (this may take a few seconds)\n",
      "[3 : mcmc] Getting initial point... (this may take a few seconds)\n",
      "[2 : mcmc] Getting initial point... (this may take a few seconds)\n",
      "[0 : mcmc] Getting initial point... (this may take a few seconds)\n",
      "[0 : model] Measuring speeds... (this may take a few seconds)\n",
      "[0 : model] Setting measured speeds (per sec): {bao.sdss_dr12_consensus_full_shape: 2060.0, planck_2018_lensing.CMBMarged: 1180.0, classy_szfast.classy_sz.classy_sz: 5.81}\n",
      "[0 : mcmc] Initial point: H0:60.00961, logA:2.840253, n_s:0.9585662, omega_b:0.02247438, omega_cdm:0.1281654\n",
      "[2 : mcmc] Initial point: H0:76.48488, logA:2.921041, n_s:0.9374835, omega_b:0.02277465, omega_cdm:0.1212091\n",
      "[1 : mcmc] Initial point: H0:58.13081, logA:2.88102, n_s:0.9486928, omega_b:0.02340196, omega_cdm:0.1346136\n",
      "[3 : mcmc] Initial point: H0:64.30515, logA:3.068847, n_s:0.9585163, omega_b:0.02289259, omega_cdm:0.149704\n",
      "[0 : mcmc] Covariance matrix loaded for params ['H0', 'logA', 'n_s', 'omega_b', 'omega_cdm']\n",
      "[0 : mcmc] All parameters' covariance loaded from given covmat.\n",
      "[0 : mcmc] Sampling! (NB: no accepted step will be saved until 50 burn-in samples have been obtained)\n",
      "[2 : mcmc] Progress @ 2023-04-02 01:50:55 : 1 steps taken -- still burning in, 51 accepted steps left.\n",
      "[3 : mcmc] Progress @ 2023-04-02 01:50:55 : 1 steps taken -- still burning in, 51 accepted steps left.\n",
      "[0 : mcmc] Progress @ 2023-04-02 01:50:55 : 1 steps taken -- still burning in, 50 accepted steps left.\n",
      "[1 : mcmc] Progress @ 2023-04-02 01:50:55 : 1 steps taken -- still burning in, 51 accepted steps left.\n",
      "[3 : mcmc] Finished burn-in phase: discarded 50 accepted steps.\n",
      "[2 : mcmc] Finished burn-in phase: discarded 50 accepted steps.\n",
      "[0 : mcmc] Finished burn-in phase: discarded 50 accepted steps.\n",
      "[1 : mcmc] Finished burn-in phase: discarded 50 accepted steps.\n",
      "[3 : mcmc] Progress @ 2023-04-02 01:51:55 : 1490 steps taken, and 68 accepted.\n",
      "[2 : mcmc] Progress @ 2023-04-02 01:51:55 : 1529 steps taken, and 77 accepted.\n",
      "[1 : mcmc] Progress @ 2023-04-02 01:51:55 : 1415 steps taken, and 72 accepted.\n",
      "[0 : mcmc] Progress @ 2023-04-02 01:51:55 : 1485 steps taken, and 65 accepted.\n",
      "[3 : mcmc] Progress @ 2023-04-02 01:52:55 : 2910 steps taken, and 189 accepted.\n",
      "[2 : mcmc] Progress @ 2023-04-02 01:52:55 : 2982 steps taken, and 188 accepted.\n",
      "[1 : mcmc] Progress @ 2023-04-02 01:52:55 : 2853 steps taken, and 180 accepted.\n",
      "[0 : mcmc] Progress @ 2023-04-02 01:52:55 : 2909 steps taken, and 170 accepted.\n",
      "[2 : mcmc] Learn + convergence test @ 200 samples accepted.\n",
      "[2 : mcmc] Ready to check convergence and learn a new proposal covmat (waiting for the rest...)\n",
      "[3 : mcmc] Learn + convergence test @ 200 samples accepted.\n",
      "[3 : mcmc] Ready to check convergence and learn a new proposal covmat (waiting for the rest...)\n",
      "[0 : mcmc] Learn + convergence test @ 200 samples accepted.\n",
      "[0 : mcmc] Ready to check convergence and learn a new proposal covmat (waiting for the rest...)\n",
      "[1 : mcmc] Learn + convergence test @ 200 samples accepted.\n",
      "[1 : mcmc] Ready to check convergence and learn a new proposal covmat (waiting for the rest...)\n",
      "[0 : mcmc] All chains are ready to check convergence and learn a new proposal covmat\n",
      "[0 : mcmc]  - Acceptance rate: 0.076 = avg([0.08205521472392638, 0.07331378299120235, 0.07247340425531915, 0.07686932215234102])\n",
      "[0 : mcmc]  - Convergence of means: R-1 = 0.228925 after 851 accepted steps = sum([214, 200, 218, 219])\n",
      "[0 : mcmc]  - Updated covariance matrix of proposal pdf.\n",
      "[3 : mcmc] Learn + convergence test @ 400 samples accepted.\n",
      "[3 : mcmc] Ready to check convergence and learn a new proposal covmat (waiting for the rest...)\n",
      "[0 : mcmc] Learn + convergence test @ 400 samples accepted.\n",
      "[0 : mcmc] Ready to check convergence and learn a new proposal covmat (waiting for the rest...)\n",
      "[2 : mcmc] Learn + convergence test @ 400 samples accepted.\n",
      "[2 : mcmc] Ready to check convergence and learn a new proposal covmat (waiting for the rest...)\n",
      "[1 : mcmc] Learn + convergence test @ 400 samples accepted.\n",
      "[1 : mcmc] Ready to check convergence and learn a new proposal covmat (waiting for the rest...)\n",
      "[0 : mcmc] All chains are ready to check convergence and learn a new proposal covmat\n",
      "[0 : mcmc]  - Acceptance rate: 0.404 = avg([0.43202979515828677, 0.352112676056338, 0.4014084507042254, 0.4249084249084249])\n",
      "[0 : mcmc]  - Convergence of means: R-1 = 0.158297 after 1781 accepted steps = sum([463, 400, 455, 463])\n",
      "[0 : mcmc]  - Convergence of bounds: R-1 = 0.221634 after 1781 accepted steps = sum([463, 400, 455, 463])\n",
      "[0 : mcmc]  - Updated covariance matrix of proposal pdf.\n",
      "[2 : mcmc] Progress @ 2023-04-02 01:53:55 : 4289 steps taken, and 575 accepted.\n",
      "[3 : mcmc] Progress @ 2023-04-02 01:53:55 : 4202 steps taken, and 563 accepted.\n",
      "[0 : mcmc] Progress @ 2023-04-02 01:53:55 : 4224 steps taken, and 573 accepted.\n",
      "[1 : mcmc] Progress @ 2023-04-02 01:53:56 : 4121 steps taken, and 521 accepted.\n",
      "[2 : mcmc] Learn + convergence test @ 600 samples accepted.\n",
      "[2 : mcmc] Ready to check convergence and learn a new proposal covmat (waiting for the rest...)\n",
      "[0 : mcmc] Learn + convergence test @ 600 samples accepted.\n",
      "[0 : mcmc] Ready to check convergence and learn a new proposal covmat (waiting for the rest...)\n",
      "[3 : mcmc] Learn + convergence test @ 600 samples accepted.\n",
      "[3 : mcmc] Ready to check convergence and learn a new proposal covmat (waiting for the rest...)\n",
      "[1 : mcmc] Learn + convergence test @ 600 samples accepted.\n",
      "[1 : mcmc] Ready to check convergence and learn a new proposal covmat (waiting for the rest...)\n",
      "[0 : mcmc] All chains are ready to check convergence and learn a new proposal covmat\n",
      "[0 : mcmc]  - Acceptance rate: 0.389 = avg([0.38498212157330153, 0.39421813403416556, 0.4043583535108959, 0.37252619324796277])\n",
      "[0 : mcmc]  - Convergence of means: R-1 = 0.057146 after 2553 accepted steps = sum([646, 600, 668, 639])\n",
      "[0 : mcmc]  - Convergence of bounds: R-1 = 0.208421 after 2553 accepted steps = sum([646, 600, 668, 639])\n",
      "[0 : mcmc]  - Updated covariance matrix of proposal pdf.\n",
      "[2 : mcmc] Learn + convergence test @ 800 samples accepted.\n",
      "[2 : mcmc] Ready to check convergence and learn a new proposal covmat (waiting for the rest...)\n",
      "[0 : mcmc] Learn + convergence test @ 800 samples accepted.\n",
      "[0 : mcmc] Ready to check convergence and learn a new proposal covmat (waiting for the rest...)\n",
      "[3 : mcmc] Learn + convergence test @ 800 samples accepted.\n",
      "[3 : mcmc] Ready to check convergence and learn a new proposal covmat (waiting for the rest...)\n",
      "[1 : mcmc] Learn + convergence test @ 800 samples accepted.\n",
      "[1 : mcmc] Ready to check convergence and learn a new proposal covmat (waiting for the rest...)\n",
      "[0 : mcmc] All chains are ready to check convergence and learn a new proposal covmat\n",
      "[0 : mcmc]  - Acceptance rate: 0.368 = avg([0.37392795883361923, 0.36934441366574333, 0.3772609819121447, 0.3527454242928453])\n",
      "[0 : mcmc]  - Convergence of means: R-1 = 0.070664 after 3395 accepted steps = sum([872, 800, 875, 848])\n",
      "[0 : mcmc]  - Convergence of bounds: R-1 = 0.208006 after 3395 accepted steps = sum([872, 800, 875, 848])\n",
      "[0 : mcmc]  - Updated covariance matrix of proposal pdf.\n",
      "[0 : mcmc] Learn + convergence test @ 1000 samples accepted.\n",
      "[0 : mcmc] Ready to check convergence and learn a new proposal covmat (waiting for the rest...)\n",
      "[2 : mcmc] Learn + convergence test @ 1000 samples accepted.\n",
      "[2 : mcmc] Ready to check convergence and learn a new proposal covmat (waiting for the rest...)\n",
      "[3 : mcmc] Learn + convergence test @ 1000 samples accepted.\n",
      "[3 : mcmc] Ready to check convergence and learn a new proposal covmat (waiting for the rest...)\n",
      "[2 : mcmc] Progress @ 2023-04-02 01:54:55 : 5531 steps taken, and 1010 accepted.\n",
      "[3 : mcmc] Progress @ 2023-04-02 01:54:55 : 5437 steps taken, and 1010 accepted.\n",
      "[0 : mcmc] Progress @ 2023-04-02 01:54:56 : 5443 steps taken, and 1024 accepted.\n",
      "[1 : mcmc] Progress @ 2023-04-02 01:54:56 : 5339 steps taken, and 948 accepted.\n",
      "[1 : mcmc] Learn + convergence test @ 1000 samples accepted.\n",
      "[1 : mcmc] Ready to check convergence and learn a new proposal covmat (waiting for the rest...)\n",
      "[0 : mcmc] All chains are ready to check convergence and learn a new proposal covmat\n",
      "[0 : mcmc]  - Acceptance rate: 0.361 = avg([0.3706777316735823, 0.3599712023038157, 0.3541666666666667, 0.3595352016404648])\n",
      "[0 : mcmc]  - Convergence of means: R-1 = 0.064243 after 4177 accepted steps = sum([1072, 1000, 1054, 1051])\n",
      "[0 : mcmc]  - Convergence of bounds: R-1 = 0.195643 after 4177 accepted steps = sum([1072, 1000, 1054, 1051])\n",
      "[0 : mcmc] The run has converged!\n",
      "[0 : mcmc] Sampling complete after 4177 accepted steps.\n",
      "\u001b[0m\u001b[0m\u001b[0m\u001b[0mCPU times: user 36 ms, sys: 74.2 ms, total: 110 ms\n",
      "Wall time: 4min 15s\n"
     ]
    },
    {
     "data": {
      "text/plain": [
       "0"
      ]
     },
     "execution_count": 14,
     "metadata": {},
     "output_type": "execute_result"
    }
   ],
   "source": [
    "%%time\n",
    "str_cmd_subprocess = [\"mpirun\",\n",
    "                      \"-np\",\"4\",\n",
    "                      \"cobaya-run\",\n",
    "                      \"../input_files/planck_lensing_and_sdssfs8_system.yaml\",\n",
    "                      \"-f\"]\n",
    "subprocess.call(str_cmd_subprocess)"
   ]
  },
  {
   "cell_type": "markdown",
   "id": "c990ff5d-9261-4c05-9a99-aded5413855e",
   "metadata": {},
   "source": [
    "# Plot with getdist"
   ]
  },
  {
   "cell_type": "markdown",
   "id": "e65baa9b-f38c-4859-9a17-cd4c0a929567",
   "metadata": {},
   "source": [
    "## Analyse"
   ]
  },
  {
   "cell_type": "code",
   "execution_count": 15,
   "id": "9f40f3e2-226e-45ae-8561-f56d2611568b",
   "metadata": {},
   "outputs": [
    {
     "name": "stdout",
     "output_type": "stream",
     "text": [
      "running getdist on chains /Users/boris/Work/CLASS-SZ/SO-SZ/class_sz_organization/notebooks/mcmcs/cobaya/notebooks/../chains/planck_lensing_and_sdssfs8\n"
     ]
    },
    {
     "name": "stderr",
     "output_type": "stream",
     "text": [
      "WARNING:root:outlier fraction 0.0023937761819269898 \n",
      "producing files in directory  ./\n",
      "Removed 0.2 as burn in\n",
      "using 3342 rows, 13 parameters; mean weight 2.760023937761819, tot weight 9224.0\n",
      "Approx indep samples (N/corr length): 404\n",
      "Equiv number of single samples (sum w)/max(w): 91\n",
      "Effective number of weighted samples (sum w)^2/sum(w^2): 1495\n",
      "Best fit sample -log(Like) = -7.037876\n",
      "Ln(mean 1/like) = -3.086099\n",
      "mean(-Ln(like)) = -4.759206\n",
      "-Ln(mean like)  = -5.456535\n",
      "WARNING:root:outlier fraction 0.0006839945280437756 \n",
      "WARNING:root:outlier fraction 0.0006839945280437756 \n"
     ]
    },
    {
     "name": "stdout",
     "output_type": "stream",
     "text": [
      "producing files in directory  ./\n",
      "/Users/boris/Work/CLASS-SZ/SO-SZ/class_sz_organization/notebooks/mcmcs/cobaya/notebooks/../chains/planck_lensing_and_sdssfs8.2.txt\n",
      "/Users/boris/Work/CLASS-SZ/SO-SZ/class_sz_organization/notebooks/mcmcs/cobaya/notebooks/../chains/planck_lensing_and_sdssfs8.3.txt\n",
      "/Users/boris/Work/CLASS-SZ/SO-SZ/class_sz_organization/notebooks/mcmcs/cobaya/notebooks/../chains/planck_lensing_and_sdssfs8.1.txt\n",
      "/Users/boris/Work/CLASS-SZ/SO-SZ/class_sz_organization/notebooks/mcmcs/cobaya/notebooks/../chains/planck_lensing_and_sdssfs8.4.txt\n",
      "Removed 0.2 as burn in\n",
      "Number of chains used =  4\n",
      " var(mean)/mean(var), remaining chains, worst e-value: R-1 =       0.05077\n",
      "RL: Not enough samples to estimate convergence stats\n",
      "using 3342 rows, 13 parameters; mean weight 2.760023937761819, tot weight 9224.0\n",
      "Approx indep samples (N/corr length): 404\n",
      "Equiv number of single samples (sum w)/max(w): 91\n",
      "Effective number of weighted samples (sum w)^2/sum(w^2): 1495\n",
      "Best fit sample -log(Like) = -7.037876\n",
      "Ln(mean 1/like) = -3.086099\n",
      "mean(-Ln(like)) = -4.759206\n",
      "-Ln(mean like)  = -5.456535\n",
      "adding derived parameters\n"
     ]
    },
    {
     "name": "stderr",
     "output_type": "stream",
     "text": [
      "WARNING:root:outlier fraction 0.0006839945280437756 \n"
     ]
    },
    {
     "name": "stdout",
     "output_type": "stream",
     "text": [
      "S8d5:  S_8 = 0.797\\pm 0.033\n",
      "CPU times: user 386 ms, sys: 37.3 ms, total: 423 ms\n",
      "Wall time: 818 ms\n"
     ]
    }
   ],
   "source": [
    "%%time\n",
    "path_to_chains = []\n",
    "final_chain_dir_list = []\n",
    "\n",
    "\n",
    "final_chain_dir_list.append(path_to_chains_dir +'planck_lensing_and_sdssfs8')\n",
    "path_to_chains.append(path_to_chains_dir)\n",
    "\n",
    "current_path = os.path.abspath(\"\")\n",
    "\n",
    "for i in range(len(final_chain_dir_list)):\n",
    "    os.chdir(path_to_chains[i])\n",
    "    print('running getdist on chains ' + final_chain_dir_list[i])\n",
    "    str_cmd_subprocess = [\"nice\",\"-n\",\"19\",'getdist',final_chain_dir_list[i],\"--ignore_rows\",\"0.2\"]\n",
    "    subprocess.call(str_cmd_subprocess)\n",
    "os.chdir(current_path)\n",
    "\n",
    "all_samples = []\n",
    "\n",
    "i=0\n",
    "readsamps = loadMCSamples(final_chain_dir_list[i],settings={'ignore_rows':0.3})\n",
    "p = readsamps.getParams()\n",
    "print('adding derived parameters')\n",
    "params_cp = {}\n",
    "params_cp['omega_b'] = p.omega_b\n",
    "params_cp['omega_cdm'] = p.omega_cdm\n",
    "params_cp['ln10^{10}A_s'] = p.logA\n",
    "params_cp['n_s'] = p.n_s\n",
    "params_cp['tau_reio'] = np.repeat(0.055,len(p.logA))\n",
    "params_cp['H0'] = p.H0\n",
    "predicted_der_params = cp_der_nn.ten_to_predictions_np(params_cp)\n",
    "readsamps.addDerived(predicted_der_params[:,1],name='sigma8',label=r'\\sigma_8')\n",
    "readsamps.addDerived(predicted_der_params[:,0],name='theta_s_1e2',label=r'100*\\theta_s')\n",
    "p = readsamps.getParams()\n",
    "readsamps.addDerived((p.H0/100.)**-2.*(p.omega_b+p.omega_cdm),name='Ombc',label=r'\\Omega_m')\n",
    "\n",
    "p = readsamps.getParams()\n",
    "readsamps.addDerived(p.sigma8*(p.Ombc/0.3)**0.5,name='S8d5',label=r'S_8')\n",
    "Fs = readsamps.getInlineLatex('S8d5',limit=1)\n",
    "print('S8d5: ',Fs)\n",
    "\n",
    "samples = readsamps\n",
    "samples.updateBaseStatistics()\n",
    "all_samples.append(samples)"
   ]
  },
  {
   "cell_type": "markdown",
   "id": "d706d8e5-5e40-46fd-98f2-797b71426d1b",
   "metadata": {},
   "source": [
    "## Plot contours"
   ]
  },
  {
   "cell_type": "code",
   "execution_count": 16,
   "id": "68620086-6d94-4d0d-be29-6338fb20cb7c",
   "metadata": {},
   "outputs": [
    {
     "data": {
      "image/png": "[encoded data removed]",
      "text/plain": [
       "<Figure size 1000x1000 with 36 Axes>"
      ]
     },
     "metadata": {},
     "output_type": "display_data"
    }
   ],
   "source": [
    "g = plots.getSubplotPlotter()\n",
    "g.settings.fig_width_inch = 10\n",
    "\n",
    "g.settings.axes_fontsize = 10\n",
    "g.settings.lab_fontsize =13\n",
    "\n",
    "g.settings.legend_fontsize = 14\n",
    "g.settings.alpha_filled_add=0.1\n",
    "g.settings.colorbar_label_pad = 20.\n",
    "g.settings.figure_legend_frame = False\n",
    "\n",
    "g.settings.title_limit=0 #uncomment if you want to display marg stats.\n",
    "\n",
    "sample_list = []\n",
    "for s in range(len(all_samples)):\n",
    "\n",
    "    sample_list.append(all_samples[s])\n",
    "    \n",
    "g.triangle_plot(sample_list,\n",
    "    [\n",
    "    'omega_cdm',\n",
    "    'omega_b',\n",
    "    'logA',\n",
    "    'n_s',\n",
    "    'H0',\n",
    "    'sigma8',\n",
    "    'Ombc',\n",
    "    'S8d5',\n",
    "    ],\n",
    "\n",
    "    filled=[True,False],\n",
    "    legend_labels=[ 'classy_sz'],\n",
    "    legend_loc='upper right',\n",
    "    colors = ['blue','red','green','red'],\n",
    "    line_args=[{'lw':'1','color':'blue'},{'lw':'1','color':'red'},{'lw':'1','color':'green'},{'lw':'1','color':'r'}]\n",
    "                   )\n",
    "\n",
    "\n",
    "g.export(path_to_chains_dir +'planck_lensing_and_sdssfs8_contours_classy_sz.pdf')"
   ]
  },
  {
   "cell_type": "code",
   "execution_count": null,
   "id": "76d795f9-50e1-4351-90e7-4ca422561f7f",
   "metadata": {},
   "outputs": [],
   "source": []
  }
 ],
 "metadata": {
  "kernelspec": {
   "display_name": "Python 3 (ipykernel)",
   "language": "python",
   "name": "python3"
  },
  "language_info": {
   "codemirror_mode": {
    "name": "ipython",
    "version": 3
   },
   "file_extension": ".py",
   "mimetype": "text/x-python",
   "name": "python",
   "nbconvert_exporter": "python",
   "pygments_lexer": "ipython3",
   "version": "3.9.13"
  }
 },
 "nbformat": 4,
 "nbformat_minor": 5
}
