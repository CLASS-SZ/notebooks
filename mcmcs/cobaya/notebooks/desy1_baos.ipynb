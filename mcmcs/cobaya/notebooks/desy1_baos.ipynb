{
 "cells": [
  {
   "cell_type": "markdown",
   "id": "ac99cae1-dd42-4603-8aa5-82952d01fd53",
   "metadata": {},
   "source": [
    "# Prerequisites"
   ]
  },
  {
   "cell_type": "markdown",
   "id": "d33e0fa9-7784-4d78-b801-755ad172d003",
   "metadata": {},
   "source": [
    "# class_sz\n",
    "\n",
    "To intstall class_sz, follow carefully the instructions given in the README file of the code repository. "
   ]
  },
  {
   "cell_type": "code",
   "execution_count": 1,
   "id": "db6283b3-8950-4f99-a6d8-31c1c9e76a9e",
   "metadata": {},
   "outputs": [
    {
     "name": "stdout",
     "output_type": "stream",
     "text": [
      "Metal device set to: Apple M1 Pro\n",
      "WARNING:tensorflow:Please fix your imports. Module tensorflow.python.training.tracking.data_structures has been moved to tensorflow.python.trackable.data_structures. The old module will be deleted in version 2.11.\n"
     ]
    },
    {
     "name": "stderr",
     "output_type": "stream",
     "text": [
      "2023-04-02 01:30:25.077102: I tensorflow/core/common_runtime/pluggable_device/pluggable_device_factory.cc:306] Could not identify NUMA node of platform GPU ID 0, defaulting to 0. Your kernel may not have been built with NUMA support.\n",
      "2023-04-02 01:30:25.077229: I tensorflow/core/common_runtime/pluggable_device/pluggable_device_factory.cc:272] Created TensorFlow device (/job:localhost/replica:0/task:0/device:GPU:0 with 0 MB memory) -> physical PluggableDevice (device: 0, name: METAL, pci bus id: <undefined>)\n"
     ]
    },
    {
     "data": {
      "text/plain": [
       "'/Users/boris/opt/miniconda3/lib/python3.9/site-packages/classy_sz-2.9.4-py3.9-macosx-11.0-arm64.egg/classy_sz.cpython-39-darwin.so'"
      ]
     },
     "execution_count": 1,
     "metadata": {},
     "output_type": "execute_result"
    }
   ],
   "source": [
    "import classy_sz\n",
    "classy_sz.__file__"
   ]
  },
  {
   "cell_type": "markdown",
   "id": "9080465b-7fca-4fcf-b3bb-b87867a1b2aa",
   "metadata": {},
   "source": [
    "## cosmopower"
   ]
  },
  {
   "cell_type": "markdown",
   "id": "9d84e201-ceaf-4abe-9b80-8772b7bf09c7",
   "metadata": {},
   "source": [
    "To install cosmopower, visit:\n",
    "\n",
    "https://github.com/alessiospuriomancini/cosmopower\n",
    "\n",
    "\n",
    "Check cosmopower is installed:"
   ]
  },
  {
   "cell_type": "code",
   "execution_count": 2,
   "id": "29933714-ef8b-4c2b-8cfc-9add6f1e7d3c",
   "metadata": {},
   "outputs": [],
   "source": [
    "import cosmopower"
   ]
  },
  {
   "cell_type": "markdown",
   "id": "9e9114e6-73ab-4596-977b-2b3224c5a264",
   "metadata": {},
   "source": [
    "## cobaya"
   ]
  },
  {
   "cell_type": "markdown",
   "id": "d23e35a7-4b85-4849-b349-ef6af53a1a24",
   "metadata": {},
   "source": [
    "To install cobaya, visit: \n",
    "\n",
    "https://cobaya.readthedocs.io/en/latest/installation.html\n",
    "\n",
    "Check cobaya is installed:"
   ]
  },
  {
   "cell_type": "code",
   "execution_count": 3,
   "id": "8ae082cd-0917-4cca-a76c-61340544c6e7",
   "metadata": {},
   "outputs": [],
   "source": [
    "import cobaya"
   ]
  },
  {
   "cell_type": "markdown",
   "id": "36c6e0a5-c9d9-4929-b94b-09bcde3e2cbc",
   "metadata": {},
   "source": [
    "## getdist"
   ]
  },
  {
   "cell_type": "markdown",
   "id": "b6b6a8d1-1ae6-4bea-8b59-c626b2ef54bd",
   "metadata": {},
   "source": [
    "To install getdist, visit:\n",
    "\n",
    "https://getdist.readthedocs.io/en/latest/intro.html\n",
    "\n",
    "Check getdist is installed\n"
   ]
  },
  {
   "cell_type": "code",
   "execution_count": 4,
   "id": "3be39aac-329f-468a-aebc-c9466b82dd67",
   "metadata": {},
   "outputs": [],
   "source": [
    "import getdist"
   ]
  },
  {
   "cell_type": "markdown",
   "id": "3555edfe-74da-4835-95c6-c738cf1d2132",
   "metadata": {},
   "source": [
    "## cosmopower emulators\n",
    "\n",
    "Make a cosmopower-organtization repository to store the emulaotors. It can be wherever on your system: <br>\n",
    "\n",
    "$ mkdir cosmopower-organtization <br>\n",
    "\n",
    "Then clone the emulators inside it: <br>\n",
    "\n",
    "$ cd cosmopower-organtization <br>\n",
    "\n",
    "$ git clone https://github.com/cosmopower-organization/lcdm.git <br>\n",
    "\n",
    "Now we need to set the path to this repository. <br>\n",
    "Mine is several levels above where we are now, so: (**adapt to your needs!**)"
   ]
  },
  {
   "cell_type": "code",
   "execution_count": 5,
   "id": "37701d83-4dad-4770-89b9-ca9ae2dc1564",
   "metadata": {},
   "outputs": [],
   "source": [
    "import os\n",
    "root_path = os.path.abspath(\"\")\n",
    "path_to_cosmopower_organization = root_path + '/../../../../../cosmopower-organization/' "
   ]
  },
  {
   "cell_type": "markdown",
   "id": "26df01b6-cebc-4f7c-b200-db24c5ed36de",
   "metadata": {},
   "source": [
    "Finally, the path to the emulators is:"
   ]
  },
  {
   "cell_type": "code",
   "execution_count": 6,
   "id": "5fe9e624-48cd-497c-8383-e0a29e8f274e",
   "metadata": {},
   "outputs": [],
   "source": [
    "path_to_emulators = path_to_cosmopower_organization + 'lcdm/'"
   ]
  },
  {
   "cell_type": "markdown",
   "id": "afcd4ef1-eea8-4c0b-a49d-5edc28001367",
   "metadata": {},
   "source": [
    "Check that these paths are correctly set:"
   ]
  },
  {
   "cell_type": "code",
   "execution_count": 7,
   "id": "4d779fb9-ca55-4a40-ae96-956e391aaa4b",
   "metadata": {},
   "outputs": [
    {
     "name": "stdout",
     "output_type": "stream",
     "text": [
      "inside lcdm:\n",
      "\u001b[34mPK\u001b[m\u001b[m\n",
      "\u001b[34mPP\u001b[m\u001b[m\n",
      "README.md\n",
      "\u001b[34mTTTEEE\u001b[m\u001b[m\n",
      "\u001b[34mderived-parameters\u001b[m\u001b[m\n",
      "\u001b[34mgrowth-and-distances\u001b[m\u001b[m\n",
      "0\n"
     ]
    }
   ],
   "source": [
    "import subprocess\n",
    "path_to_emulators = path_to_cosmopower_organization + 'lcdm/'\n",
    "str_cmd_subprocess = [\"ls\",path_to_emulators]\n",
    "print('inside lcdm:')\n",
    "print(subprocess.call(str_cmd_subprocess))\n",
    "\n"
   ]
  },
  {
   "cell_type": "markdown",
   "id": "63b7ffdd-20e9-48f8-9971-94dbea44c32c",
   "metadata": {},
   "source": [
    "# Initialize"
   ]
  },
  {
   "cell_type": "code",
   "execution_count": 8,
   "id": "d775e88a-d96b-40a0-be0c-6a4ef571365b",
   "metadata": {},
   "outputs": [],
   "source": [
    "import numpy as np\n",
    "import scipy\n",
    "import yaml\n",
    "\n",
    "\n",
    "from getdist import loadMCSamples, MCSamples\n",
    "from getdist import plots\n",
    "\n",
    "from cosmopower import cosmopower_NN\n",
    "from cosmopower import cosmopower_PCAplusNN\n",
    "\n",
    "\n",
    "import cobaya\n",
    "\n",
    "\n",
    "#\n",
    "import matplotlib\n",
    "import matplotlib.pyplot as plt\n",
    "%matplotlib inline\n",
    "#\n",
    "font = {'size'   : 16, 'family':'STIXGeneral'}\n",
    "axislabelfontsize='large'\n",
    "matplotlib.rc('font', **font)"
   ]
  },
  {
   "cell_type": "markdown",
   "id": "d47bbba9-f504-4c08-aba7-be6077199217",
   "metadata": {},
   "source": [
    "We will save chains in the chain directory insied the repository where this notebook is"
   ]
  },
  {
   "cell_type": "code",
   "execution_count": 9,
   "id": "3cb7a120-3dd9-4278-b3ed-ee031d7d73c3",
   "metadata": {},
   "outputs": [
    {
     "name": "stdout",
     "output_type": "stream",
     "text": [
      "/Users/boris/Work/CLASS-SZ/SO-SZ/class_sz_organization/notebooks/mcmcs/cobaya/notebooks/../chains/\n"
     ]
    }
   ],
   "source": [
    "path_to_chains_dir = root_path + '/../chains/'\n",
    "\n",
    "print(path_to_chains_dir)"
   ]
  },
  {
   "cell_type": "markdown",
   "id": "3f980fd1-f97f-437f-8c95-0c89331c7536",
   "metadata": {},
   "source": [
    "Path to the cobaya packages, see the cobaya documentation.  (**adapt to your needs!**)"
   ]
  },
  {
   "cell_type": "code",
   "execution_count": 10,
   "id": "5ed5223c-37d1-47ec-9690-95f9e4e8cb19",
   "metadata": {},
   "outputs": [],
   "source": [
    "path_to_cobaya_packages_data = '/Users/boris/Work/CLASS-SZ/SO-SZ/cobaya_packages/data'"
   ]
  },
  {
   "cell_type": "markdown",
   "id": "2fa2601f-d79c-4f1a-898d-d62d27e3807e",
   "metadata": {},
   "source": [
    "Load the emulators:"
   ]
  },
  {
   "cell_type": "code",
   "execution_count": 11,
   "id": "d905041b-e566-4ce5-9dec-797c8b9afc9e",
   "metadata": {},
   "outputs": [
    {
     "name": "stdout",
     "output_type": "stream",
     "text": [
      "CPU times: user 12.6 ms, sys: 7.45 ms, total: 20.1 ms\n",
      "Wall time: 20.2 ms\n"
     ]
    }
   ],
   "source": [
    "%%time\n",
    "path_to_emulators = path_to_cosmopower_organization + 'lcdm/'\n",
    "\n",
    "\n",
    "cp_der_nn = cosmopower_NN(restore=True,\n",
    "                      restore_filename=path_to_emulators + 'derived-parameters/DER_v1',\n",
    "                      )\n"
   ]
  },
  {
   "cell_type": "markdown",
   "id": "79cbe133-21ec-4c9d-b96b-9a005b0d8186",
   "metadata": {},
   "source": [
    "# DES Year-1 with some BAO's"
   ]
  },
  {
   "cell_type": "markdown",
   "id": "e12b576f-75c9-4a46-a26e-936805442294",
   "metadata": {},
   "source": [
    "## Set-up of the input file"
   ]
  },
  {
   "cell_type": "markdown",
   "id": "4dcba7a2-300f-4cf5-b6a5-9518fc9c465f",
   "metadata": {},
   "source": [
    "We need to load the template and add the correct paths to the data files and where we save the chains:"
   ]
  },
  {
   "cell_type": "code",
   "execution_count": 12,
   "id": "f277fce6-a29e-41c8-8f79-acc15868aacb",
   "metadata": {},
   "outputs": [
    {
     "name": "stdout",
     "output_type": "stream",
     "text": [
      "{'output': 'desy1_baos', 'likelihood': {'des_y1.joint': {'stop_at_error': True, 'path': '/path/to/cobaya_packages/data/des_data', 'dataset_file': 'DES_1YR_final.dataset', 'dataset_params': {'used_data_types': 'wtheta gammat xip xim'}, 'acc': 1, 'l_max': None, 'use_hankel': False, 'use_Weyl': False, 'binned_bessels': True, 'aliases': ['DES'], 'speed': 20}, 'bao.sixdf_2011_bao': None, 'bao.sdss_dr7_mgs': {'path': '/path/to/cobaya_packages/data/'}, 'bao.sdss_dr12_consensus_bao': {'path': '/path/to/cobaya_packages/data/'}}, 'theory': None, 'params': {'omega_b': {'prior': {'min': 0.01933, 'max': 0.02533}, 'ref': {'dist': 'norm', 'loc': 0.022211104, 'scale': 0.00088253849}, 'proposal': 0.00088253849, 'latex': '\\\\omega_\\\\mathrm{b}'}, 'omega_cdm': {'prior': {'min': 0.08, 'max': 0.2}, 'ref': {'dist': 'norm', 'loc': 0.12590565, 'scale': 0.012255042}, 'proposal': 0.012255042, 'latex': '\\\\omega_\\\\mathrm{cdm}'}, 'H0': {'prior': {'min': 50.0, 'max': 90.0}, 'ref': {'dist': 'norm', 'loc': 69.351243, 'scale': 2.0}, 'proposal': 2.0, 'latex': 'H_0'}, 'n_s': {'prior': {'min': 0.8812, 'max': 1.0492}, 'ref': {'dist': 'norm', 'loc': 0.95989286, 'scale': 0.019465327}, 'proposal': 0.019465327, 'latex': 'n_s'}, 'logA': {'prior': {'min': 2.5, 'max': 3.5}, 'ref': {'dist': 'norm', 'loc': 2.9939341, 'scale': 0.12892144}, 'proposal': 0.12892144, 'latex': 'ln10^{10}A_s'}, 'tau_reio': 0.055}, 'sampler': {'mcmc': {'covmat': 'desy1_joint.covmat', 'Rminus1_stop': 0.01, 'proposal_scale': 1.9, 'burn_in': 50, 'max_tries': 5000, 'learn_proposal': True, 'learn_proposal_Rminus1_max': 30.0, 'learn_proposal_Rminus1_max_early': 80.0}}, 'prior': {'ns_prior': 'lambda n_s: stats.norm.logpdf(n_s, loc=0.96, scale=0.02)', 'omb_prior': 'lambda omega_b: stats.norm.logpdf(omega_b, loc=0.0222, scale=0.0005)'}}\n"
     ]
    }
   ],
   "source": [
    "Dict_yaml = yaml.safe_load(open('../input_files/desy1_baos.yaml'))\n",
    "print(Dict_yaml)"
   ]
  },
  {
   "cell_type": "code",
   "execution_count": 13,
   "id": "596844d5-dff6-4bd3-93f7-a7d485f0452c",
   "metadata": {},
   "outputs": [],
   "source": [
    "Dict_yaml['output'] = path_to_chains_dir +'desy1_baos'\n",
    "Dict_yaml['sampler']['mcmc']['covmat'] = path_to_chains_dir + '../covmats/desy1_joint.covmat'\n",
    "Dict_yaml['sampler']['mcmc']['Rminus1_stop'] = 0.5\n",
    "Dict_yaml['likelihood']['bao.sdss_dr12_consensus_bao']['path'] = path_to_cobaya_packages_data \n",
    "Dict_yaml['likelihood']['bao.sdss_dr7_mgs']['path'] = path_to_cobaya_packages_data \n",
    "Dict_yaml['likelihood']['des_y1.joint']['path'] = path_to_cobaya_packages_data + '/des_data'\n",
    "Dict_yaml['likelihood']['des_y1.joint']['acc'] = 1. # sets the kmax value \n",
    "# Note there is an anoying bug with kmax when H goes to too high values, the limber k becomes too large. \n",
    "Dict_yaml['likelihood']['des_y1.joint']['stop_at_error'] = False \n",
    "\n",
    "Dict_yaml['theory'] = {}\n",
    "Dict_yaml['theory']['classy_szfast.classy_sz.classy_sz'] = {}\n",
    "Dict_yaml['theory']['classy_szfast.classy_sz.classy_sz']['use_class_sz_fast_mode'] = 1\n",
    "Dict_yaml['theory']['classy_szfast.classy_sz.classy_sz']['stop_at_error'] = True\n",
    "Dict_yaml['theory']['classy_szfast.classy_sz.classy_sz']['extra_args'] = {}\n",
    "Dict_yaml['theory']['classy_szfast.classy_sz.classy_sz']['extra_args']['output'] = 'mPk'\n",
    "Dict_yaml['theory']['classy_szfast.classy_sz.classy_sz']['extra_args']['ndim_redshifts'] = 15 # number of redshifts points between 0 and 5. Set to 15 here for speed-up.\n",
    "Dict_yaml['theory']['classy_szfast.classy_sz.classy_sz']['extra_args']['skip_background_and_thermo'] = 1 # we can skip background and thermo, since we only need pk's and distance which are emulated. \n",
    "Dict_yaml['theory']['classy_szfast.classy_sz.classy_sz']['extra_args']['skip_pkl'] = 1 # for this run we do not need pk linear's\n",
    "\n",
    "\n",
    "with open('../input_files/desy1_baos_system.yaml', 'w') as outfile:\n",
    "    yaml.dump(Dict_yaml, outfile, default_flow_style=False)"
   ]
  },
  {
   "cell_type": "markdown",
   "id": "7943f14c-c16c-472f-b828-973668367f3d",
   "metadata": {},
   "source": [
    "## Run the chains"
   ]
  },
  {
   "cell_type": "code",
   "execution_count": 14,
   "id": "006ca237-fef8-4465-9d57-d5ba01aae1b4",
   "metadata": {
    "tags": []
   },
   "outputs": [
    {
     "name": "stdout",
     "output_type": "stream",
     "text": [
      "[0 : output] Output to be read-from/written-into folder '/Users/boris/Work/CLASS-SZ/SO-SZ/class_sz_organization/notebooks/mcmcs/cobaya/notebooks/../chains', with prefix 'desy1_baos'\n",
      "[0 : output] Found existing info files with the requested output prefix: '/Users/boris/Work/CLASS-SZ/SO-SZ/class_sz_organization/notebooks/mcmcs/cobaya/notebooks/../chains/desy1_baos'\n",
      "[0 : output] Will delete previous products ('force' was requested).\n",
      "Metal device set to: Apple M1 Pro\n",
      "\n",
      "systemMemory: 16.00 GB\n",
      "maxCacheSize: 5.33 GB\n",
      "\n",
      "Metal device set to: Apple M1 Pro\n",
      "\n",
      "systemMemory: 16.00 GB\n",
      "maxCacheSize: 5.33 GB\n",
      "\n",
      "Metal device set to: Apple M1 Pro\n",
      "\n",
      "systemMemory: 16.00 GB\n",
      "maxCacheSize: 5.33 GB\n",
      "\n",
      "Metal device set to: Apple M1 Pro\n",
      "\n",
      "systemMemory: 16.00 GB\n",
      "maxCacheSize: 5.33 GB\n",
      "\n",
      "[0 : tensorflow] *WARNING* Please fix your imports. Module tensorflow.python.training.tracking.data_structures has been moved to tensorflow.python.trackable.data_structures. The old module will be deleted in version 2.11.\n",
      "[1 : tensorflow] *WARNING* Please fix your imports. Module tensorflow.python.training.tracking.data_structures has been moved to tensorflow.python.trackable.data_structures. The old module will be deleted in version 2.11.\n",
      "[2 : tensorflow] *WARNING* Please fix your imports. Module tensorflow.python.training.tracking.data_structures has been moved to tensorflow.python.trackable.data_structures. The old module will be deleted in version 2.11.\n",
      "[3 : tensorflow] *WARNING* Please fix your imports. Module tensorflow.python.training.tracking.data_structures has been moved to tensorflow.python.trackable.data_structures. The old module will be deleted in version 2.11.\n"
     ]
    },
    {
     "name": "stderr",
     "output_type": "stream",
     "text": [
      "2023-04-02 01:30:34.391431: I tensorflow/core/common_runtime/pluggable_device/pluggable_device_factory.cc:306] Could not identify NUMA node of platform GPU ID 0, defaulting to 0. Your kernel may not have been built with NUMA support.\n",
      "2023-04-02 01:30:34.391431: I tensorflow/core/common_runtime/pluggable_device/pluggable_device_factory.cc:306] Could not identify NUMA node of platform GPU ID 0, defaulting to 0. Your kernel may not have been built with NUMA support.\n",
      "2023-04-02 01:30:34.391431: I tensorflow/core/common_runtime/pluggable_device/pluggable_device_factory.cc:306] Could not identify NUMA node of platform GPU ID 0, defaulting to 0. Your kernel may not have been built with NUMA support.\n",
      "2023-04-02 01:30:34.391431: I tensorflow/core/common_runtime/pluggable_device/pluggable_device_factory.cc:306] Could not identify NUMA node of platform GPU ID 0, defaulting to 0. Your kernel may not have been built with NUMA support.\n",
      "2023-04-02 01:30:34.391660: I tensorflow/core/common_runtime/pluggable_device/pluggable_device_factory.cc:272] Created TensorFlow device (/job:localhost/replica:0/task:0/device:GPU:0 with 0 MB memory) -> physical PluggableDevice (device: 0, name: METAL, pci bus id: <undefined>)\n",
      "2023-04-02 01:30:34.391594: I tensorflow/core/common_runtime/pluggable_device/pluggable_device_factory.cc:272] Created TensorFlow device (/job:localhost/replica:0/task:0/device:GPU:0 with 0 MB memory) -> physical PluggableDevice (device: 0, name: METAL, pci bus id: <undefined>)\n",
      "2023-04-02 01:30:34.391602: I tensorflow/core/common_runtime/pluggable_device/pluggable_device_factory.cc:272] Created TensorFlow device (/job:localhost/replica:0/task:0/device:GPU:0 with 0 MB memory) -> physical PluggableDevice (device: 0, name: METAL, pci bus id: <undefined>)\n",
      "2023-04-02 01:30:34.391600: I tensorflow/core/common_runtime/pluggable_device/pluggable_device_factory.cc:272] Created TensorFlow device (/job:localhost/replica:0/task:0/device:GPU:0 with 0 MB memory) -> physical PluggableDevice (device: 0, name: METAL, pci bus id: <undefined>)\n"
     ]
    },
    {
     "name": "stdout",
     "output_type": "stream",
     "text": [
      "[0 : prior] *WARNING* External prior 'ns_prior' loaded. Mind that it might not be normalized!\n",
      "[0 : prior] *WARNING* External prior 'omb_prior' loaded. Mind that it might not be normalized!\n",
      "[0 : classy_szfast.classy_sz.classy_sz] Initialized!\n",
      "[3 : classy_szfast.classy_sz.classy_sz] Initialized!\n",
      "[1 : classy_szfast.classy_sz.classy_sz] Initialized!\n",
      "[2 : classy_szfast.classy_sz.classy_sz] Initialized!\n",
      "[0 : bao.sdss_dr12_consensus_bao] Initialized.\n",
      "[1 : bao.sdss_dr12_consensus_bao] Initialized.\n",
      "[2 : bao.sdss_dr12_consensus_bao] Initialized.\n",
      "[3 : bao.sdss_dr12_consensus_bao] Initialized.\n",
      "[0 : bao.sixdf_2011_bao] Initialized.\n",
      "[2 : bao.sixdf_2011_bao] Initialized.\n",
      "[1 : bao.sixdf_2011_bao] Initialized.\n",
      "[3 : bao.sixdf_2011_bao] Initialized.\n",
      "[0 : prior] *WARNING* There are unbounded parameters (['DES_DzL1', 'DES_DzL2', 'DES_DzL3', 'DES_DzL4', 'DES_DzL5', 'DES_DzS1', 'DES_DzS2', 'DES_DzS3', 'DES_DzS4', 'DES_m1', 'DES_m2', 'DES_m3', 'DES_m4']). Prior bounds are given at 0.9999995 confidence level. Beware of likelihood modes at the edge of the prior\n",
      "[1 : mcmc] Getting initial point... (this may take a few seconds)\n",
      "[3 : mcmc] Getting initial point... (this may take a few seconds)\n",
      "[2 : mcmc] Getting initial point... (this may take a few seconds)\n",
      "[0 : mcmc] Getting initial point... (this may take a few seconds)\n",
      "[0 : model] Measuring speeds... (this may take a few seconds)\n",
      "[0 : model] Setting measured speeds (per sec): {bao.sdss_dr12_consensus_bao: 3280.0, bao.sdss_dr7_mgs: 10900.0, bao.sixdf_2011_bao: 12500.0, des_y1.joint: 75.2, classy_szfast.classy_sz.classy_sz: 12.6}\n",
      "[2 : mcmc] Initial point: H0:67.79751, logA:3.118971, n_s:0.9559294, omega_b:0.02236314, omega_cdm:0.1309971, DES_DzL1:0.005195343, DES_DzL2:-0.007559416, DES_DzL3:0.0009791097, DES_DzL4:0.001668541, DES_DzL5:-0.0005843006, DES_b1:1.354916, DES_b2:1.614889, DES_b3:1.702122, DES_b4:1.753424, DES_b5:2.003498, DES_DzS1:0.01444765, DES_DzS2:-0.009248959, DES_DzS3:0.0173944, DES_DzS4:-0.02604558, DES_m1:0.02418506, DES_m2:0.01624407, DES_m3:0.007750069, DES_m4:0.01576415, DES_AIA:1.099226, DES_alphaIA:1.397474\n",
      "[0 : mcmc] Initial point: H0:73.73374, logA:3.08097, n_s:0.943363, omega_b:0.02179021, omega_cdm:0.1483718, DES_DzL1:0.0008324178, DES_DzL2:0.002753574, DES_DzL3:-0.0008684654, DES_DzL4:-0.0006482396, DES_DzL5:-0.00112455, DES_b1:1.506412, DES_b2:1.541244, DES_b3:1.702038, DES_b4:1.772464, DES_b5:2.017901, DES_DzS1:-0.008998906, DES_DzS2:-0.007216021, DES_DzS3:-0.01531219, DES_DzS4:-0.02140759, DES_m1:0.01116739, DES_m2:0.01425475, DES_m3:0.0150222, DES_m4:0.01096422, DES_AIA:1.17939, DES_alphaIA:0.9785957\n",
      "[3 : mcmc] Initial point: H0:70.27906, logA:2.751392, n_s:0.9370878, omega_b:0.02100584, omega_cdm:0.1207115, DES_DzL1:0.01099192, DES_DzL2:0.002275849, DES_DzL3:0.0005076542, DES_DzL4:0.004355852, DES_DzL5:-0.002306912, DES_b1:1.414942, DES_b2:1.566627, DES_b3:1.632068, DES_b4:1.78975, DES_b5:1.975278, DES_DzS1:0.001763623, DES_DzS2:-0.01439925, DES_DzS3:0.0007424865, DES_DzS4:-0.01021856, DES_m1:0.006533445, DES_m2:0.01119535, DES_m3:0.008558962, DES_m4:0.005726695, DES_AIA:1.298206, DES_alphaIA:1.081715\n",
      "[1 : mcmc] Initial point: H0:69.30777, logA:3.074175, n_s:0.9526114, omega_b:0.02283964, omega_cdm:0.1389588, DES_DzL1:0.006483516, DES_DzL2:0.002426542, DES_DzL3:0.0009527357, DES_DzL4:-0.003654111, DES_DzL5:0.006370376, DES_b1:1.441129, DES_b2:1.513124, DES_b3:1.564741, DES_b4:1.691594, DES_b5:1.996099, DES_DzS1:0.006154303, DES_DzS2:-0.02644266, DES_DzS3:-0.001009088, DES_DzS4:-0.01732432, DES_m1:0.009182453, DES_m2:0.01764019, DES_m3:0.01740553, DES_m4:0.01057075, DES_AIA:0.8622828, DES_alphaIA:1.139446\n",
      "[0 : mcmc] Oversampling with factors:\n",
      "[0 : mcmc] * 1 : ['H0', 'logA', 'n_s', 'omega_b', 'omega_cdm']\n",
      "[0 : mcmc] * 2 : ['DES_DzL1', 'DES_DzL2', 'DES_DzL3', 'DES_DzL4', 'DES_DzL5', 'DES_b1', 'DES_b2', 'DES_b3', 'DES_b4', 'DES_b5', 'DES_DzS1', 'DES_DzS2', 'DES_DzS3', 'DES_DzS4', 'DES_m1', 'DES_m2', 'DES_m3', 'DES_m4', 'DES_AIA', 'DES_alphaIA']\n",
      "[0 : mcmc] Covariance matrix loaded for params ['H0', 'logA', 'n_s', 'omega_b', 'omega_cdm', 'DES_DzL1', 'DES_DzL2', 'DES_DzL3', 'DES_DzL4', 'DES_DzL5', 'DES_b1', 'DES_b2', 'DES_b3', 'DES_b4', 'DES_b5', 'DES_DzS1', 'DES_DzS2', 'DES_DzS3', 'DES_DzS4', 'DES_m1', 'DES_m2', 'DES_m3', 'DES_m4', 'DES_AIA', 'DES_alphaIA']\n",
      "[0 : mcmc] All parameters' covariance loaded from given covmat.\n",
      "[0 : mcmc] Sampling! (NB: no accepted step will be saved until 50 burn-in samples have been obtained)\n",
      "[1 : mcmc] Progress @ 2023-04-02 01:30:38 : 1 steps taken -- still burning in, 100 accepted steps left.\n",
      "[0 : mcmc] Progress @ 2023-04-02 01:30:38 : 1 steps taken -- still burning in, 100 accepted steps left.\n",
      "[3 : mcmc] Progress @ 2023-04-02 01:30:38 : 1 steps taken -- still burning in, 101 accepted steps left.\n",
      "[2 : mcmc] Progress @ 2023-04-02 01:30:38 : 1 steps taken -- still burning in, 100 accepted steps left.\n",
      "[3 : mcmc] Finished burn-in phase: discarded 50 accepted steps.\n",
      "[2 : mcmc] Finished burn-in phase: discarded 50 accepted steps.\n",
      "[1 : mcmc] Finished burn-in phase: discarded 50 accepted steps.\n",
      "[0 : mcmc] Finished burn-in phase: discarded 50 accepted steps.\n",
      "[1 : mcmc] Progress @ 2023-04-02 01:31:38 : 3070 steps taken, and 652 accepted.\n",
      "[0 : mcmc] Progress @ 2023-04-02 01:31:38 : 3105 steps taken, and 635 accepted.\n",
      "[2 : mcmc] Progress @ 2023-04-02 01:31:38 : 3036 steps taken, and 691 accepted.\n",
      "[3 : mcmc] Progress @ 2023-04-02 01:31:38 : 3017 steps taken, and 702 accepted.\n",
      "[3 : mcmc] Learn + convergence test @ 880 samples accepted.\n",
      "[3 : mcmc] Ready to check convergence and learn a new proposal covmat (waiting for the rest...)\n",
      "[2 : mcmc] Learn + convergence test @ 880 samples accepted.\n",
      "[2 : mcmc] Ready to check convergence and learn a new proposal covmat (waiting for the rest...)\n",
      "[0 : mcmc] Learn + convergence test @ 880 samples accepted.\n",
      "[0 : mcmc] Ready to check convergence and learn a new proposal covmat (waiting for the rest...)\n",
      "[1 : mcmc] Learn + convergence test @ 880 samples accepted.\n",
      "[1 : mcmc] Ready to check convergence and learn a new proposal covmat (waiting for the rest...)\n",
      "[0 : mcmc] All chains are ready to check convergence and learn a new proposal covmat\n",
      "[0 : mcmc]  - Acceptance rate: 0.481 = avg([0.4938684503901895, 0.46659597030752914, 0.4906832298136646, 0.4717741935483871])\n",
      "[0 : mcmc]  - Convergence of means: R-1 = 1.296054 after 3648 accepted steps = sum([885, 880, 947, 936])\n",
      "[0 : mcmc]  - Updated covariance matrix of proposal pdf.\n",
      "[1 : mcmc] Progress @ 2023-04-02 01:32:38 : 6092 steps taken, and 1430 accepted.\n",
      "[2 : mcmc] Progress @ 2023-04-02 01:32:38 : 6296 steps taken, and 1505 accepted.\n",
      "[0 : mcmc] Progress @ 2023-04-02 01:32:39 : 6149 steps taken, and 1413 accepted.\n",
      "[3 : mcmc] Progress @ 2023-04-02 01:32:39 : 6321 steps taken, and 1506 accepted.\n",
      "[3 : mcmc] Learn + convergence test @ 1760 samples accepted.\n",
      "[3 : mcmc] Ready to check convergence and learn a new proposal covmat (waiting for the rest...)\n",
      "[2 : mcmc] Learn + convergence test @ 1760 samples accepted.\n",
      "[2 : mcmc] Ready to check convergence and learn a new proposal covmat (waiting for the rest...)\n",
      "[0 : mcmc] Learn + convergence test @ 1760 samples accepted.\n",
      "[0 : mcmc] Ready to check convergence and learn a new proposal covmat (waiting for the rest...)\n",
      "[1 : mcmc] Learn + convergence test @ 1760 samples accepted.\n",
      "[1 : mcmc] Ready to check convergence and learn a new proposal covmat (waiting for the rest...)\n",
      "[0 : mcmc] All chains are ready to check convergence and learn a new proposal covmat\n",
      "[0 : mcmc]  - Acceptance rate: 0.512 = avg([0.5225014611338399, 0.5134189031505251, 0.500817438692098, 0.5121012101210121])\n",
      "[0 : mcmc]  - Convergence of means: R-1 = 0.731916 after 7245 accepted steps = sum([1787, 1760, 1837, 1861])\n",
      "[0 : mcmc]  - Updated covariance matrix of proposal pdf.\n",
      "[1 : mcmc] Progress @ 2023-04-02 01:33:38 : 9155 steps taken, and 2151 accepted.\n",
      "[0 : mcmc] Progress @ 2023-04-02 01:33:39 : 9321 steps taken, and 2242 accepted.\n",
      "[3 : mcmc] Progress @ 2023-04-02 01:33:39 : 9368 steps taken, and 2307 accepted.\n",
      "[2 : mcmc] Progress @ 2023-04-02 01:33:39 : 9366 steps taken, and 2284 accepted.\n",
      "[2 : mcmc] Learn + convergence test @ 2640 samples accepted.\n",
      "[2 : mcmc] Ready to check convergence and learn a new proposal covmat (waiting for the rest...)\n",
      "[3 : mcmc] Learn + convergence test @ 2640 samples accepted.\n",
      "[3 : mcmc] Ready to check convergence and learn a new proposal covmat (waiting for the rest...)\n",
      "[0 : mcmc] Learn + convergence test @ 2640 samples accepted.\n",
      "[0 : mcmc] Ready to check convergence and learn a new proposal covmat (waiting for the rest...)\n",
      "[1 : mcmc] Learn + convergence test @ 2640 samples accepted.\n",
      "[1 : mcmc] Ready to check convergence and learn a new proposal covmat (waiting for the rest...)\n",
      "[0 : mcmc] All chains are ready to check convergence and learn a new proposal covmat\n",
      "[0 : mcmc]  - Acceptance rate: 0.504 = avg([0.5200605601816806, 0.4888888888888889, 0.4952212389380531, 0.5094130675526024])\n",
      "[0 : mcmc]  - Convergence of means: R-1 = 0.597747 after 10945 accepted steps = sum([2748, 2640, 2798, 2759])\n",
      "[0 : mcmc]  - Updated covariance matrix of proposal pdf.\n",
      "[1 : mcmc] Progress @ 2023-04-02 01:34:38 : 12196 steps taken, and 2906 accepted.\n",
      "[0 : mcmc] Progress @ 2023-04-02 01:34:39 : 12396 steps taken, and 3028 accepted.\n",
      "[2 : mcmc] Progress @ 2023-04-02 01:34:39 : 12733 steps taken, and 3060 accepted.\n",
      "[3 : mcmc] Progress @ 2023-04-02 01:34:39 : 12434 steps taken, and 3017 accepted.\n",
      "[0 : mcmc] Learn + convergence test @ 3520 samples accepted.\n",
      "[0 : mcmc] Ready to check convergence and learn a new proposal covmat (waiting for the rest...)\n",
      "[2 : mcmc] Learn + convergence test @ 3520 samples accepted.\n",
      "[2 : mcmc] Ready to check convergence and learn a new proposal covmat (waiting for the rest...)\n",
      "[3 : mcmc] Learn + convergence test @ 3520 samples accepted.\n",
      "[3 : mcmc] Ready to check convergence and learn a new proposal covmat (waiting for the rest...)\n",
      "[1 : mcmc] Learn + convergence test @ 3520 samples accepted.\n",
      "[1 : mcmc] Ready to check convergence and learn a new proposal covmat (waiting for the rest...)\n",
      "[0 : mcmc] All chains are ready to check convergence and learn a new proposal covmat\n",
      "[0 : mcmc]  - Acceptance rate: 0.492 = avg([0.5280866837753065, 0.48686030428769017, 0.47523461939520334, 0.4758748674443266])\n",
      "[0 : mcmc]  - Convergence of means: R-1 = 0.261453 after 14459 accepted steps = sum([3703, 3520, 3646, 3590])\n",
      "[0 : mcmc]  - Updated covariance matrix of proposal pdf.\n",
      "[1 : mcmc] Progress @ 2023-04-02 01:35:38 : 15255 steps taken, and 3670 accepted.\n",
      "[0 : mcmc] Progress @ 2023-04-02 01:35:39 : 15417 steps taken, and 3857 accepted.\n",
      "[2 : mcmc] Progress @ 2023-04-02 01:35:39 : 15812 steps taken, and 3798 accepted.\n",
      "[3 : mcmc] Progress @ 2023-04-02 01:35:39 : 15566 steps taken, and 3734 accepted.\n",
      "[0 : mcmc] Learn + convergence test @ 4400 samples accepted.\n",
      "[0 : mcmc] Ready to check convergence and learn a new proposal covmat (waiting for the rest...)\n",
      "[2 : mcmc] Learn + convergence test @ 4400 samples accepted.\n",
      "[2 : mcmc] Ready to check convergence and learn a new proposal covmat (waiting for the rest...)\n",
      "[3 : mcmc] Learn + convergence test @ 4400 samples accepted.\n",
      "[3 : mcmc] Ready to check convergence and learn a new proposal covmat (waiting for the rest...)\n",
      "[1 : mcmc] Learn + convergence test @ 4400 samples accepted.\n",
      "[1 : mcmc] Ready to check convergence and learn a new proposal covmat (waiting for the rest...)\n",
      "[0 : mcmc] All chains are ready to check convergence and learn a new proposal covmat\n",
      "[0 : mcmc]  - Acceptance rate: 0.488 = avg([0.5106761565836299, 0.49460431654676257, 0.48151278259032326, 0.4656647881444375])\n",
      "[0 : mcmc]  - Convergence of means: R-1 = 0.195015 after 18012 accepted steps = sum([4592, 4400, 4558, 4462])\n",
      "[0 : mcmc]  - Convergence of bounds: R-1 = 0.233372 after 18012 accepted steps = sum([4592, 4400, 4558, 4462])\n",
      "[0 : mcmc]  - Updated covariance matrix of proposal pdf.\n",
      "[1 : mcmc] Progress @ 2023-04-02 01:36:38 : 18304 steps taken, and 4419 accepted.\n",
      "[0 : mcmc] Progress @ 2023-04-02 01:36:39 : 18578 steps taken, and 4605 accepted.\n",
      "[2 : mcmc] Progress @ 2023-04-02 01:36:39 : 18895 steps taken, and 4582 accepted.\n",
      "[3 : mcmc] Progress @ 2023-04-02 01:36:39 : 18702 steps taken, and 4477 accepted.\n",
      "[0 : mcmc] Learn + convergence test @ 5280 samples accepted.\n",
      "[0 : mcmc] Ready to check convergence and learn a new proposal covmat (waiting for the rest...)\n",
      "[2 : mcmc] Learn + convergence test @ 5280 samples accepted.\n",
      "[2 : mcmc] Ready to check convergence and learn a new proposal covmat (waiting for the rest...)\n",
      "[1 : mcmc] Progress @ 2023-04-02 01:37:38 : 21487 steps taken, and 5222 accepted.\n",
      "[0 : mcmc] Progress @ 2023-04-02 01:37:39 : 21819 steps taken, and 5428 accepted.\n",
      "[2 : mcmc] Progress @ 2023-04-02 01:37:39 : 22120 steps taken, and 5299 accepted.\n",
      "[3 : mcmc] Progress @ 2023-04-02 01:37:39 : 21825 steps taken, and 5260 accepted.\n",
      "[3 : mcmc] Learn + convergence test @ 5280 samples accepted.\n",
      "[3 : mcmc] Ready to check convergence and learn a new proposal covmat (waiting for the rest...)\n",
      "[1 : mcmc] Learn + convergence test @ 5280 samples accepted.\n",
      "[1 : mcmc] Ready to check convergence and learn a new proposal covmat (waiting for the rest...)\n",
      "[0 : mcmc] All chains are ready to check convergence and learn a new proposal covmat\n",
      "[0 : mcmc]  - Acceptance rate: 0.488 = avg([0.5083426028921023, 0.49614734072542754, 0.4711064129668781, 0.4757906021082723])\n",
      "[0 : mcmc]  - Convergence of means: R-1 = 0.157305 after 21437 accepted steps = sum([5484, 5280, 5347, 5326])\n",
      "[0 : mcmc]  - Convergence of bounds: R-1 = 0.179578 after 21437 accepted steps = sum([5484, 5280, 5347, 5326])\n",
      "[0 : mcmc] The run has converged!\n",
      "[0 : mcmc] Sampling complete after 21437 accepted steps.\n",
      "\u001b[0m\u001b[0m\u001b[0m\u001b[0mCPU times: user 55 ms, sys: 97.9 ms, total: 153 ms\n",
      "Wall time: 7min 15s\n"
     ]
    },
    {
     "data": {
      "text/plain": [
       "0"
      ]
     },
     "execution_count": 14,
     "metadata": {},
     "output_type": "execute_result"
    }
   ],
   "source": [
    "%%time\n",
    "str_cmd_subprocess = [\"mpirun\",\n",
    "                      \"-np\",\"4\",\n",
    "                      \"cobaya-run\",\n",
    "                      \"../input_files/desy1_baos_system.yaml\",\n",
    "                      \"-f\"]\n",
    "subprocess.call(str_cmd_subprocess)"
   ]
  },
  {
   "cell_type": "markdown",
   "id": "c990ff5d-9261-4c05-9a99-aded5413855e",
   "metadata": {},
   "source": [
    "# Plot with getdist"
   ]
  },
  {
   "cell_type": "markdown",
   "id": "e65baa9b-f38c-4859-9a17-cd4c0a929567",
   "metadata": {},
   "source": [
    "## Analyse"
   ]
  },
  {
   "cell_type": "code",
   "execution_count": 15,
   "id": "9f40f3e2-226e-45ae-8561-f56d2611568b",
   "metadata": {},
   "outputs": [
    {
     "name": "stdout",
     "output_type": "stream",
     "text": [
      "running getdist on chains /Users/boris/Work/CLASS-SZ/SO-SZ/class_sz_organization/notebooks/mcmcs/cobaya/notebooks/../chains/desy1_baos\n"
     ]
    },
    {
     "name": "stderr",
     "output_type": "stream",
     "text": [
      "WARNING:root:outlier fraction 5.830903790087464e-05 \n",
      "producing files in directory  ./\n",
      "Removed 0.2 as burn in\n",
      "using 17150 rows, 35 parameters; mean weight 2.0253644314868806, tot weight 34735.0\n",
      "Approx indep samples (N/corr length): 295\n",
      "Equiv number of single samples (sum w)/max(w): 463\n",
      "Effective number of weighted samples (sum w)^2/sum(w^2): 7159\n",
      "Best fit sample -log(Like) = 207.990650\n",
      "Ln(mean 1/like) = 225.466004\n",
      "mean(-Ln(like)) = 217.000060\n",
      "-Ln(mean like)  = 213.189205\n",
      "WARNING:root:outlier fraction 6.66400106624017e-05 \n"
     ]
    },
    {
     "name": "stdout",
     "output_type": "stream",
     "text": [
      "producing files in directory  ./\n",
      "/Users/boris/Work/CLASS-SZ/SO-SZ/class_sz_organization/notebooks/mcmcs/cobaya/notebooks/../chains/desy1_baos.4.txt\n",
      "/Users/boris/Work/CLASS-SZ/SO-SZ/class_sz_organization/notebooks/mcmcs/cobaya/notebooks/../chains/desy1_baos.3.txt\n",
      "/Users/boris/Work/CLASS-SZ/SO-SZ/class_sz_organization/notebooks/mcmcs/cobaya/notebooks/../chains/desy1_baos.2.txt\n",
      "/Users/boris/Work/CLASS-SZ/SO-SZ/class_sz_organization/notebooks/mcmcs/cobaya/notebooks/../chains/desy1_baos.1.txt\n",
      "Removed 0.2 as burn in\n",
      "Number of chains used =  4\n",
      " var(mean)/mean(var), remaining chains, worst e-value: R-1 =       0.10550\n",
      "RL: Not enough samples to estimate convergence stats\n",
      "using 17150 rows, 35 parameters; mean weight 2.0253644314868806, tot weight 34735.0\n",
      "Approx indep samples (N/corr length): 295\n",
      "Equiv number of single samples (sum w)/max(w): 463\n",
      "Effective number of weighted samples (sum w)^2/sum(w^2): 7159\n",
      "Best fit sample -log(Like) = 207.990650\n",
      "Ln(mean 1/like) = 225.466004\n",
      "mean(-Ln(like)) = 217.000060\n",
      "-Ln(mean like)  = 213.189205\n",
      "adding derived parameters\n"
     ]
    },
    {
     "name": "stderr",
     "output_type": "stream",
     "text": [
      "WARNING:root:outlier fraction 6.66400106624017e-05 \n",
      "WARNING:root:outlier fraction 6.66400106624017e-05 \n"
     ]
    },
    {
     "name": "stdout",
     "output_type": "stream",
     "text": [
      "S8d5:  S_8 = 0.781\\pm 0.024\n",
      "sigma8:  \\sigma_8 = 0.804\\pm 0.032\n",
      "CPU times: user 1.49 s, sys: 359 ms, total: 1.85 s\n",
      "Wall time: 1.99 s\n"
     ]
    }
   ],
   "source": [
    "%%time\n",
    "path_to_chains = []\n",
    "final_chain_dir_list = []\n",
    "\n",
    "\n",
    "final_chain_dir_list.append(path_to_chains_dir +'desy1_baos')\n",
    "path_to_chains.append(path_to_chains_dir)\n",
    "\n",
    "current_path = os.path.abspath(\"\")\n",
    "\n",
    "for i in range(len(final_chain_dir_list)):\n",
    "    os.chdir(path_to_chains[i])\n",
    "    print('running getdist on chains ' + final_chain_dir_list[i])\n",
    "    str_cmd_subprocess = [\"nice\",\"-n\",\"19\",'getdist',final_chain_dir_list[i],\"--ignore_rows\",\"0.2\"]\n",
    "    subprocess.call(str_cmd_subprocess)\n",
    "os.chdir(current_path)\n",
    "\n",
    "all_samples = []\n",
    "\n",
    "i=0\n",
    "readsamps = loadMCSamples(final_chain_dir_list[i],settings={'ignore_rows':0.3})\n",
    "p = readsamps.getParams()\n",
    "print('adding derived parameters')\n",
    "params_cp = {}\n",
    "params_cp['omega_b'] = p.omega_b\n",
    "params_cp['omega_cdm'] = p.omega_cdm\n",
    "params_cp['ln10^{10}A_s'] = p.logA\n",
    "params_cp['n_s'] = p.n_s\n",
    "params_cp['tau_reio'] = 0.055*p.n_s/p.n_s\n",
    "params_cp['H0'] = p.H0\n",
    "predicted_der_params = cp_der_nn.ten_to_predictions_np(params_cp)\n",
    "readsamps.addDerived(predicted_der_params[:,1],name='sigma8',label=r'\\sigma_8')\n",
    "readsamps.addDerived(predicted_der_params[:,0],name='theta_s_1e2',label=r'100*\\theta_s')\n",
    "p = readsamps.getParams()\n",
    "readsamps.addDerived((p.H0/100.)**-2.*(p.omega_b+p.omega_cdm),name='Ombc',label=r'\\Omega_m')\n",
    "\n",
    "p = readsamps.getParams()\n",
    "readsamps.addDerived(p.sigma8*(p.Ombc/0.3)**0.5,name='S8d5',label=r'S_8')\n",
    "Fs = readsamps.getInlineLatex('S8d5',limit=1)\n",
    "print('S8d5: ',Fs)\n",
    "Fs = readsamps.getInlineLatex('sigma8',limit=1)\n",
    "print('sigma8: ',Fs)\n",
    "\n",
    "samples = readsamps\n",
    "samples.updateBaseStatistics()\n",
    "all_samples.append(samples)"
   ]
  },
  {
   "cell_type": "markdown",
   "id": "d706d8e5-5e40-46fd-98f2-797b71426d1b",
   "metadata": {},
   "source": [
    "## Plot contours"
   ]
  },
  {
   "cell_type": "code",
   "execution_count": 17,
   "id": "68620086-6d94-4d0d-be29-6338fb20cb7c",
   "metadata": {},
   "outputs": [
    {
     "data": {
      "image/png": "[encoded data removed]",
      "text/plain": [
       "<Figure size 1000x1000 with 28 Axes>"
      ]
     },
     "metadata": {},
     "output_type": "display_data"
    }
   ],
   "source": [
    "g = plots.getSubplotPlotter()\n",
    "g.settings.fig_width_inch = 10\n",
    "\n",
    "g.settings.axes_fontsize = 10\n",
    "g.settings.lab_fontsize =13\n",
    "\n",
    "g.settings.legend_fontsize = 14\n",
    "g.settings.alpha_filled_add=0.1\n",
    "g.settings.colorbar_label_pad = 20.\n",
    "g.settings.figure_legend_frame = False\n",
    "\n",
    "g.settings.title_limit=0 #uncomment if you want to display marg stats.\n",
    "\n",
    "sample_list = []\n",
    "for s in range(len(all_samples)):\n",
    "\n",
    "    sample_list.append(all_samples[s])\n",
    "    \n",
    "g.triangle_plot(sample_list,\n",
    "    [\n",
    "    'omega_cdm',\n",
    "    'omega_b',\n",
    "    # 'logA',\n",
    "    'n_s',\n",
    "    'H0',\n",
    "    'sigma8',\n",
    "    'Ombc',\n",
    "    'S8d5',\n",
    "    ],\n",
    "\n",
    "    filled=[True,False],\n",
    "    legend_labels=[ 'classy_sz'],\n",
    "    legend_loc='upper right',\n",
    "    colors = ['blue','red','green','red'],\n",
    "    line_args=[{'lw':'1','color':'blue'},{'lw':'1','color':'red'},{'lw':'1','color':'green'},{'lw':'1','color':'r'}]\n",
    "                   )\n",
    "\n",
    "\n",
    "g.export(path_to_chains_dir +'des_baos_classy_sz.pdf')"
   ]
  },
  {
   "cell_type": "code",
   "execution_count": null,
   "id": "76d795f9-50e1-4351-90e7-4ca422561f7f",
   "metadata": {},
   "outputs": [],
   "source": []
  }
 ],
 "metadata": {
  "kernelspec": {
   "display_name": "Python 3 (ipykernel)",
   "language": "python",
   "name": "python3"
  },
  "language_info": {
   "codemirror_mode": {
    "name": "ipython",
    "version": 3
   },
   "file_extension": ".py",
   "mimetype": "text/x-python",
   "name": "python",
   "nbconvert_exporter": "python",
   "pygments_lexer": "ipython3",
   "version": "3.9.13"
  }
 },
 "nbformat": 4,
 "nbformat_minor": 5
}
