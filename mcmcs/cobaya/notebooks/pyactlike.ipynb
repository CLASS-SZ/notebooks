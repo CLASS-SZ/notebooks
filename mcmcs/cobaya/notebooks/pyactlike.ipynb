{
 "cells": [
  {
   "cell_type": "markdown",
   "id": "ac99cae1-dd42-4603-8aa5-82952d01fd53",
   "metadata": {},
   "source": [
    "# Prerequisites"
   ]
  },
  {
   "cell_type": "markdown",
   "id": "d33e0fa9-7784-4d78-b801-755ad172d003",
   "metadata": {},
   "source": [
    "# class_sz\n",
    "\n",
    "To intstall class_sz, follow carefully the instructions given in the README file of the code repository. "
   ]
  },
  {
   "cell_type": "code",
   "execution_count": 1,
   "id": "db6283b3-8950-4f99-a6d8-31c1c9e76a9e",
   "metadata": {},
   "outputs": [
    {
     "name": "stdout",
     "output_type": "stream",
     "text": [
      "Metal device set to: Apple M1 Pro\n",
      "WARNING:tensorflow:Please fix your imports. Module tensorflow.python.training.tracking.data_structures has been moved to tensorflow.python.trackable.data_structures. The old module will be deleted in version 2.11.\n"
     ]
    },
    {
     "name": "stderr",
     "output_type": "stream",
     "text": [
      "2023-05-06 23:00:46.561635: I tensorflow/core/common_runtime/pluggable_device/pluggable_device_factory.cc:306] Could not identify NUMA node of platform GPU ID 0, defaulting to 0. Your kernel may not have been built with NUMA support.\n",
      "2023-05-06 23:00:46.561762: I tensorflow/core/common_runtime/pluggable_device/pluggable_device_factory.cc:272] Created TensorFlow device (/job:localhost/replica:0/task:0/device:GPU:0 with 0 MB memory) -> physical PluggableDevice (device: 0, name: METAL, pci bus id: <undefined>)\n"
     ]
    },
    {
     "data": {
      "text/plain": [
       "'/Users/boris/opt/miniconda3/lib/python3.9/site-packages/classy_sz-2.9.4-py3.9-macosx-11.0-arm64.egg/classy_sz.cpython-39-darwin.so'"
      ]
     },
     "execution_count": 1,
     "metadata": {},
     "output_type": "execute_result"
    }
   ],
   "source": [
    "import classy_sz\n",
    "classy_sz.__file__"
   ]
  },
  {
   "cell_type": "markdown",
   "id": "9080465b-7fca-4fcf-b3bb-b87867a1b2aa",
   "metadata": {},
   "source": [
    "## cosmopower"
   ]
  },
  {
   "cell_type": "markdown",
   "id": "9d84e201-ceaf-4abe-9b80-8772b7bf09c7",
   "metadata": {},
   "source": [
    "To install cosmopower, visit:\n",
    "\n",
    "https://github.com/alessiospuriomancini/cosmopower\n",
    "\n",
    "\n",
    "Check cosmopower is installed:"
   ]
  },
  {
   "cell_type": "code",
   "execution_count": 3,
   "id": "29933714-ef8b-4c2b-8cfc-9add6f1e7d3c",
   "metadata": {},
   "outputs": [],
   "source": [
    "import cosmopower"
   ]
  },
  {
   "cell_type": "markdown",
   "id": "9e9114e6-73ab-4596-977b-2b3224c5a264",
   "metadata": {},
   "source": [
    "## cobaya"
   ]
  },
  {
   "cell_type": "markdown",
   "id": "d23e35a7-4b85-4849-b349-ef6af53a1a24",
   "metadata": {},
   "source": [
    "To install cobaya, visit: \n",
    "\n",
    "https://cobaya.readthedocs.io/en/latest/installation.html\n",
    "\n",
    "Check cobaya is installed:"
   ]
  },
  {
   "cell_type": "code",
   "execution_count": 4,
   "id": "8ae082cd-0917-4cca-a76c-61340544c6e7",
   "metadata": {},
   "outputs": [],
   "source": [
    "import cobaya"
   ]
  },
  {
   "cell_type": "markdown",
   "id": "36c6e0a5-c9d9-4929-b94b-09bcde3e2cbc",
   "metadata": {},
   "source": [
    "## getdist"
   ]
  },
  {
   "cell_type": "markdown",
   "id": "b6b6a8d1-1ae6-4bea-8b59-c626b2ef54bd",
   "metadata": {},
   "source": [
    "To install getdist, visit:\n",
    "\n",
    "https://getdist.readthedocs.io/en/latest/intro.html\n",
    "\n",
    "Check getdist is installed\n"
   ]
  },
  {
   "cell_type": "code",
   "execution_count": 5,
   "id": "3be39aac-329f-468a-aebc-c9466b82dd67",
   "metadata": {},
   "outputs": [],
   "source": [
    "import getdist"
   ]
  },
  {
   "cell_type": "markdown",
   "id": "3555edfe-74da-4835-95c6-c738cf1d2132",
   "metadata": {},
   "source": [
    "## cosmopower emulators\n",
    "\n",
    "Make a cosmopower-organtization repository to store the emulaotors. It can be wherever on your system: <br>\n",
    "\n",
    "$ mkdir cosmopower-organtization <br>\n",
    "\n",
    "Then clone the emulators inside it: <br>\n",
    "\n",
    "$ cd cosmopower-organtization <br>\n",
    "\n",
    "$ git clone https://github.com/cosmopower-organization/lcdm.git <br>\n",
    "\n",
    "Now we need to set the path to this repository. <br>\n",
    "Mine is several levels above where we are now, so: (**adapt to your needs!**)"
   ]
  },
  {
   "cell_type": "code",
   "execution_count": 6,
   "id": "37701d83-4dad-4770-89b9-ca9ae2dc1564",
   "metadata": {},
   "outputs": [],
   "source": [
    "import os\n",
    "root_path = os.path.abspath(\"\")\n",
    "path_to_cosmopower_organization = root_path + '/../../../../../cosmopower-organization/' "
   ]
  },
  {
   "cell_type": "markdown",
   "id": "26df01b6-cebc-4f7c-b200-db24c5ed36de",
   "metadata": {},
   "source": [
    "Finally, the path to the emulators is:"
   ]
  },
  {
   "cell_type": "code",
   "execution_count": 7,
   "id": "5fe9e624-48cd-497c-8383-e0a29e8f274e",
   "metadata": {},
   "outputs": [],
   "source": [
    "path_to_emulators = path_to_cosmopower_organization + 'lcdm/'"
   ]
  },
  {
   "cell_type": "markdown",
   "id": "afcd4ef1-eea8-4c0b-a49d-5edc28001367",
   "metadata": {},
   "source": [
    "Check that these paths are correctly set:"
   ]
  },
  {
   "cell_type": "code",
   "execution_count": 8,
   "id": "4d779fb9-ca55-4a40-ae96-956e391aaa4b",
   "metadata": {},
   "outputs": [
    {
     "name": "stdout",
     "output_type": "stream",
     "text": [
      "inside lcdm:\n",
      "\u001b[34mPK\u001b[m\u001b[m\n",
      "\u001b[34mPP\u001b[m\u001b[m\n",
      "README.md\n",
      "\u001b[34mTTTEEE\u001b[m\u001b[m\n",
      "\u001b[34mderived-parameters\u001b[m\u001b[m\n",
      "\u001b[34mgrowth-and-distances\u001b[m\u001b[m\n",
      "0\n"
     ]
    }
   ],
   "source": [
    "import subprocess\n",
    "path_to_emulators = path_to_cosmopower_organization + 'lcdm/'\n",
    "str_cmd_subprocess = [\"ls\",path_to_emulators]\n",
    "print('inside lcdm:')\n",
    "print(subprocess.call(str_cmd_subprocess))\n",
    "\n"
   ]
  },
  {
   "cell_type": "markdown",
   "id": "63b7ffdd-20e9-48f8-9971-94dbea44c32c",
   "metadata": {},
   "source": [
    "# Initialize"
   ]
  },
  {
   "cell_type": "code",
   "execution_count": 9,
   "id": "d775e88a-d96b-40a0-be0c-6a4ef571365b",
   "metadata": {},
   "outputs": [],
   "source": [
    "import numpy as np\n",
    "import scipy\n",
    "import yaml\n",
    "\n",
    "\n",
    "from getdist import loadMCSamples, MCSamples\n",
    "from getdist import plots\n",
    "\n",
    "from cosmopower import cosmopower_NN\n",
    "from cosmopower import cosmopower_PCAplusNN\n",
    "\n",
    "import cobaya\n",
    "\n",
    "\n",
    "#\n",
    "import matplotlib\n",
    "import matplotlib.pyplot as plt\n",
    "%matplotlib inline\n",
    "#\n",
    "font = {'size'   : 16, 'family':'STIXGeneral'}\n",
    "axislabelfontsize='large'\n",
    "matplotlib.rc('font', **font)"
   ]
  },
  {
   "cell_type": "markdown",
   "id": "d47bbba9-f504-4c08-aba7-be6077199217",
   "metadata": {},
   "source": [
    "We will save chains in the chain directory insied the repository where this notebook is"
   ]
  },
  {
   "cell_type": "code",
   "execution_count": 10,
   "id": "3cb7a120-3dd9-4278-b3ed-ee031d7d73c3",
   "metadata": {},
   "outputs": [
    {
     "name": "stdout",
     "output_type": "stream",
     "text": [
      "/Users/boris/Work/CLASS-SZ/SO-SZ/class_sz_organization/notebooks/mcmcs/cobaya/notebooks/../chains/\n"
     ]
    }
   ],
   "source": [
    "path_to_chains_dir = root_path + '/../chains/'\n",
    "\n",
    "print(path_to_chains_dir)"
   ]
  },
  {
   "cell_type": "markdown",
   "id": "3f980fd1-f97f-437f-8c95-0c89331c7536",
   "metadata": {},
   "source": [
    "Path to the cobaya packages, see the cobaya documentation.  (**adapt to your needs!**)"
   ]
  },
  {
   "cell_type": "code",
   "execution_count": 11,
   "id": "5ed5223c-37d1-47ec-9690-95f9e4e8cb19",
   "metadata": {},
   "outputs": [],
   "source": [
    "path_to_cobaya_packages_data = '/Users/boris/Work/CLASS-SZ/SO-SZ/cobaya_packages/data'"
   ]
  },
  {
   "cell_type": "markdown",
   "id": "2fa2601f-d79c-4f1a-898d-d62d27e3807e",
   "metadata": {},
   "source": [
    "Load the emulators:"
   ]
  },
  {
   "cell_type": "code",
   "execution_count": 12,
   "id": "d905041b-e566-4ce5-9dec-797c8b9afc9e",
   "metadata": {},
   "outputs": [
    {
     "name": "stdout",
     "output_type": "stream",
     "text": [
      "CPU times: user 22.3 ms, sys: 23.6 ms, total: 46 ms\n",
      "Wall time: 45.6 ms\n"
     ]
    }
   ],
   "source": [
    "%%time\n",
    "path_to_emulators = path_to_cosmopower_organization + 'lcdm/'\n",
    "\n",
    "\n",
    "cp_der_nn = cosmopower_NN(restore=True,\n",
    "                      restore_filename=path_to_emulators + 'derived-parameters/DER_v1',\n",
    "                      )\n"
   ]
  },
  {
   "cell_type": "markdown",
   "id": "79cbe133-21ec-4c9d-b96b-9a005b0d8186",
   "metadata": {},
   "source": [
    "# Pyactlike"
   ]
  },
  {
   "cell_type": "markdown",
   "id": "e12b576f-75c9-4a46-a26e-936805442294",
   "metadata": {},
   "source": [
    "## Set-up of the input file"
   ]
  },
  {
   "cell_type": "markdown",
   "id": "4dcba7a2-300f-4cf5-b6a5-9518fc9c465f",
   "metadata": {},
   "source": [
    "We need to load the template and add the correct paths to the data files and where we save the chains:"
   ]
  },
  {
   "cell_type": "code",
   "execution_count": 27,
   "id": "f277fce6-a29e-41c8-8f79-acc15868aacb",
   "metadata": {},
   "outputs": [
    {
     "name": "stdout",
     "output_type": "stream",
     "text": [
      "{'output': 'plikHMTTTEE', 'likelihood': {'pyactlike.ACTPol_lite_DR4': {'stop_at_error': True}}, 'theory': None, 'params': {'omega_b': {'prior': {'min': 0.01933, 'max': 0.02533}, 'ref': {'dist': 'norm', 'loc': 0.022211104, 'scale': 0.00088253849}, 'proposal': 0.00088253849, 'latex': '\\\\omega_\\\\mathrm{b}'}, 'omega_cdm': {'prior': {'min': 0.08, 'max': 0.2}, 'ref': {'dist': 'norm', 'loc': 0.12590565, 'scale': 0.012255042}, 'proposal': 0.012255042, 'latex': '\\\\omega_\\\\mathrm{cdm}'}, 'H0': {'prior': {'min': 40.0, 'max': 99.0}, 'ref': {'dist': 'norm', 'loc': 69.351243, 'scale': 2.0}, 'proposal': 2.0, 'latex': 'H_0'}, 'n_s': {'prior': {'min': 0.8812, 'max': 1.0492}, 'ref': {'dist': 'norm', 'loc': 0.95989286, 'scale': 0.019465327}, 'proposal': 0.019465327, 'latex': 'n_s'}, 'logA': {'prior': {'min': 2.5, 'max': 3.5}, 'ref': {'dist': 'norm', 'loc': 2.9939341, 'scale': 0.12892144}, 'proposal': 0.12892144, 'latex': 'ln10^{10}A_s'}, 'tau_reio': {'prior': {'dist': 'norm', 'loc': 0.065, 'scale': 0.015}, 'ref': {'dist': 'norm', 'loc': 0.065, 'scale': 0.002}, 'proposal': 0.002, 'latex': '\\\\tau_\\\\mathrm{reio}'}, 'yp2': {'prior': {'min': 0.9, 'max': 1.1}, 'ref': {'dist': 'norm', 'loc': 1.01, 'scale': 0.005}}}, 'sampler': {'mcmc': {'covmat': 'CLASS2p8_ACTPol_lite_DR4_leakfix_yp2_baseLCDM_taup_hip_R0p01.covmat', 'Rminus1_stop': 0.01, 'proposal_scale': 1.9, 'burn_in': 50, 'max_tries': 5000, 'learn_proposal': True, 'learn_proposal_Rminus1_max': 30.0, 'learn_proposal_Rminus1_max_early': 80.0}}}\n"
     ]
    }
   ],
   "source": [
    "Dict_yaml = yaml.safe_load(open('../input_files/pyactlike.yaml'))\n",
    "print(Dict_yaml)"
   ]
  },
  {
   "cell_type": "code",
   "execution_count": 28,
   "id": "596844d5-dff6-4bd3-93f7-a7d485f0452c",
   "metadata": {},
   "outputs": [],
   "source": [
    "Dict_yaml['output'] = path_to_chains_dir +'pyactlike'\n",
    "Dict_yaml['sampler']['mcmc']['covmat'] = path_to_chains_dir + '../covmats/pyactlike.covmat'\n",
    "Dict_yaml['sampler']['mcmc']['Rminus1_stop'] = 0.05\n",
    "\n",
    "\n",
    "Dict_yaml['theory'] = {}\n",
    "Dict_yaml['theory']['classy_szfast.classy_sz.classy_sz'] = {}\n",
    "Dict_yaml['theory']['classy_szfast.classy_sz.classy_sz']['use_class_sz_fast_mode'] = 1\n",
    "Dict_yaml['theory']['classy_szfast.classy_sz.classy_sz']['ell_factor'] = True\n",
    "Dict_yaml['theory']['classy_szfast.classy_sz.classy_sz']['stop_at_error'] = True\n",
    "Dict_yaml['theory']['classy_szfast.classy_sz.classy_sz']['extra_args'] = {}\n",
    "Dict_yaml['theory']['classy_szfast.classy_sz.classy_sz']['extra_args']['output'] = 'tCl'\n",
    "Dict_yaml['theory']['classy_szfast.classy_sz.classy_sz']['extra_args']['skip_background_and_thermo'] = 1\n",
    "Dict_yaml['theory']['classy_szfast.classy_sz.classy_sz']['extra_args']['skip_pkl'] = 1 # for this run we dont need this\n",
    "Dict_yaml['theory']['classy_szfast.classy_sz.classy_sz']['extra_args']['skip_pknl'] = 1 # for this run we dont need this\n",
    "Dict_yaml['theory']['classy_szfast.classy_sz.classy_sz']['extra_args']['skip_hubble'] = 1 # for this run we dont need this\n",
    "Dict_yaml['theory']['classy_szfast.classy_sz.classy_sz']['extra_args']['skip_sigma8_and_der'] = 1 # for this run we dont need this\n",
    "Dict_yaml['theory']['classy_szfast.classy_sz.classy_sz']['extra_args']['skip_sigma8_at_z'] = 1 # for this run we dont need this\n",
    "Dict_yaml['theory']['classy_szfast.classy_sz.classy_sz']['extra_args']['skip_chi'] = 1 # for this run we dont need this\n",
    "\n",
    "\n",
    "\n",
    "with open('../input_files/pyactlike_system.yaml', 'w') as outfile:\n",
    "    yaml.dump(Dict_yaml, outfile, default_flow_style=False)"
   ]
  },
  {
   "cell_type": "markdown",
   "id": "7943f14c-c16c-472f-b828-973668367f3d",
   "metadata": {},
   "source": [
    "## Run the chains"
   ]
  },
  {
   "cell_type": "code",
   "execution_count": 29,
   "id": "006ca237-fef8-4465-9d57-d5ba01aae1b4",
   "metadata": {
    "tags": []
   },
   "outputs": [
    {
     "name": "stdout",
     "output_type": "stream",
     "text": [
      "[0 : output] Output to be read-from/written-into folder '/Users/boris/Work/CLASS-SZ/SO-SZ/class_sz_organization/notebooks/mcmcs/cobaya/notebooks/../chains', with prefix 'pyactlike'\n",
      "[0 : output] Found existing info files with the requested output prefix: '/Users/boris/Work/CLASS-SZ/SO-SZ/class_sz_organization/notebooks/mcmcs/cobaya/notebooks/../chains/pyactlike'\n",
      "[0 : output] Will delete previous products ('force' was requested).\n",
      "Metal device set to: Apple M1 Pro\n",
      "\n",
      "systemMemory: 16.00 GB\n",
      "maxCacheSize: 5.33 GB\n",
      "\n",
      "Metal device set to: Apple M1 Pro\n",
      "\n",
      "systemMemory: 16.00 GB\n",
      "maxCacheSize: 5.33 GB\n",
      "\n",
      "Metal device set to: Apple M1 Pro\n",
      "\n",
      "systemMemory: 16.00 GB\n",
      "maxCacheSize: 5.33 GB\n",
      "\n",
      "Metal device set to: Apple M1 Pro\n",
      "\n",
      "systemMemory: 16.00 GB\n",
      "maxCacheSize: 5.33 GB\n",
      "\n",
      "[0 : tensorflow] *WARNING* Please fix your imports. Module tensorflow.python.training.tracking.data_structures has been moved to tensorflow.python.trackable.data_structures. The old module will be deleted in version 2.11.\n",
      "[1 : tensorflow] *WARNING* Please fix your imports. Module tensorflow.python.training.tracking.data_structures has been moved to tensorflow.python.trackable.data_structures. The old module will be deleted in version 2.11.\n",
      "[2 : tensorflow] *WARNING* Please fix your imports. Module tensorflow.python.training.tracking.data_structures has been moved to tensorflow.python.trackable.data_structures. The old module will be deleted in version 2.11.\n",
      "[3 : tensorflow] *WARNING* Please fix your imports. Module tensorflow.python.training.tracking.data_structures has been moved to tensorflow.python.trackable.data_structures. The old module will be deleted in version 2.11.\n"
     ]
    },
    {
     "name": "stderr",
     "output_type": "stream",
     "text": [
      "2023-05-06 13:19:01.275304: I tensorflow/core/common_runtime/pluggable_device/pluggable_device_factory.cc:306] Could not identify NUMA node of platform GPU ID 0, defaulting to 0. Your kernel may not have been built with NUMA support.\n",
      "2023-05-06 13:19:01.275310: I tensorflow/core/common_runtime/pluggable_device/pluggable_device_factory.cc:306] Could not identify NUMA node of platform GPU ID 0, defaulting to 0. Your kernel may not have been built with NUMA support.\n",
      "2023-05-06 13:19:01.275304: I tensorflow/core/common_runtime/pluggable_device/pluggable_device_factory.cc:306] Could not identify NUMA node of platform GPU ID 0, defaulting to 0. Your kernel may not have been built with NUMA support.\n",
      "2023-05-06 13:19:01.275304: I tensorflow/core/common_runtime/pluggable_device/pluggable_device_factory.cc:306] Could not identify NUMA node of platform GPU ID 0, defaulting to 0. Your kernel may not have been built with NUMA support.\n",
      "2023-05-06 13:19:01.275620: I tensorflow/core/common_runtime/pluggable_device/pluggable_device_factory.cc:272] Created TensorFlow device (/job:localhost/replica:0/task:0/device:GPU:0 with 0 MB memory) -> physical PluggableDevice (device: 0, name: METAL, pci bus id: <undefined>)\n",
      "2023-05-06 13:19:01.275618: I tensorflow/core/common_runtime/pluggable_device/pluggable_device_factory.cc:272] Created TensorFlow device (/job:localhost/replica:0/task:0/device:GPU:0 with 0 MB memory) -> physical PluggableDevice (device: 0, name: METAL, pci bus id: <undefined>)\n",
      "2023-05-06 13:19:01.275617: I tensorflow/core/common_runtime/pluggable_device/pluggable_device_factory.cc:272] Created TensorFlow device (/job:localhost/replica:0/task:0/device:GPU:0 with 0 MB memory) -> physical PluggableDevice (device: 0, name: METAL, pci bus id: <undefined>)\n",
      "2023-05-06 13:19:01.275624: I tensorflow/core/common_runtime/pluggable_device/pluggable_device_factory.cc:272] Created TensorFlow device (/job:localhost/replica:0/task:0/device:GPU:0 with 0 MB memory) -> physical PluggableDevice (device: 0, name: METAL, pci bus id: <undefined>)\n"
     ]
    },
    {
     "name": "stdout",
     "output_type": "stream",
     "text": [
      "[3 : classy_szfast.classy_sz.classy_sz] Initialized!\n",
      "[0 : classy_szfast.classy_sz.classy_sz] Initialized!\n",
      "[1 : classy_szfast.classy_sz.classy_sz] Initialized!\n",
      "[2 : classy_szfast.classy_sz.classy_sz] Initialized!\n",
      "[0 : prior] *WARNING* There are unbounded parameters (['tau_reio']). Prior bounds are given at 0.9999995 confidence level. Beware of likelihood modes at the edge of the prior\n",
      "[2 : mcmc] Getting initial point... (this may take a few seconds)\n",
      "[3 : mcmc] Getting initial point... (this may take a few seconds)\n",
      "[1 : mcmc] Getting initial point... (this may take a few seconds)\n",
      "[0 : mcmc] Getting initial point... (this may take a few seconds)\n",
      "[0 : model] Measuring speeds... (this may take a few seconds)\n",
      "[0 : model] Setting measured speeds (per sec): {pyactlike.ACTPol_lite_DR4: 588.0, classy_szfast.classy_sz.classy_sz: 19.4}\n",
      "[0 : mcmc] Initial point: H0:75.31802, logA:2.879315, n_s:0.959254, omega_b:0.02215831, omega_cdm:0.1279916, tau_reio:0.0637321, yp2:1.023866\n",
      "[0 : mcmc] Oversampling with factors:\n",
      "[0 : mcmc] * 1 : ['H0', 'logA', 'n_s', 'omega_b', 'omega_cdm', 'tau_reio']\n",
      "[0 : mcmc] * 3 : ['yp2']\n",
      "[2 : mcmc] Initial point: H0:69.08377, logA:2.9532, n_s:0.9338367, omega_b:0.02139244, omega_cdm:0.1240574, tau_reio:0.0661238, yp2:1.011622\n",
      "[1 : mcmc] Initial point: H0:70.73248, logA:2.972623, n_s:0.9239566, omega_b:0.02171143, omega_cdm:0.1303258, tau_reio:0.06821693, yp2:1.012322\n",
      "[3 : mcmc] Initial point: H0:69.87576, logA:2.700162, n_s:0.9233263, omega_b:0.02086664, omega_cdm:0.1449035, tau_reio:0.06111699, yp2:1.011095\n",
      "[0 : mcmc] Covariance matrix loaded for params ['H0', 'logA', 'n_s', 'omega_b', 'omega_cdm', 'tau_reio', 'yp2']\n",
      "[0 : mcmc] All parameters' covariance loaded from given covmat.\n",
      "[0 : mcmc] Sampling! (NB: no accepted step will be saved until 50 burn-in samples have been obtained)\n",
      "[3 : mcmc] Progress @ 2023-05-06 13:19:06 : 1 steps taken -- still burning in, 50 accepted steps left.\n",
      "[2 : mcmc] Progress @ 2023-05-06 13:19:06 : 1 steps taken -- still burning in, 51 accepted steps left.\n",
      "[0 : mcmc] Progress @ 2023-05-06 13:19:06 : 1 steps taken -- still burning in, 50 accepted steps left.\n",
      "[1 : mcmc] Progress @ 2023-05-06 13:19:06 : 1 steps taken -- still burning in, 51 accepted steps left.\n",
      "[3 : mcmc] Finished burn-in phase: discarded 50 accepted steps.\n",
      "[1 : mcmc] Finished burn-in phase: discarded 50 accepted steps.\n",
      "[2 : mcmc] Finished burn-in phase: discarded 50 accepted steps.\n",
      "[0 : mcmc] Finished burn-in phase: discarded 50 accepted steps.\n",
      "[3 : mcmc] Learn + convergence test @ 360 samples accepted.\n",
      "[3 : mcmc] Ready to check convergence and learn a new proposal covmat (waiting for the rest...)\n",
      "[1 : mcmc] Learn + convergence test @ 360 samples accepted.\n",
      "[1 : mcmc] Ready to check convergence and learn a new proposal covmat (waiting for the rest...)\n",
      "[2 : mcmc] Learn + convergence test @ 360 samples accepted.\n",
      "[2 : mcmc] Ready to check convergence and learn a new proposal covmat (waiting for the rest...)\n",
      "[0 : mcmc] Learn + convergence test @ 360 samples accepted.\n",
      "[0 : mcmc] Ready to check convergence and learn a new proposal covmat (waiting for the rest...)\n",
      "[0 : mcmc] All chains are ready to check convergence and learn a new proposal covmat\n",
      "[0 : mcmc]  - Acceptance rate: 0.416 = avg([0.410958904109589, 0.4382284382284382, 0.4092920353982301, 0.40618955512572535])\n",
      "[0 : mcmc]  - Convergence of means: R-1 = 0.511815 after 1524 accepted steps = sum([360, 375, 369, 420])\n",
      "[0 : mcmc]  - Updated covariance matrix of proposal pdf.\n",
      "[3 : mcmc] Learn + convergence test @ 720 samples accepted.\n",
      "[3 : mcmc] Ready to check convergence and learn a new proposal covmat (waiting for the rest...)\n",
      "[0 : mcmc] Learn + convergence test @ 720 samples accepted.\n",
      "[0 : mcmc] Ready to check convergence and learn a new proposal covmat (waiting for the rest...)\n",
      "[2 : mcmc] Learn + convergence test @ 720 samples accepted.\n",
      "[2 : mcmc] Ready to check convergence and learn a new proposal covmat (waiting for the rest...)\n",
      "[1 : mcmc] Learn + convergence test @ 720 samples accepted.\n",
      "[1 : mcmc] Ready to check convergence and learn a new proposal covmat (waiting for the rest...)\n",
      "[0 : mcmc] All chains are ready to check convergence and learn a new proposal covmat\n",
      "[0 : mcmc]  - Acceptance rate: 0.324 = avg([0.34051724137931033, 0.2891566265060241, 0.32173174872665533, 0.3407043407043407])\n",
      "[0 : mcmc]  - Convergence of means: R-1 = 0.173080 after 3098 accepted steps = sum([789, 720, 757, 832])\n",
      "[0 : mcmc]  - Updated covariance matrix of proposal pdf.\n",
      "[2 : mcmc] Progress @ 2023-05-06 13:20:06 : 2617 steps taken, and 953 accepted.\n",
      "[3 : mcmc] Progress @ 2023-05-06 13:20:06 : 2680 steps taken, and 1000 accepted.\n",
      "[0 : mcmc] Progress @ 2023-05-06 13:20:06 : 2652 steps taken, and 984 accepted.\n",
      "[1 : mcmc] Progress @ 2023-05-06 13:20:06 : 2597 steps taken, and 879 accepted.\n",
      "[3 : mcmc] Learn + convergence test @ 1080 samples accepted.\n",
      "[3 : mcmc] Ready to check convergence and learn a new proposal covmat (waiting for the rest...)\n",
      "[0 : mcmc] Learn + convergence test @ 1080 samples accepted.\n",
      "[0 : mcmc] Ready to check convergence and learn a new proposal covmat (waiting for the rest...)\n",
      "[2 : mcmc] Learn + convergence test @ 1080 samples accepted.\n",
      "[2 : mcmc] Ready to check convergence and learn a new proposal covmat (waiting for the rest...)\n",
      "[1 : mcmc] Learn + convergence test @ 1080 samples accepted.\n",
      "[1 : mcmc] Ready to check convergence and learn a new proposal covmat (waiting for the rest...)\n",
      "[0 : mcmc] All chains are ready to check convergence and learn a new proposal covmat\n",
      "[0 : mcmc]  - Acceptance rate: 0.384 = avg([0.3974272173324306, 0.371900826446281, 0.39986139986139985, 0.3645443196004994])\n",
      "[0 : mcmc]  - Convergence of means: R-1 = 0.194085 after 4574 accepted steps = sum([1173, 1080, 1154, 1167])\n",
      "[0 : mcmc]  - Updated covariance matrix of proposal pdf.\n",
      "[3 : mcmc] Learn + convergence test @ 1440 samples accepted.\n",
      "[3 : mcmc] Ready to check convergence and learn a new proposal covmat (waiting for the rest...)\n",
      "[0 : mcmc] Learn + convergence test @ 1440 samples accepted.\n",
      "[0 : mcmc] Ready to check convergence and learn a new proposal covmat (waiting for the rest...)\n",
      "[2 : mcmc] Learn + convergence test @ 1440 samples accepted.\n",
      "[2 : mcmc] Ready to check convergence and learn a new proposal covmat (waiting for the rest...)\n",
      "[1 : mcmc] Learn + convergence test @ 1440 samples accepted.\n",
      "[1 : mcmc] Ready to check convergence and learn a new proposal covmat (waiting for the rest...)\n",
      "[0 : mcmc] All chains are ready to check convergence and learn a new proposal covmat\n",
      "[0 : mcmc]  - Acceptance rate: 0.417 = avg([0.4242928452579035, 0.4178757980266976, 0.4122905027932961, 0.4122946475887652])\n",
      "[0 : mcmc]  - Convergence of means: R-1 = 0.086071 after 5999 accepted steps = sum([1529, 1440, 1475, 1555])\n",
      "[0 : mcmc]  - Updated covariance matrix of proposal pdf.\n",
      "[3 : mcmc] Learn + convergence test @ 1800 samples accepted.\n",
      "[3 : mcmc] Ready to check convergence and learn a new proposal covmat (waiting for the rest...)\n",
      "[0 : mcmc] Learn + convergence test @ 1800 samples accepted.\n",
      "[0 : mcmc] Ready to check convergence and learn a new proposal covmat (waiting for the rest...)\n",
      "[2 : mcmc] Learn + convergence test @ 1800 samples accepted.\n",
      "[2 : mcmc] Ready to check convergence and learn a new proposal covmat (waiting for the rest...)\n",
      "[1 : mcmc] Learn + convergence test @ 1800 samples accepted.\n",
      "[1 : mcmc] Ready to check convergence and learn a new proposal covmat (waiting for the rest...)\n",
      "[0 : mcmc] All chains are ready to check convergence and learn a new proposal covmat\n",
      "[0 : mcmc]  - Acceptance rate: 0.418 = avg([0.4224910394265233, 0.4235294117647059, 0.41715312079030087, 0.41015625])\n",
      "[0 : mcmc]  - Convergence of means: R-1 = 0.102140 after 7432 accepted steps = sum([1885, 1800, 1858, 1889])\n",
      "[0 : mcmc]  - Updated covariance matrix of proposal pdf.\n",
      "[1 : mcmc] Progress @ 2023-05-06 13:21:06 : 5178 steps taken, and 1985 accepted.\n",
      "[3 : mcmc] Progress @ 2023-05-06 13:21:06 : 5269 steps taken, and 2071 accepted.\n",
      "[2 : mcmc] Progress @ 2023-05-06 13:21:06 : 5201 steps taken, and 2030 accepted.\n",
      "[0 : mcmc] Progress @ 2023-05-06 13:21:06 : 5219 steps taken, and 2078 accepted.\n",
      "[0 : mcmc] Learn + convergence test @ 2160 samples accepted.\n",
      "[0 : mcmc] Ready to check convergence and learn a new proposal covmat (waiting for the rest...)\n",
      "[3 : mcmc] Learn + convergence test @ 2160 samples accepted.\n",
      "[3 : mcmc] Ready to check convergence and learn a new proposal covmat (waiting for the rest...)\n",
      "[2 : mcmc] Learn + convergence test @ 2160 samples accepted.\n",
      "[2 : mcmc] Ready to check convergence and learn a new proposal covmat (waiting for the rest...)\n",
      "[1 : mcmc] Learn + convergence test @ 2160 samples accepted.\n",
      "[1 : mcmc] Ready to check convergence and learn a new proposal covmat (waiting for the rest...)\n",
      "[0 : mcmc] All chains are ready to check convergence and learn a new proposal covmat\n",
      "[0 : mcmc]  - Acceptance rate: 0.421 = avg([0.43116490166414523, 0.4231974921630094, 0.41161242603550297, 0.4167283493708364])\n",
      "[0 : mcmc]  - Convergence of means: R-1 = 0.063553 after 8916 accepted steps = sum([2279, 2160, 2225, 2252])\n",
      "[0 : mcmc]  - Updated covariance matrix of proposal pdf.\n",
      "[0 : mcmc] Learn + convergence test @ 2520 samples accepted.\n",
      "[0 : mcmc] Ready to check convergence and learn a new proposal covmat (waiting for the rest...)\n",
      "[3 : mcmc] Learn + convergence test @ 2520 samples accepted.\n",
      "[3 : mcmc] Ready to check convergence and learn a new proposal covmat (waiting for the rest...)\n",
      "[2 : mcmc] Learn + convergence test @ 2520 samples accepted.\n",
      "[2 : mcmc] Ready to check convergence and learn a new proposal covmat (waiting for the rest...)\n",
      "[1 : mcmc] Learn + convergence test @ 2520 samples accepted.\n",
      "[1 : mcmc] Ready to check convergence and learn a new proposal covmat (waiting for the rest...)\n",
      "[0 : mcmc] All chains are ready to check convergence and learn a new proposal covmat\n",
      "[0 : mcmc]  - Acceptance rate: 0.420 = avg([0.4306451612903226, 0.42239356352665103, 0.4086569064290261, 0.4173052362707535])\n",
      "[0 : mcmc]  - Convergence of means: R-1 = 0.035662 after 10370 accepted steps = sum([2669, 2520, 2567, 2614])\n",
      "[0 : mcmc]  - Updated covariance matrix of proposal pdf.\n",
      "[0 : mcmc] Learn + convergence test @ 2880 samples accepted.\n",
      "[0 : mcmc] Ready to check convergence and learn a new proposal covmat (waiting for the rest...)\n",
      "[3 : mcmc] Learn + convergence test @ 2880 samples accepted.\n",
      "[3 : mcmc] Ready to check convergence and learn a new proposal covmat (waiting for the rest...)\n",
      "[2 : mcmc] Learn + convergence test @ 2880 samples accepted.\n",
      "[2 : mcmc] Ready to check convergence and learn a new proposal covmat (waiting for the rest...)\n",
      "[1 : mcmc] Learn + convergence test @ 2880 samples accepted.\n",
      "[1 : mcmc] Ready to check convergence and learn a new proposal covmat (waiting for the rest...)\n",
      "[0 : mcmc] All chains are ready to check convergence and learn a new proposal covmat\n",
      "[0 : mcmc]  - Acceptance rate: 0.423 = avg([0.4312606959498003, 0.4227833235466823, 0.4197707736389685, 0.41981931112365894])\n",
      "[0 : mcmc]  - Convergence of means: R-1 = 0.043271 after 11805 accepted steps = sum([3023, 2880, 2929, 2973])\n",
      "[0 : mcmc]  - Convergence of bounds: R-1 = 0.120735 after 11805 accepted steps = sum([3023, 2880, 2929, 2973])\n",
      "[0 : mcmc] The run has converged!\n",
      "[0 : mcmc] Sampling complete after 11805 accepted steps.\n",
      "\u001b[0m\u001b[0m\u001b[0m\u001b[0mCPU times: user 36.9 ms, sys: 65.8 ms, total: 103 ms\n",
      "Wall time: 3min 1s\n"
     ]
    },
    {
     "data": {
      "text/plain": [
       "0"
      ]
     },
     "execution_count": 29,
     "metadata": {},
     "output_type": "execute_result"
    }
   ],
   "source": [
    "%%time\n",
    "str_cmd_subprocess = [\"mpirun\",\n",
    "                      \"-np\",\"4\",\n",
    "                      \"cobaya-run\",\n",
    "                      \"../input_files/pyactlike_system.yaml\",\n",
    "                      \"-f\"]\n",
    "subprocess.call(str_cmd_subprocess)"
   ]
  },
  {
   "cell_type": "markdown",
   "id": "c990ff5d-9261-4c05-9a99-aded5413855e",
   "metadata": {},
   "source": [
    "# Plot with getdist"
   ]
  },
  {
   "cell_type": "markdown",
   "id": "e65baa9b-f38c-4859-9a17-cd4c0a929567",
   "metadata": {},
   "source": [
    "## Analyse"
   ]
  },
  {
   "cell_type": "code",
   "execution_count": 30,
   "id": "9f40f3e2-226e-45ae-8561-f56d2611568b",
   "metadata": {},
   "outputs": [
    {
     "name": "stdout",
     "output_type": "stream",
     "text": [
      "running getdist on chains /Users/boris/Work/CLASS-SZ/SO-SZ/class_sz_organization/notebooks/mcmcs/cobaya/notebooks/../chains/pyactlike\n",
      "producing files in directory  ./\n",
      "/Users/boris/Work/CLASS-SZ/SO-SZ/class_sz_organization/notebooks/mcmcs/cobaya/notebooks/../chains/pyactlike.2.txt\n",
      "/Users/boris/Work/CLASS-SZ/SO-SZ/class_sz_organization/notebooks/mcmcs/cobaya/notebooks/../chains/pyactlike.3.txt\n",
      "/Users/boris/Work/CLASS-SZ/SO-SZ/class_sz_organization/notebooks/mcmcs/cobaya/notebooks/../chains/pyactlike.1.txt\n",
      "/Users/boris/Work/CLASS-SZ/SO-SZ/class_sz_organization/notebooks/mcmcs/cobaya/notebooks/../chains/pyactlike.4.txt\n",
      "Removed 0.2 as burn in\n",
      "Number of chains used =  4\n",
      " var(mean)/mean(var), remaining chains, worst e-value: R-1 =       0.04803\n",
      "RL: Thin for Markov:  26\n",
      "RL: Thin for indep samples:   26\n",
      "RL: Estimated burn in steps:  152  ( 63  rows)\n",
      "using 9443 rows, 11 parameters; mean weight 2.4199936460870486, tot weight 22852.0\n",
      "Approx indep samples (N/corr length): 562\n",
      "Equiv number of single samples (sum w)/max(w): 879\n",
      "Effective number of weighted samples (sum w)^2/sum(w^2): 5887\n",
      "Best fit sample -log(Like) = 131.668940\n",
      "Ln(mean 1/like) = 140.700912\n",
      "mean(-Ln(like)) = 134.934193\n",
      "-Ln(mean like)  = 133.883470\n",
      "adding derived parameters\n"
     ]
    },
    {
     "name": "stderr",
     "output_type": "stream",
     "text": [
      "producing files in directory  ./\n",
      "Removed 0.2 as burn in\n",
      "using 9443 rows, 11 parameters; mean weight 2.4199936460870486, tot weight 22852.0\n",
      "Approx indep samples (N/corr length): 562\n",
      "Equiv number of single samples (sum w)/max(w): 879\n",
      "Effective number of weighted samples (sum w)^2/sum(w^2): 5887\n",
      "Best fit sample -log(Like) = 131.668940\n",
      "Ln(mean 1/like) = 140.700912\n",
      "mean(-Ln(like)) = 134.934193\n",
      "-Ln(mean like)  = 133.883470\n"
     ]
    },
    {
     "name": "stdout",
     "output_type": "stream",
     "text": [
      "S8d5:  S_8 = 0.814\\pm 0.042\n",
      "tau_reio:  \\tau_\\mathrm{reio} = 0.064\\pm 0.014\n",
      "sigma8:  \\sigma_8 = 0.819\\pm 0.016\n",
      "CPU times: user 733 ms, sys: 100 ms, total: 833 ms\n",
      "Wall time: 1.17 s\n"
     ]
    }
   ],
   "source": [
    "%%time\n",
    "path_to_chains = []\n",
    "final_chain_dir_list = []\n",
    "\n",
    "\n",
    "final_chain_dir_list.append(path_to_chains_dir +'pyactlike')\n",
    "path_to_chains.append(path_to_chains_dir)\n",
    "\n",
    "current_path = os.path.abspath(\"\")\n",
    "\n",
    "for i in range(len(final_chain_dir_list)):\n",
    "    os.chdir(path_to_chains[i])\n",
    "    print('running getdist on chains ' + final_chain_dir_list[i])\n",
    "    str_cmd_subprocess = [\"nice\",\"-n\",\"19\",'getdist',final_chain_dir_list[i],\"--ignore_rows\",\"0.2\"]\n",
    "    subprocess.call(str_cmd_subprocess)\n",
    "os.chdir(current_path)\n",
    "\n",
    "all_samples = []\n",
    "\n",
    "i=0\n",
    "readsamps = loadMCSamples(final_chain_dir_list[i],settings={'ignore_rows':0.3})\n",
    "p = readsamps.getParams()\n",
    "print('adding derived parameters')\n",
    "params_cp = {}\n",
    "params_cp['omega_b'] = p.omega_b\n",
    "params_cp['omega_cdm'] = p.omega_cdm\n",
    "params_cp['ln10^{10}A_s'] = p.logA\n",
    "params_cp['n_s'] = p.n_s\n",
    "params_cp['tau_reio'] = p.tau_reio\n",
    "params_cp['H0'] = p.H0\n",
    "predicted_der_params = cp_der_nn.ten_to_predictions_np(params_cp)\n",
    "readsamps.addDerived(predicted_der_params[:,1],name='sigma8',label=r'\\sigma_8')\n",
    "readsamps.addDerived(predicted_der_params[:,0],name='theta_s_1e2',label=r'100*\\theta_s')\n",
    "p = readsamps.getParams()\n",
    "readsamps.addDerived((p.H0/100.)**-2.*(p.omega_b+p.omega_cdm),name='Ombc',label=r'\\Omega_m')\n",
    "\n",
    "p = readsamps.getParams()\n",
    "readsamps.addDerived(p.sigma8*(p.Ombc/0.3)**0.5,name='S8d5',label=r'S_8')\n",
    "Fs = readsamps.getInlineLatex('S8d5',limit=1)\n",
    "print('S8d5: ',Fs)\n",
    "Fs = readsamps.getInlineLatex('tau_reio',limit=1)\n",
    "print('tau_reio: ',Fs)\n",
    "Fs = readsamps.getInlineLatex('sigma8',limit=1)\n",
    "print('sigma8: ',Fs)\n",
    "\n",
    "samples = readsamps\n",
    "samples.updateBaseStatistics()\n",
    "all_samples.append(samples)"
   ]
  },
  {
   "cell_type": "markdown",
   "id": "d706d8e5-5e40-46fd-98f2-797b71426d1b",
   "metadata": {},
   "source": [
    "## Plot contours"
   ]
  },
  {
   "cell_type": "code",
   "execution_count": 31,
   "id": "68620086-6d94-4d0d-be29-6338fb20cb7c",
   "metadata": {},
   "outputs": [
    {
     "data": {
      "image/png": "[encoded data removed]",
      "text/plain": [
       "<Figure size 1000x1000 with 55 Axes>"
      ]
     },
     "metadata": {},
     "output_type": "display_data"
    }
   ],
   "source": [
    "g = plots.getSubplotPlotter()\n",
    "g.settings.fig_width_inch = 10\n",
    "\n",
    "g.settings.axes_fontsize = 10\n",
    "g.settings.lab_fontsize =13\n",
    "\n",
    "g.settings.legend_fontsize = 14\n",
    "g.settings.alpha_filled_add=0.1\n",
    "g.settings.colorbar_label_pad = 20.\n",
    "g.settings.figure_legend_frame = False\n",
    "\n",
    "g.settings.title_limit=0 #uncomment if you want to display marg stats.\n",
    "\n",
    "sample_list = []\n",
    "for s in range(len(all_samples)):\n",
    "\n",
    "    sample_list.append(all_samples[s])\n",
    "    \n",
    "g.triangle_plot(sample_list,\n",
    "    [\n",
    "    'omega_cdm',\n",
    "    'omega_b',\n",
    "    'logA',\n",
    "    'n_s',\n",
    "    'H0',\n",
    "    'tau_reio',\n",
    "    'theta_s_1e2',\n",
    "    'sigma8',\n",
    "    'Ombc',\n",
    "    'S8d5',\n",
    "    ],\n",
    "    # param_limits={'n_s':(0.97, 1.1)},\n",
    "    filled=[True,False],\n",
    "    legend_labels=[ 'classy_sz'],\n",
    "    legend_loc='upper right',\n",
    "    colors = ['blue','red','green','red'],\n",
    "    line_args=[{'lw':'1','color':'blue'},{'lw':'1','color':'red'},{'lw':'1','color':'green'},{'lw':'1','color':'r'}]\n",
    "                   )\n",
    "\n",
    "\n",
    "g.export(path_to_chains_dir +'pyactlike_classy_sz.pdf')"
   ]
  },
  {
   "cell_type": "markdown",
   "id": "e81147d4-fe87-46d4-8292-f0f4d54c020a",
   "metadata": {},
   "source": [
    "# Evaluate mode and chi2 comparison"
   ]
  },
  {
   "cell_type": "markdown",
   "id": "e04aa23f-b6b0-42e7-9ed5-afda4ee39824",
   "metadata": {},
   "source": [
    "The best-fit model from Hill, Caleberese et al (https://arxiv.org/pdf/2109.04451.pdf) has:\n",
    "chi2 = 282.5"
   ]
  },
  {
   "cell_type": "code",
   "execution_count": 59,
   "id": "93c8576e-be96-4178-9f67-8d94575b94b3",
   "metadata": {},
   "outputs": [],
   "source": [
    "Dict_yaml = yaml.safe_load(open('../input_files/pyactlike.yaml'))\n",
    "\n",
    "Dict_yaml['output'] = path_to_chains_dir +'pyactlike_evaluate'\n",
    "# Dict_yaml['sampler']['mcmc']['covmat'] = path_to_chains_dir + '../covmats/pyactlike.covmat'\n",
    "# Dict_yaml['sampler']['mcmc']['Rminus1_stop'] = 0.05\n",
    "\n",
    "\n",
    "Dict_yaml['theory'] = {}\n",
    "Dict_yaml['theory']['classy_szfast.classy_sz.classy_sz'] = {}\n",
    "Dict_yaml['theory']['classy_szfast.classy_sz.classy_sz']['use_class_sz_fast_mode'] = 1\n",
    "Dict_yaml['theory']['classy_szfast.classy_sz.classy_sz']['ell_factor'] = True\n",
    "Dict_yaml['theory']['classy_szfast.classy_sz.classy_sz']['stop_at_error'] = True\n",
    "Dict_yaml['theory']['classy_szfast.classy_sz.classy_sz']['extra_args'] = {}\n",
    "Dict_yaml['theory']['classy_szfast.classy_sz.classy_sz']['extra_args']['output'] = 'tCl'\n",
    "Dict_yaml['theory']['classy_szfast.classy_sz.classy_sz']['extra_args']['skip_background_and_thermo'] = 1\n",
    "Dict_yaml['theory']['classy_szfast.classy_sz.classy_sz']['extra_args']['skip_pkl'] = 1 # for this run we dont need this\n",
    "Dict_yaml['theory']['classy_szfast.classy_sz.classy_sz']['extra_args']['skip_pknl'] = 1 # for this run we dont need this\n",
    "Dict_yaml['theory']['classy_szfast.classy_sz.classy_sz']['extra_args']['skip_hubble'] = 1 # for this run we dont need this\n",
    "Dict_yaml['theory']['classy_szfast.classy_sz.classy_sz']['extra_args']['skip_sigma8_and_der'] = 1 # for this run we dont need this\n",
    "Dict_yaml['theory']['classy_szfast.classy_sz.classy_sz']['extra_args']['skip_sigma8_at_z'] = 1 # for this run we dont need this\n",
    "Dict_yaml['theory']['classy_szfast.classy_sz.classy_sz']['extra_args']['skip_chi'] = 1 # for this run we dont need this\n",
    "\n",
    "\n",
    "\n",
    "Dict_yaml['sampler'].pop('mcmc')\n",
    "Dict_yaml['sampler']['evaluate'] = {}\n",
    "Dict_yaml['sampler']['evaluate']['override'] = {}\n",
    "Dict_yaml['sampler']['evaluate']['override']['logA'] = 3.043\n",
    "Dict_yaml['sampler']['evaluate']['override']['n_s'] = 1.013\n",
    "Dict_yaml['sampler']['evaluate']['override']['omega_b'] = 0.02149\n",
    "Dict_yaml['sampler']['evaluate']['override']['omega_cdm'] = 0.1170\n",
    "Dict_yaml['sampler']['evaluate']['override']['tau_reio'] = 0.063\n",
    "Dict_yaml['sampler']['evaluate']['override']['yp2'] = 1.0009\n",
    "Dict_yaml['sampler']['evaluate']['override']['H0'] = 68.2\n",
    "\n",
    "Dict_yaml['timing'] = True\n",
    "\n",
    "\n",
    "with open('../input_files/pyactlike_evaluate_system.yaml', 'w') as outfile:\n",
    "    yaml.dump(Dict_yaml, outfile, default_flow_style=False)"
   ]
  },
  {
   "cell_type": "code",
   "execution_count": 61,
   "id": "bbe0773b-5bf5-41d5-ae58-a324e8fd506a",
   "metadata": {},
   "outputs": [
    {
     "name": "stdout",
     "output_type": "stream",
     "text": [
      "[output] Output to be read-from/written-into folder '/Users/boris/Work/CLASS-SZ/SO-SZ/class_sz_organization/notebooks/mcmcs/cobaya/notebooks/../chains', with prefix 'pyactlike_evaluate'\n",
      "[output] Found existing info files with the requested output prefix: '/Users/boris/Work/CLASS-SZ/SO-SZ/class_sz_organization/notebooks/mcmcs/cobaya/notebooks/../chains/pyactlike_evaluate'\n",
      "[output] Will delete previous products ('force' was requested).\n",
      "Metal device set to: Apple M1 Pro\n",
      "[tensorflow] *WARNING* Please fix your imports. Module tensorflow.python.training.tracking.data_structures has been moved to tensorflow.python.trackable.data_structures. The old module will be deleted in version 2.11.\n"
     ]
    },
    {
     "name": "stderr",
     "output_type": "stream",
     "text": [
      "2023-05-06 13:47:07.952267: I tensorflow/core/common_runtime/pluggable_device/pluggable_device_factory.cc:306] Could not identify NUMA node of platform GPU ID 0, defaulting to 0. Your kernel may not have been built with NUMA support.\n",
      "2023-05-06 13:47:07.952414: I tensorflow/core/common_runtime/pluggable_device/pluggable_device_factory.cc:272] Created TensorFlow device (/job:localhost/replica:0/task:0/device:GPU:0 with 0 MB memory) -> physical PluggableDevice (device: 0, name: METAL, pci bus id: <undefined>)\n"
     ]
    },
    {
     "name": "stdout",
     "output_type": "stream",
     "text": [
      "[classy_szfast.classy_sz.classy_sz] Initialized!\n",
      "[prior] *WARNING* There are unbounded parameters (['tau_reio']). Prior bounds are given at 0.9999995 confidence level. Beware of likelihood modes at the edge of the prior\n",
      "[evaluate] Initialized!\n",
      "[evaluate] Looking for a reference point with non-zero prior.\n",
      "[evaluate] Reference point:\n",
      "   H0 = 68.2\n",
      "   logA = 3.043\n",
      "   n_s = 1.013\n",
      "   omega_b = 0.02149\n",
      "   omega_cdm = 0.117\n",
      "   tau_reio = 0.063\n",
      "   yp2 = 1.0009\n",
      "[evaluate] Evaluating prior and likelihoods...\n",
      "[evaluate] log-posterior  = -131.544\n",
      "[evaluate] log-prior      = 9.82383\n",
      "[evaluate]    logprior_0 = 9.82383\n",
      "[evaluate] log-likelihood = -141.368\n",
      "[evaluate]    chi2_pyactlike.ACTPol_lite_DR4 = 282.736\n",
      "[evaluate] Derived params:\n",
      "[pyactlike.actpol_lite_dr4] Average evaluation time for pyactlike.ACTPol_lite_DR4: 0.00131746 s  (1 evaluations)\n",
      "[classy_szfast.classy_sz.classy_sz] Average evaluation time for classy_szfast.classy_sz.classy_sz: 0.023002 s  (1 evaluations)\n",
      "\n",
      "systemMemory: 16.00 GB\n",
      "maxCacheSize: 5.33 GB\n",
      "\n",
      "CPU times: user 3.42 ms, sys: 16.8 ms, total: 20.2 ms\n",
      "Wall time: 4.01 s\n"
     ]
    },
    {
     "data": {
      "text/plain": [
       "0"
      ]
     },
     "execution_count": 61,
     "metadata": {},
     "output_type": "execute_result"
    }
   ],
   "source": [
    "%%time\n",
    "str_cmd_subprocess = [\"cobaya-run\",\n",
    "                      \"../input_files/pyactlike_evaluate_system.yaml\",\n",
    "                      \"-f\"]\n",
    "subprocess.call(str_cmd_subprocess)"
   ]
  },
  {
   "cell_type": "markdown",
   "id": "1cca53f7-7827-4f68-a34f-62308ba49c31",
   "metadata": {},
   "source": [
    "## Comparison with camb and class"
   ]
  },
  {
   "cell_type": "markdown",
   "id": "93a563e1-bdd8-4b72-8c2a-147b37ff7add",
   "metadata": {},
   "source": [
    "### class ultra high accuracy"
   ]
  },
  {
   "cell_type": "code",
   "execution_count": 13,
   "id": "a1740fa5-5a91-420b-8040-c96664dd656d",
   "metadata": {},
   "outputs": [],
   "source": [
    "Dict_yaml = yaml.safe_load(open('../input_files/pyactlike.yaml'))\n",
    "\n",
    "Dict_yaml['output'] = path_to_chains_dir +'pyactlike_class-uha_evaluate'\n",
    "# Dict_yaml['sampler']['mcmc']['covmat'] = path_to_chains_dir + '../covmats/pyactlike.covmat'\n",
    "# Dict_yaml['sampler']['mcmc']['Rminus1_stop'] = 0.05\n",
    "\n",
    "\n",
    "Dict_yaml['theory'] = {}\n",
    "Dict_yaml['theory']['classy_szfast.classy_sz.classy_sz'] = {}\n",
    "Dict_yaml['theory']['classy_szfast.classy_sz.classy_sz']['use_class_sz_fast_mode'] = 1\n",
    "Dict_yaml['theory']['classy_szfast.classy_sz.classy_sz']['ell_factor'] = True\n",
    "Dict_yaml['theory']['classy_szfast.classy_sz.classy_sz']['stop_at_error'] = True\n",
    "Dict_yaml['theory']['classy_szfast.classy_sz.classy_sz']['extra_args'] = {}\n",
    "Dict_yaml['theory']['classy_szfast.classy_sz.classy_sz']['extra_args']['output'] = 'tCl'\n",
    "Dict_yaml['theory']['classy_szfast.classy_sz.classy_sz']['extra_args']['skip_background_and_thermo'] = 1\n",
    "Dict_yaml['theory']['classy_szfast.classy_sz.classy_sz']['extra_args']['skip_pkl'] = 1 # for this run we dont need this\n",
    "Dict_yaml['theory']['classy_szfast.classy_sz.classy_sz']['extra_args']['skip_pknl'] = 1 # for this run we dont need this\n",
    "Dict_yaml['theory']['classy_szfast.classy_sz.classy_sz']['extra_args']['skip_hubble'] = 1 # for this run we dont need this\n",
    "Dict_yaml['theory']['classy_szfast.classy_sz.classy_sz']['extra_args']['skip_sigma8_and_der'] = 1 # for this run we dont need this\n",
    "Dict_yaml['theory']['classy_szfast.classy_sz.classy_sz']['extra_args']['skip_sigma8_at_z'] = 1 # for this run we dont need this\n",
    "Dict_yaml['theory']['classy_szfast.classy_sz.classy_sz']['extra_args']['skip_chi'] = 1 # for this run we dont need this\n",
    "\n",
    "Dict_yaml['theory']['classy_szfast.classy_sz.classy_sz']['extra_args']['use_cmb_cls_from_file'] = 1\n",
    "Dict_yaml['theory']['classy_szfast.classy_sz.classy_sz']['extra_args']['cmb_cls_filename'] = '/Users/boris/Work/CLASS-SZ/SO-SZ/class_sz/class_sz_auxiliary_files/class_uha_6may23_edeppaper_lcdmbf.pickle'\n",
    "\n",
    "\n",
    "Dict_yaml['sampler'].pop('mcmc')\n",
    "Dict_yaml['sampler']['evaluate'] = {}\n",
    "Dict_yaml['sampler']['evaluate']['override'] = {}\n",
    "Dict_yaml['sampler']['evaluate']['override']['logA'] = 3.043\n",
    "Dict_yaml['sampler']['evaluate']['override']['n_s'] = 1.013\n",
    "Dict_yaml['sampler']['evaluate']['override']['omega_b'] = 0.02149\n",
    "Dict_yaml['sampler']['evaluate']['override']['omega_cdm'] = 0.1170\n",
    "Dict_yaml['sampler']['evaluate']['override']['tau_reio'] = 0.063\n",
    "Dict_yaml['sampler']['evaluate']['override']['yp2'] = 1.0009\n",
    "Dict_yaml['sampler']['evaluate']['override']['H0'] = 68.2\n",
    "\n",
    "Dict_yaml['timing'] = True\n",
    "\n",
    "\n",
    "with open('../input_files/pyactlike_class-uha_evaluate_system.yaml', 'w') as outfile:\n",
    "    yaml.dump(Dict_yaml, outfile, default_flow_style=False)"
   ]
  },
  {
   "cell_type": "code",
   "execution_count": 14,
   "id": "1521deac-1fe0-4767-bd09-b6c7f8d47d8c",
   "metadata": {},
   "outputs": [
    {
     "name": "stdout",
     "output_type": "stream",
     "text": [
      "[output] Output to be read-from/written-into folder '/Users/boris/Work/CLASS-SZ/SO-SZ/class_sz_organization/notebooks/mcmcs/cobaya/notebooks/../chains', with prefix 'pyactlike_class-uha_evaluate'\n",
      "Metal device set to: Apple M1 Pro\n",
      "[tensorflow] *WARNING* Please fix your imports. Module tensorflow.python.training.tracking.data_structures has been moved to tensorflow.python.trackable.data_structures. The old module will be deleted in version 2.11.\n"
     ]
    },
    {
     "name": "stderr",
     "output_type": "stream",
     "text": [
      "2023-05-06 23:01:16.195794: I tensorflow/core/common_runtime/pluggable_device/pluggable_device_factory.cc:306] Could not identify NUMA node of platform GPU ID 0, defaulting to 0. Your kernel may not have been built with NUMA support.\n",
      "2023-05-06 23:01:16.195918: I tensorflow/core/common_runtime/pluggable_device/pluggable_device_factory.cc:272] Created TensorFlow device (/job:localhost/replica:0/task:0/device:GPU:0 with 0 MB memory) -> physical PluggableDevice (device: 0, name: METAL, pci bus id: <undefined>)\n"
     ]
    },
    {
     "name": "stdout",
     "output_type": "stream",
     "text": [
      "[classy_szfast.classy_sz.classy_sz] Initialized!\n",
      "[prior] *WARNING* There are unbounded parameters (['tau_reio']). Prior bounds are given at 0.9999995 confidence level. Beware of likelihood modes at the edge of the prior\n",
      "[evaluate] Initialized!\n",
      "[evaluate] Looking for a reference point with non-zero prior.\n",
      "[evaluate] Reference point:\n",
      "   H0 = 68.2\n",
      "   logA = 3.043\n",
      "   n_s = 1.013\n",
      "   omega_b = 0.02149\n",
      "   omega_cdm = 0.117\n",
      "   tau_reio = 0.063\n",
      "   yp2 = 1.0009\n",
      "[evaluate] Evaluating prior and likelihoods...\n",
      "[evaluate] log-posterior  = -131.448\n",
      "[evaluate] log-prior      = 9.82383\n",
      "[evaluate]    logprior_0 = 9.82383\n",
      "[evaluate] log-likelihood = -141.272\n",
      "[evaluate]    chi2_pyactlike.ACTPol_lite_DR4 = 282.543\n",
      "[evaluate] Derived params:\n",
      "[pyactlike.actpol_lite_dr4] Average evaluation time for pyactlike.ACTPol_lite_DR4: 0.001928 s  (1 evaluations)\n",
      "[classy_szfast.classy_sz.classy_sz] Average evaluation time for classy_szfast.classy_sz.classy_sz: 0.00178054 s  (1 evaluations)\n",
      "\n",
      "systemMemory: 16.00 GB\n",
      "maxCacheSize: 5.33 GB\n",
      "\n",
      "CPU times: user 4.58 ms, sys: 30.2 ms, total: 34.8 ms\n",
      "Wall time: 4.99 s\n"
     ]
    },
    {
     "data": {
      "text/plain": [
       "0"
      ]
     },
     "execution_count": 14,
     "metadata": {},
     "output_type": "execute_result"
    }
   ],
   "source": [
    "%%time\n",
    "str_cmd_subprocess = [\"cobaya-run\",\n",
    "                      \"../input_files/pyactlike_class-uha_evaluate_system.yaml\",\n",
    "                      \"-f\"]\n",
    "subprocess.call(str_cmd_subprocess)"
   ]
  },
  {
   "cell_type": "markdown",
   "id": "e2f0794a-2ade-45eb-973b-b6f69b99ec7b",
   "metadata": {},
   "source": [
    "### camb"
   ]
  },
  {
   "cell_type": "code",
   "execution_count": 83,
   "id": "27a63865-391b-4acd-b0e4-88b3ffb5e1d7",
   "metadata": {},
   "outputs": [],
   "source": [
    "Dict_yaml = yaml.safe_load(open('../input_files/pyactlike.yaml'))\n",
    "\n",
    "Dict_yaml['output'] = path_to_chains_dir +'pyactlike_evaluate_camb'\n",
    "# Dict_yaml['sampler']['mcmc']['covmat'] = path_to_chains_dir + '../covmats/pyactlike.covmat'\n",
    "# Dict_yaml['sampler']['mcmc']['Rminus1_stop'] = 0.05\n",
    "\n",
    "\n",
    "Dict_yaml['theory'] = {}\n",
    "Dict_yaml['theory']['camb'] = {}\n",
    "Dict_yaml['theory']['camb']['extra_args'] ={ \n",
    "    'lens_potential_accuracy': 8,\n",
    "    'mnu': 0.06,\n",
    "    'nonlinear': True,\n",
    "    'HMCode_A_baryon': 3.13,\n",
    "    'HMCode_eta_baryon': 0.603,\n",
    "    'halofit_version': 'mead2016',\n",
    "    'HMCode_logT_AGN': 7.8,\n",
    "    'kmax': 10.,\n",
    "    'k_per_logint': 130,\n",
    "    'accurate_massive_neutrino_transfers': True,\n",
    "    'lens_margin': 2050,\n",
    "    'lAccuracyBoost': 2.0,\n",
    "    'AccuracyBoost': 2.0,\n",
    "    'lSampleBoost': 2.0,\n",
    "    'DoLateRadTruncation': False\n",
    "}\n",
    "\n",
    "Dict_yaml['params']['ombh2'] = Dict_yaml['params'].pop('omega_b')\n",
    "Dict_yaml['params']['omch2'] = Dict_yaml['params'].pop('omega_cdm')\n",
    "Dict_yaml['params']['ns'] = Dict_yaml['params'].pop('n_s')\n",
    "Dict_yaml['params']['tau'] = Dict_yaml['params'].pop('tau_reio')\n",
    "\n",
    "Dict_yaml['params']['As'] = {\n",
    "  'value': \"lambda logA: 1e-10 * np.exp(logA)\",\n",
    "  'latex': 'A_s'\n",
    "}\n",
    "\n",
    "Dict_yaml['sampler'].pop('mcmc')\n",
    "Dict_yaml['sampler']['evaluate'] = {}\n",
    "Dict_yaml['sampler']['evaluate']['override'] = {}\n",
    "Dict_yaml['sampler']['evaluate']['override']['logA'] = 3.043\n",
    "Dict_yaml['sampler']['evaluate']['override']['ns'] = 1.013\n",
    "Dict_yaml['sampler']['evaluate']['override']['ombh2'] = 0.02149\n",
    "Dict_yaml['sampler']['evaluate']['override']['omch2'] = 0.1170\n",
    "Dict_yaml['sampler']['evaluate']['override']['tau'] = 0.063\n",
    "Dict_yaml['sampler']['evaluate']['override']['yp2'] = 1.0009\n",
    "Dict_yaml['sampler']['evaluate']['override']['H0'] = 68.2\n",
    "\n",
    "Dict_yaml['timing'] = True\n",
    "\n",
    "\n",
    "with open('../input_files/pyactlike_evaluate_camb_system.yaml', 'w') as outfile:\n",
    "    yaml.dump(Dict_yaml, outfile, default_flow_style=False)"
   ]
  },
  {
   "cell_type": "code",
   "execution_count": null,
   "id": "dc71ab67-3add-46fd-8a0f-7e2571dae35e",
   "metadata": {},
   "outputs": [],
   "source": []
  },
  {
   "cell_type": "code",
   "execution_count": 84,
   "id": "3279ab29-da31-4e50-9979-6326aaf80c8d",
   "metadata": {},
   "outputs": [
    {
     "name": "stdout",
     "output_type": "stream",
     "text": [
      "[output] Output to be read-from/written-into folder '/Users/boris/Work/CLASS-SZ/SO-SZ/class_sz_organization/notebooks/mcmcs/cobaya/notebooks/../chains', with prefix 'pyactlike_evaluate_camb'\n",
      "[output] Found existing info files with the requested output prefix: '/Users/boris/Work/CLASS-SZ/SO-SZ/class_sz_organization/notebooks/mcmcs/cobaya/notebooks/../chains/pyactlike_evaluate_camb'\n",
      "[output] Will delete previous products ('force' was requested).\n",
      "[camb] `camb` module loaded successfully from /Users/boris/Work/CLASS-SZ/SO-SZ/cobaya_packages/code/CAMB/camb\n",
      "[prior] *WARNING* There are unbounded parameters (['tau']). Prior bounds are given at 0.9999995 confidence level. Beware of likelihood modes at the edge of the prior\n",
      "[evaluate] Initialized!\n",
      "[evaluate] Looking for a reference point with non-zero prior.\n",
      "[evaluate] Reference point:\n",
      "   H0 = 68.2\n",
      "   logA = 3.043\n",
      "   ns = 1.013\n",
      "   ombh2 = 0.02149\n",
      "   omch2 = 0.117\n",
      "   tau = 0.063\n",
      "   yp2 = 1.0009\n",
      "[evaluate] Evaluating prior and likelihoods...\n",
      "[evaluate] log-posterior  = -131.472\n",
      "[evaluate] log-prior      = 9.82383\n",
      "[evaluate]    logprior_0 = 9.82383\n",
      "[evaluate] log-likelihood = -141.296\n",
      "[evaluate]    chi2_pyactlike.ACTPol_lite_DR4 = 282.592\n",
      "[evaluate] Derived params:\n",
      "[evaluate]    As = 2.09681e-09\n",
      "[pyactlike.actpol_lite_dr4] Average evaluation time for pyactlike.ACTPol_lite_DR4: 0.00123558 s  (1 evaluations)\n",
      "[camb.transfers] Average evaluation time for camb.transfers: 4.86333 s  (1 evaluations)\n",
      "[camb] Average evaluation time for camb: 6.2963 s  (1 evaluations)\n",
      "CPU times: user 4.09 ms, sys: 13.8 ms, total: 17.9 ms\n",
      "Wall time: 12.4 s\n"
     ]
    },
    {
     "data": {
      "text/plain": [
       "0"
      ]
     },
     "execution_count": 84,
     "metadata": {},
     "output_type": "execute_result"
    }
   ],
   "source": [
    "%%time\n",
    "str_cmd_subprocess = [\"cobaya-run\",\n",
    "                      \"../input_files/pyactlike_evaluate_camb_system.yaml\",\n",
    "                      \"-f\"]\n",
    "subprocess.call(str_cmd_subprocess)"
   ]
  },
  {
   "cell_type": "markdown",
   "id": "14bd8a85-2efe-433f-b379-ec113e84f6c4",
   "metadata": {},
   "source": [
    "### class v2.9.4"
   ]
  },
  {
   "cell_type": "code",
   "execution_count": 85,
   "id": "385e0a8a-2ae1-4c1f-b9eb-b6d20e7b3e92",
   "metadata": {},
   "outputs": [],
   "source": [
    "Dict_yaml = yaml.safe_load(open('../input_files/pyactlike.yaml'))\n",
    "\n",
    "Dict_yaml['output'] = path_to_chains_dir +'pyactlike_evaluate_classv294'\n",
    "# Dict_yaml['sampler']['mcmc']['covmat'] = path_to_chains_dir + '../covmats/pyactlike.covmat'\n",
    "# Dict_yaml['sampler']['mcmc']['Rminus1_stop'] = 0.05\n",
    "\n",
    "\n",
    "Dict_yaml['theory'] = {}\n",
    "Dict_yaml['theory']['classy_szfast.classy_sz.classy_sz'] = {}\n",
    "Dict_yaml['theory']['classy_szfast.classy_sz.classy_sz']['ignore_obsolete'] = True\n",
    "Dict_yaml['theory']['classy_szfast.classy_sz.classy_sz']['extra_args'] ={ \n",
    "    'output': 'tCl',\n",
    "    'N_ncdm': 1,\n",
    "    'N_ur': 2.0328,\n",
    "    'c_min': 3.13,\n",
    "    'eta_0': 0.603,\n",
    "    'l_max_scalars': 11000,\n",
    "    'm_ncdm': 0.06,\n",
    "    'non_linear': 'hmcode',\n",
    "    # the three high-precision paramaters:\n",
    "    'k_max_tau0_over_l_max': 15.0,\n",
    "    'accurate_lensing': 1,\n",
    "    'perturb_sampling_stepsize': 0.05\n",
    "}\n",
    "\n",
    "\n",
    "\n",
    "Dict_yaml['sampler'].pop('mcmc')\n",
    "Dict_yaml['sampler']['evaluate'] = {}\n",
    "Dict_yaml['sampler']['evaluate']['override'] = {}\n",
    "Dict_yaml['sampler']['evaluate']['override']['logA'] = 3.043\n",
    "Dict_yaml['sampler']['evaluate']['override']['n_s'] = 1.013\n",
    "Dict_yaml['sampler']['evaluate']['override']['omega_b'] = 0.02149\n",
    "Dict_yaml['sampler']['evaluate']['override']['omega_cdm'] = 0.1170\n",
    "Dict_yaml['sampler']['evaluate']['override']['tau_reio'] = 0.063\n",
    "Dict_yaml['sampler']['evaluate']['override']['yp2'] = 1.0009\n",
    "Dict_yaml['sampler']['evaluate']['override']['H0'] = 68.2\n",
    "\n",
    "Dict_yaml['timing'] = True\n",
    "\n",
    "\n",
    "with open('../input_files/pyactlike_evaluate_classv294_system.yaml', 'w') as outfile:\n",
    "    yaml.dump(Dict_yaml, outfile, default_flow_style=False)"
   ]
  },
  {
   "cell_type": "code",
   "execution_count": null,
   "id": "1d1462da-bb21-4d74-a254-d6da27363014",
   "metadata": {},
   "outputs": [],
   "source": []
  },
  {
   "cell_type": "code",
   "execution_count": 86,
   "id": "673e0448-bb12-44fa-9ee0-55621dba648e",
   "metadata": {},
   "outputs": [
    {
     "name": "stdout",
     "output_type": "stream",
     "text": [
      "[output] Output to be read-from/written-into folder '/Users/boris/Work/CLASS-SZ/SO-SZ/class_sz_organization/notebooks/mcmcs/cobaya/notebooks/../chains', with prefix 'pyactlike_evaluate_classv294'\n",
      "Metal device set to: Apple M1 Pro\n",
      "[tensorflow] *WARNING* Please fix your imports. Module tensorflow.python.training.tracking.data_structures has been moved to tensorflow.python.trackable.data_structures. The old module will be deleted in version 2.11.\n"
     ]
    },
    {
     "name": "stderr",
     "output_type": "stream",
     "text": [
      "2023-05-06 14:40:05.717234: I tensorflow/core/common_runtime/pluggable_device/pluggable_device_factory.cc:306] Could not identify NUMA node of platform GPU ID 0, defaulting to 0. Your kernel may not have been built with NUMA support.\n",
      "2023-05-06 14:40:05.717526: I tensorflow/core/common_runtime/pluggable_device/pluggable_device_factory.cc:272] Created TensorFlow device (/job:localhost/replica:0/task:0/device:GPU:0 with 0 MB memory) -> physical PluggableDevice (device: 0, name: METAL, pci bus id: <undefined>)\n"
     ]
    },
    {
     "name": "stdout",
     "output_type": "stream",
     "text": [
      "[classy_szfast.classy_sz.classy_sz] Initialized!\n",
      "[prior] *WARNING* There are unbounded parameters (['tau_reio']). Prior bounds are given at 0.9999995 confidence level. Beware of likelihood modes at the edge of the prior\n",
      "[evaluate] Initialized!\n",
      "[evaluate] Looking for a reference point with non-zero prior.\n",
      "[evaluate] Reference point:\n",
      "   H0 = 68.2\n",
      "   logA = 3.043\n",
      "   n_s = 1.013\n",
      "   omega_b = 0.02149\n",
      "   omega_cdm = 0.117\n",
      "   tau_reio = 0.063\n",
      "   yp2 = 1.0009\n",
      "[evaluate] Evaluating prior and likelihoods...\n",
      "[evaluate] log-posterior  = -131.53\n",
      "[evaluate] log-prior      = 9.82383\n",
      "[evaluate]    logprior_0 = 9.82383\n",
      "[evaluate] log-likelihood = -141.354\n",
      "[evaluate]    chi2_pyactlike.ACTPol_lite_DR4 = 282.709\n",
      "[evaluate] Derived params:\n",
      "[pyactlike.actpol_lite_dr4] Average evaluation time for pyactlike.ACTPol_lite_DR4: 0.0337631 s  (1 evaluations)\n",
      "[classy_szfast.classy_sz.classy_sz] Average evaluation time for classy_szfast.classy_sz.classy_sz: 126.203 s  (1 evaluations)\n",
      "\n",
      "systemMemory: 16.00 GB\n",
      "maxCacheSize: 5.33 GB\n",
      "\n",
      "CPU times: user 8.08 ms, sys: 31 ms, total: 39.1 ms\n",
      "Wall time: 2min 11s\n"
     ]
    },
    {
     "data": {
      "text/plain": [
       "0"
      ]
     },
     "execution_count": 86,
     "metadata": {},
     "output_type": "execute_result"
    }
   ],
   "source": [
    "%%time\n",
    "str_cmd_subprocess = [\"cobaya-run\",\n",
    "                      \"../input_files/pyactlike_evaluate_classv294_system.yaml\",\n",
    "                      \"-f\"]\n",
    "subprocess.call(str_cmd_subprocess)"
   ]
  },
  {
   "cell_type": "markdown",
   "id": "16079eff-e73c-4b55-b51a-74c18eb6d400",
   "metadata": {},
   "source": [
    "### class v3"
   ]
  },
  {
   "cell_type": "code",
   "execution_count": 36,
   "id": "b1ee0fdf-ca97-4647-a04c-2df23c83c2eb",
   "metadata": {},
   "outputs": [],
   "source": [
    "Dict_yaml = yaml.safe_load(open('../input_files/pyactlike.yaml'))\n",
    "\n",
    "Dict_yaml['output'] = path_to_chains_dir +'pyactlike_evaluate_classv3'\n",
    "\n",
    "\n",
    "\n",
    "Dict_yaml['theory'] = {}\n",
    "Dict_yaml['theory']['classy'] = {}\n",
    "Dict_yaml['theory']['classy']['extra_args'] ={ \n",
    "    'output': 'tCl',\n",
    "    'N_ncdm': 1,\n",
    "    'N_ur': 2.0328,\n",
    "    'c_min': 3.13,\n",
    "    'eta_0': 0.603,\n",
    "    'l_max_scalars': 11000,\n",
    "    'm_ncdm': 0.06,\n",
    "    'non_linear': 'hmcode',\n",
    "    # the three high-precision paramaters:\n",
    "    'k_max_tau0_over_l_max': 15.0,\n",
    "    'accurate_lensing': 1,\n",
    "    'perturbations_sampling_stepsize': 0.05,\n",
    "    'recombination': 'RECFAST',\n",
    "}\n",
    "\n",
    "Dict_yaml['params']['logA']['drop'] = True\n",
    "Dict_yaml['params']['A_s'] = {\n",
    "  'value': \"lambda logA: 1e-10 * np.exp(logA)\",\n",
    "  'latex': 'A_s'\n",
    "}\n",
    "\n",
    "Dict_yaml['sampler'].pop('mcmc')\n",
    "Dict_yaml['sampler']['evaluate'] = {}\n",
    "Dict_yaml['sampler']['evaluate']['override'] = {}\n",
    "Dict_yaml['sampler']['evaluate']['override']['logA'] = 3.043\n",
    "Dict_yaml['sampler']['evaluate']['override']['n_s'] = 1.013\n",
    "Dict_yaml['sampler']['evaluate']['override']['omega_b'] = 0.02149\n",
    "Dict_yaml['sampler']['evaluate']['override']['omega_cdm'] = 0.1170\n",
    "Dict_yaml['sampler']['evaluate']['override']['tau_reio'] = 0.063\n",
    "Dict_yaml['sampler']['evaluate']['override']['yp2'] = 1.0009\n",
    "Dict_yaml['sampler']['evaluate']['override']['H0'] = 68.2\n",
    "\n",
    "Dict_yaml['timing'] = True\n",
    "\n",
    "\n",
    "with open('../input_files/pyactlike_evaluate_classv3_system.yaml', 'w') as outfile:\n",
    "    yaml.dump(Dict_yaml, outfile, default_flow_style=False)"
   ]
  },
  {
   "cell_type": "code",
   "execution_count": 37,
   "id": "fdecf7f1-465a-4707-ba55-96fcca3558ab",
   "metadata": {},
   "outputs": [
    {
     "name": "stdout",
     "output_type": "stream",
     "text": [
      "[output] Output to be read-from/written-into folder '/Users/boris/Work/CLASS-SZ/SO-SZ/class_sz_organization/notebooks/mcmcs/cobaya/notebooks/../chains', with prefix 'pyactlike_evaluate_classv3'\n",
      "[output] Found existing info files with the requested output prefix: '/Users/boris/Work/CLASS-SZ/SO-SZ/class_sz_organization/notebooks/mcmcs/cobaya/notebooks/../chains/pyactlike_evaluate_classv3'\n",
      "[output] Will delete previous products ('force' was requested).\n",
      "[classy] `classy` module loaded successfully from /Users/boris/opt/miniconda3/lib/python3.9/site-packages/classy-3.2.0-py3.9-macosx-11.0-arm64.egg\n",
      "[prior] *WARNING* There are unbounded parameters (['tau_reio']). Prior bounds are given at 0.9999995 confidence level. Beware of likelihood modes at the edge of the prior\n",
      "[evaluate] Initialized!\n",
      "[evaluate] Looking for a reference point with non-zero prior.\n",
      "[evaluate] Reference point:\n",
      "   H0 = 68.2\n",
      "   logA = 3.043\n",
      "   n_s = 1.013\n",
      "   omega_b = 0.02149\n",
      "   omega_cdm = 0.117\n",
      "   tau_reio = 0.063\n",
      "   yp2 = 1.0009\n",
      "[evaluate] Evaluating prior and likelihoods...\n",
      "[evaluate] log-posterior  = -131.489\n",
      "[evaluate] log-prior      = 9.82383\n",
      "[evaluate]    logprior_0 = 9.82383\n",
      "[evaluate] log-likelihood = -141.313\n",
      "[evaluate]    chi2_pyactlike.ACTPol_lite_DR4 = 282.626\n",
      "[evaluate] Derived params:\n",
      "[evaluate]    A_s = 2.09681e-09\n",
      "[pyactlike.actpol_lite_dr4] Average evaluation time for pyactlike.ACTPol_lite_DR4: 0.0224436 s  (1 evaluations)\n",
      "[classy] Average evaluation time for classy: 107.743 s  (1 evaluations)\n",
      "CPU times: user 7.37 ms, sys: 21.4 ms, total: 28.7 ms\n",
      "Wall time: 1min 49s\n"
     ]
    },
    {
     "data": {
      "text/plain": [
       "0"
      ]
     },
     "execution_count": 37,
     "metadata": {},
     "output_type": "execute_result"
    }
   ],
   "source": [
    "%%time\n",
    "str_cmd_subprocess = [\"cobaya-run\",\n",
    "                      \"../input_files/pyactlike_evaluate_classv3_system.yaml\",\n",
    "                      \"-f\"]\n",
    "subprocess.call(str_cmd_subprocess)"
   ]
  },
  {
   "cell_type": "markdown",
   "id": "4c8c8ea1-71e1-4b8e-971c-339084f74c15",
   "metadata": {},
   "source": [
    "### class v3 - hyrec"
   ]
  },
  {
   "cell_type": "code",
   "execution_count": 38,
   "id": "b60df0be-695c-4fee-ab20-461f82420af5",
   "metadata": {},
   "outputs": [],
   "source": [
    "Dict_yaml = yaml.safe_load(open('../input_files/pyactlike.yaml'))\n",
    "\n",
    "Dict_yaml['output'] = path_to_chains_dir +'pyactlike_evaluate_classv3-hyrec'\n",
    "\n",
    "\n",
    "\n",
    "Dict_yaml['theory'] = {}\n",
    "Dict_yaml['theory']['classy'] = {}\n",
    "Dict_yaml['theory']['classy']['extra_args'] ={ \n",
    "    'output': 'tCl',\n",
    "    'N_ncdm': 1,\n",
    "    'N_ur': 2.0328,\n",
    "    'c_min': 3.13,\n",
    "    'eta_0': 0.603,\n",
    "    'l_max_scalars': 11000,\n",
    "    'm_ncdm': 0.06,\n",
    "    'non_linear': 'hmcode',\n",
    "    # the three high-precision paramaters:\n",
    "    'k_max_tau0_over_l_max': 15.0,\n",
    "    'accurate_lensing': 1,\n",
    "    'perturbations_sampling_stepsize': 0.05,\n",
    "    'recombination': 'HYREC',\n",
    "}\n",
    "\n",
    "Dict_yaml['params']['logA']['drop'] = True\n",
    "Dict_yaml['params']['A_s'] = {\n",
    "  'value': \"lambda logA: 1e-10 * np.exp(logA)\",\n",
    "  'latex': 'A_s'\n",
    "}\n",
    "\n",
    "Dict_yaml['sampler'].pop('mcmc')\n",
    "Dict_yaml['sampler']['evaluate'] = {}\n",
    "Dict_yaml['sampler']['evaluate']['override'] = {}\n",
    "Dict_yaml['sampler']['evaluate']['override']['logA'] = 3.043\n",
    "Dict_yaml['sampler']['evaluate']['override']['n_s'] = 1.013\n",
    "Dict_yaml['sampler']['evaluate']['override']['omega_b'] = 0.02149\n",
    "Dict_yaml['sampler']['evaluate']['override']['omega_cdm'] = 0.1170\n",
    "Dict_yaml['sampler']['evaluate']['override']['tau_reio'] = 0.063\n",
    "Dict_yaml['sampler']['evaluate']['override']['yp2'] = 1.0009\n",
    "Dict_yaml['sampler']['evaluate']['override']['H0'] = 68.2\n",
    "\n",
    "Dict_yaml['timing'] = True\n",
    "\n",
    "\n",
    "with open('../input_files/pyactlike_evaluate_classv3-hyrec_system.yaml', 'w') as outfile:\n",
    "    yaml.dump(Dict_yaml, outfile, default_flow_style=False)"
   ]
  },
  {
   "cell_type": "code",
   "execution_count": 39,
   "id": "8eecb3f6-3b22-46a6-ad18-a387342a8f97",
   "metadata": {},
   "outputs": [
    {
     "name": "stdout",
     "output_type": "stream",
     "text": [
      "[output] Output to be read-from/written-into folder '/Users/boris/Work/CLASS-SZ/SO-SZ/class_sz_organization/notebooks/mcmcs/cobaya/notebooks/../chains', with prefix 'pyactlike_evaluate_classv3-hyrec'\n",
      "[classy] `classy` module loaded successfully from /Users/boris/opt/miniconda3/lib/python3.9/site-packages/classy-3.2.0-py3.9-macosx-11.0-arm64.egg\n",
      "[prior] *WARNING* There are unbounded parameters (['tau_reio']). Prior bounds are given at 0.9999995 confidence level. Beware of likelihood modes at the edge of the prior\n",
      "[evaluate] Initialized!\n",
      "[evaluate] Looking for a reference point with non-zero prior.\n",
      "[evaluate] Reference point:\n",
      "   H0 = 68.2\n",
      "   logA = 3.043\n",
      "   n_s = 1.013\n",
      "   omega_b = 0.02149\n",
      "   omega_cdm = 0.117\n",
      "   tau_reio = 0.063\n",
      "   yp2 = 1.0009\n",
      "[evaluate] Evaluating prior and likelihoods...\n",
      "[evaluate] log-posterior  = -131.474\n",
      "[evaluate] log-prior      = 9.82383\n",
      "[evaluate]    logprior_0 = 9.82383\n",
      "[evaluate] log-likelihood = -141.297\n",
      "[evaluate]    chi2_pyactlike.ACTPol_lite_DR4 = 282.595\n",
      "[evaluate] Derived params:\n",
      "[evaluate]    A_s = 2.09681e-09\n",
      "[pyactlike.actpol_lite_dr4] Average evaluation time for pyactlike.ACTPol_lite_DR4: 0.0199922 s  (1 evaluations)\n",
      "[classy] Average evaluation time for classy: 109.552 s  (1 evaluations)\n",
      "CPU times: user 6.78 ms, sys: 24.5 ms, total: 31.2 ms\n",
      "Wall time: 1min 50s\n"
     ]
    },
    {
     "data": {
      "text/plain": [
       "0"
      ]
     },
     "execution_count": 39,
     "metadata": {},
     "output_type": "execute_result"
    }
   ],
   "source": [
    "%%time\n",
    "str_cmd_subprocess = [\"cobaya-run\",\n",
    "                      \"../input_files/pyactlike_evaluate_classv3-hyrec_system.yaml\",\n",
    "                      \"-f\"]\n",
    "subprocess.call(str_cmd_subprocess)"
   ]
  },
  {
   "cell_type": "markdown",
   "id": "8bdb3ebc-2143-4611-91b7-c08da19f6228",
   "metadata": {},
   "source": [
    "# Minimizer run"
   ]
  },
  {
   "cell_type": "code",
   "execution_count": 65,
   "id": "3a2d5ec2-cacd-48d0-a787-ab5cbfd0fb65",
   "metadata": {},
   "outputs": [],
   "source": [
    "Dict_yaml = yaml.safe_load(open('../input_files/pyactlike.yaml'))\n",
    "\n",
    "Dict_yaml['output'] = path_to_chains_dir +'pyactlike_minimize'\n",
    "\n",
    "\n",
    "Dict_yaml['theory'] = {}\n",
    "Dict_yaml['theory']['classy_szfast.classy_sz.classy_sz'] = {}\n",
    "Dict_yaml['theory']['classy_szfast.classy_sz.classy_sz']['use_class_sz_fast_mode'] = 1\n",
    "Dict_yaml['theory']['classy_szfast.classy_sz.classy_sz']['ell_factor'] = True\n",
    "Dict_yaml['theory']['classy_szfast.classy_sz.classy_sz']['stop_at_error'] = True\n",
    "Dict_yaml['theory']['classy_szfast.classy_sz.classy_sz']['extra_args'] = {}\n",
    "Dict_yaml['theory']['classy_szfast.classy_sz.classy_sz']['extra_args']['output'] = 'tCl'\n",
    "Dict_yaml['theory']['classy_szfast.classy_sz.classy_sz']['extra_args']['skip_background_and_thermo'] = 1\n",
    "Dict_yaml['theory']['classy_szfast.classy_sz.classy_sz']['extra_args']['skip_pkl'] = 1 # for this run we dont need this\n",
    "Dict_yaml['theory']['classy_szfast.classy_sz.classy_sz']['extra_args']['skip_pknl'] = 1 # for this run we dont need this\n",
    "Dict_yaml['theory']['classy_szfast.classy_sz.classy_sz']['extra_args']['skip_hubble'] = 1 # for this run we dont need this\n",
    "Dict_yaml['theory']['classy_szfast.classy_sz.classy_sz']['extra_args']['skip_sigma8_and_der'] = 1 # for this run we dont need this\n",
    "Dict_yaml['theory']['classy_szfast.classy_sz.classy_sz']['extra_args']['skip_sigma8_at_z'] = 1 # for this run we dont need this\n",
    "Dict_yaml['theory']['classy_szfast.classy_sz.classy_sz']['extra_args']['skip_chi'] = 1 # for this run we dont need this\n",
    "\n",
    "\n",
    "\n",
    "Dict_yaml['sampler'].pop('mcmc')\n",
    "Dict_yaml['sampler']['minimize'] = {}\n",
    "Dict_yaml['sampler']['minimize']['method'] = 'bobyqa'\n",
    "Dict_yaml['sampler']['minimize']['ignore_prior'] = False \n",
    "Dict_yaml['sampler']['minimize']['max_evals'] = 1e6\n",
    "Dict_yaml['sampler']['minimize']['confidence_for_unbounded'] = 0.9999995\n",
    "Dict_yaml['sampler']['minimize']['override_scipy'] = 'null' \n",
    "Dict_yaml['sampler']['minimize']['override_bobyqa'] = {}\n",
    "Dict_yaml['sampler']['minimize']['override_bobyqa']['rhoend'] = 0.01\n",
    "Dict_yaml['sampler']['minimize']['covmat'] = path_to_chains_dir + '../covmats/pyactlike.covmat'\n",
    "\n",
    "\n",
    "Dict_yaml['timing'] = True\n",
    "\n",
    "\n",
    "with open('../input_files/pyactlike_minimize_system.yaml', 'w') as outfile:\n",
    "    yaml.dump(Dict_yaml, outfile, default_flow_style=False)"
   ]
  },
  {
   "cell_type": "code",
   "execution_count": 66,
   "id": "36b030a1-afc2-4979-bb51-ac0f90a8e7f3",
   "metadata": {},
   "outputs": [
    {
     "name": "stdout",
     "output_type": "stream",
     "text": [
      "[0 : output] Output to be read-from/written-into folder '/Users/boris/Work/CLASS-SZ/SO-SZ/class_sz_organization/notebooks/mcmcs/cobaya/notebooks/../chains', with prefix 'pyactlike_minimize'\n",
      "[0 : output] Found existing info files with the requested output prefix: '/Users/boris/Work/CLASS-SZ/SO-SZ/class_sz_organization/notebooks/mcmcs/cobaya/notebooks/../chains/pyactlike_minimize'\n",
      "[0 : output] Will delete previous products ('force' was requested).\n",
      "Metal device set to: Apple M1 Pro\n",
      "\n",
      "systemMemory: 16.00 GB\n",
      "maxCacheSize: 5.33 GB\n",
      "\n",
      "Metal device set to: Apple M1 Pro\n",
      "\n",
      "systemMemory: 16.00 GB\n",
      "maxCacheSize: 5.33 GB\n",
      "\n",
      "Metal device set to: Apple M1 Pro\n",
      "\n",
      "systemMemory: 16.00 GB\n",
      "maxCacheSize: 5.33 GB\n",
      "\n",
      "Metal device set to: Apple M1 Pro\n",
      "\n",
      "systemMemory: 16.00 GB\n",
      "maxCacheSize: 5.33 GB\n",
      "\n",
      "[2 : tensorflow] *WARNING* Please fix your imports. Module tensorflow.python.training.tracking.data_structures has been moved to tensorflow.python.trackable.data_structures. The old module will be deleted in version 2.11.\n",
      "[3 : tensorflow] *WARNING* Please fix your imports. Module tensorflow.python.training.tracking.data_structures has been moved to tensorflow.python.trackable.data_structures. The old module will be deleted in version 2.11.\n",
      "[0 : tensorflow] *WARNING* Please fix your imports. Module tensorflow.python.training.tracking.data_structures has been moved to tensorflow.python.trackable.data_structures. The old module will be deleted in version 2.11.\n",
      "[1 : tensorflow] *WARNING* Please fix your imports. Module tensorflow.python.training.tracking.data_structures has been moved to tensorflow.python.trackable.data_structures. The old module will be deleted in version 2.11.\n"
     ]
    },
    {
     "name": "stderr",
     "output_type": "stream",
     "text": [
      "2023-05-06 14:07:03.011755: I tensorflow/core/common_runtime/pluggable_device/pluggable_device_factory.cc:306] Could not identify NUMA node of platform GPU ID 0, defaulting to 0. Your kernel may not have been built with NUMA support.\n",
      "2023-05-06 14:07:03.011754: I tensorflow/core/common_runtime/pluggable_device/pluggable_device_factory.cc:306] Could not identify NUMA node of platform GPU ID 0, defaulting to 0. Your kernel may not have been built with NUMA support.\n",
      "2023-05-06 14:07:03.011754: I tensorflow/core/common_runtime/pluggable_device/pluggable_device_factory.cc:306] Could not identify NUMA node of platform GPU ID 0, defaulting to 0. Your kernel may not have been built with NUMA support.\n",
      "2023-05-06 14:07:03.011892: I tensorflow/core/common_runtime/pluggable_device/pluggable_device_factory.cc:272] Created TensorFlow device (/job:localhost/replica:0/task:0/device:GPU:0 with 0 MB memory) -> physical PluggableDevice (device: 0, name: METAL, pci bus id: <undefined>)\n",
      "2023-05-06 14:07:03.011892: I tensorflow/core/common_runtime/pluggable_device/pluggable_device_factory.cc:272] Created TensorFlow device (/job:localhost/replica:0/task:0/device:GPU:0 with 0 MB memory) -> physical PluggableDevice (device: 0, name: METAL, pci bus id: <undefined>)\n",
      "2023-05-06 14:07:03.011898: I tensorflow/core/common_runtime/pluggable_device/pluggable_device_factory.cc:272] Created TensorFlow device (/job:localhost/replica:0/task:0/device:GPU:0 with 0 MB memory) -> physical PluggableDevice (device: 0, name: METAL, pci bus id: <undefined>)\n",
      "2023-05-06 14:07:03.011927: I tensorflow/core/common_runtime/pluggable_device/pluggable_device_factory.cc:306] Could not identify NUMA node of platform GPU ID 0, defaulting to 0. Your kernel may not have been built with NUMA support.\n",
      "2023-05-06 14:07:03.012059: I tensorflow/core/common_runtime/pluggable_device/pluggable_device_factory.cc:272] Created TensorFlow device (/job:localhost/replica:0/task:0/device:GPU:0 with 0 MB memory) -> physical PluggableDevice (device: 0, name: METAL, pci bus id: <undefined>)\n"
     ]
    },
    {
     "name": "stdout",
     "output_type": "stream",
     "text": [
      "[1 : classy_szfast.classy_sz.classy_sz] Initialized!\n",
      "[3 : classy_szfast.classy_sz.classy_sz] Initialized!\n",
      "[0 : classy_szfast.classy_sz.classy_sz] Initialized!\n",
      "[2 : classy_szfast.classy_sz.classy_sz] Initialized!\n",
      "[0 : minimize] Initializing\n",
      "[3 : minimize] Run 1/1 will start from random initial point:\n",
      "[3 : minimize] {'H0': 66.90751028029257, 'logA': 2.9611531122874637, 'n_s': 0.9623440256182451, 'omega_b': 0.022130996815876568, 'omega_cdm': 0.12538434202229737, 'tau_reio': 0.06221564544903177, 'yp2': 1.0145314556434715}\n",
      "[0 : minimize] Run 1/1 will start from random initial point:\n",
      "[0 : minimize] {'H0': 69.90541259902739, 'logA': 2.942583895694992, 'n_s': 0.9722319635296882, 'omega_b': 0.021839128496534937, 'omega_cdm': 0.1463040092099478, 'tau_reio': 0.0631002320727759, 'yp2': 1.009166942646489}\n",
      "[0 : prior] *WARNING* There are unbounded parameters (['tau_reio']). Prior bounds are given at 0.9999995 confidence level. Beware of likelihood modes at the edge of the prior\n",
      "[0 : minimize] Covariance matrix loaded for params ['H0', 'logA', 'n_s', 'omega_b', 'omega_cdm', 'tau_reio', 'yp2']\n",
      "[0 : minimize] All parameters' covariance loaded from given covmat.\n",
      "[2 : minimize] Run 1/1 will start from random initial point:\n",
      "[2 : minimize] {'H0': 71.81763137773471, 'logA': 3.018312095629484, 'n_s': 0.9347572310429263, 'omega_b': 0.022534623442865276, 'omega_cdm': 0.14607479472178259, 'tau_reio': 0.06414876595610682, 'yp2': 1.0146030555174352}\n",
      "[1 : minimize] Run 1/1 will start from random initial point:\n",
      "[1 : minimize] {'H0': 65.63701088547461, 'logA': 2.948605383611151, 'n_s': 0.9591196386527733, 'omega_b': 0.023551851245507478, 'omega_cdm': 0.11880995619811387, 'tau_reio': 0.06849732392642209, 'yp2': 1.012388172530636}\n",
      "[1 : minimize] Starting run 1/1\n",
      "[0 : minimize] Starting run 1/1\n",
      "[3 : minimize] Starting run 1/1\n",
      "[2 : minimize] Starting run 1/1\n",
      "[2 : minimize] Run 1/1 converged.\n",
      "[3 : minimize] Run 1/1 converged.\n",
      "[1 : minimize] Run 1/1 converged.\n",
      "[0 : minimize] Run 1/1 converged.\n",
      "[0 : minimize] Finished successfully!\n",
      "[0 : minimize] -log(posterior) minimized to 131.512\n",
      "[0 : prior] *WARNING* There are unbounded parameters (['tau_reio']). Prior bounds are given at 0.9999995 confidence level. Beware of likelihood modes at the edge of the prior\n",
      "[0 : minimize] Parameter values at minimum:\n",
      "   weight  minuslogpost         H0      logA       n_s   omega_b  omega_cdm  tau_reio       yp2  minuslogprior  minuslogprior__0        chi2  chi2__pyactlike.ACTPol_lite_DR4\n",
      "0     1.0    131.512343  68.272983  3.046012  1.010797  0.021519   0.116812  0.063418  1.000519      -9.827157         -9.827157  282.678999                       282.678999\n",
      "[0 : pyactlike.actpol_lite_dr4] Average evaluation time for pyactlike.ACTPol_lite_DR4: 0.00179489 s  (320 evaluations)\n",
      "[0 : classy_szfast.classy_sz.classy_sz] Average evaluation time for classy_szfast.classy_sz.classy_sz: 0.0288014 s  (320 evaluations)\n",
      "[2 : pyactlike.actpol_lite_dr4] Average evaluation time for pyactlike.ACTPol_lite_DR4: 0.00181827 s  (243 evaluations)\n",
      "[2 : classy_szfast.classy_sz.classy_sz] Average evaluation time for classy_szfast.classy_sz.classy_sz: 0.0303958 s  (243 evaluations)\n",
      "[3 : pyactlike.actpol_lite_dr4] Average evaluation time for pyactlike.ACTPol_lite_DR4: 0.00188992 s  (264 evaluations)\n",
      "[3 : classy_szfast.classy_sz.classy_sz] Average evaluation time for classy_szfast.classy_sz.classy_sz: 0.0300333 s  (264 evaluations)\n",
      "[1 : pyactlike.actpol_lite_dr4] Average evaluation time for pyactlike.ACTPol_lite_DR4: 0.00180759 s  (263 evaluations)\n",
      "[1 : classy_szfast.classy_sz.classy_sz] Average evaluation time for classy_szfast.classy_sz.classy_sz: 0.0303146 s  (263 evaluations)\n",
      "CPU times: user 6.18 ms, sys: 21.5 ms, total: 27.7 ms\n",
      "Wall time: 18.3 s\n"
     ]
    },
    {
     "data": {
      "text/plain": [
       "0"
      ]
     },
     "execution_count": 66,
     "metadata": {},
     "output_type": "execute_result"
    }
   ],
   "source": [
    "%%time\n",
    "str_cmd_subprocess = [\"mpirun\",\n",
    "                      \"-np\",\n",
    "                      \"4\",\n",
    "                      \"cobaya-run\",\n",
    "                      \"../input_files/pyactlike_minimize_system.yaml\",\n",
    "                      \"-f\"]\n",
    "subprocess.call(str_cmd_subprocess)"
   ]
  },
  {
   "cell_type": "code",
   "execution_count": null,
   "id": "c94d767b-9fb5-45ef-8ae5-d40d8fb959e4",
   "metadata": {},
   "outputs": [],
   "source": []
  }
 ],
 "metadata": {
  "kernelspec": {
   "display_name": "Python 3 (ipykernel)",
   "language": "python",
   "name": "python3"
  },
  "language_info": {
   "codemirror_mode": {
    "name": "ipython",
    "version": 3
   },
   "file_extension": ".py",
   "mimetype": "text/x-python",
   "name": "python",
   "nbconvert_exporter": "python",
   "pygments_lexer": "ipython3",
   "version": "3.9.13"
  }
 },
 "nbformat": 4,
 "nbformat_minor": 5
}
