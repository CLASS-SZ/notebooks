{
 "cells": [
  {
   "cell_type": "markdown",
   "id": "ac99cae1-dd42-4603-8aa5-82952d01fd53",
   "metadata": {},
   "source": [
    "# Prerequisites"
   ]
  },
  {
   "cell_type": "markdown",
   "id": "d33e0fa9-7784-4d78-b801-755ad172d003",
   "metadata": {},
   "source": [
    "# class_sz\n",
    "\n",
    "To intstall class_sz, follow carefully the instructions given in the README file of the code repository. "
   ]
  },
  {
   "cell_type": "code",
   "execution_count": 1,
   "id": "db6283b3-8950-4f99-a6d8-31c1c9e76a9e",
   "metadata": {},
   "outputs": [
    {
     "name": "stdout",
     "output_type": "stream",
     "text": [
      "Metal device set to: Apple M1 Pro\n",
      "WARNING:tensorflow:Please fix your imports. Module tensorflow.python.training.tracking.data_structures has been moved to tensorflow.python.trackable.data_structures. The old module will be deleted in version 2.11.\n"
     ]
    },
    {
     "name": "stderr",
     "output_type": "stream",
     "text": [
      "2023-04-03 17:53:40.522031: I tensorflow/core/common_runtime/pluggable_device/pluggable_device_factory.cc:306] Could not identify NUMA node of platform GPU ID 0, defaulting to 0. Your kernel may not have been built with NUMA support.\n",
      "2023-04-03 17:53:40.522399: I tensorflow/core/common_runtime/pluggable_device/pluggable_device_factory.cc:272] Created TensorFlow device (/job:localhost/replica:0/task:0/device:GPU:0 with 0 MB memory) -> physical PluggableDevice (device: 0, name: METAL, pci bus id: <undefined>)\n"
     ]
    },
    {
     "data": {
      "text/plain": [
       "'/Users/boris/Work/CLASS-SZ/SO-SZ/env/lib/python3.9/site-packages/classy_sz-2.9.4-py3.9-macosx-11.0-arm64.egg/classy_sz.cpython-39-darwin.so'"
      ]
     },
     "execution_count": 1,
     "metadata": {},
     "output_type": "execute_result"
    }
   ],
   "source": [
    "import classy_sz\n",
    "classy_sz.__file__"
   ]
  },
  {
   "cell_type": "markdown",
   "id": "9080465b-7fca-4fcf-b3bb-b87867a1b2aa",
   "metadata": {},
   "source": [
    "## cosmopower"
   ]
  },
  {
   "cell_type": "markdown",
   "id": "9d84e201-ceaf-4abe-9b80-8772b7bf09c7",
   "metadata": {},
   "source": [
    "To install cosmopower, visit:\n",
    "\n",
    "https://github.com/alessiospuriomancini/cosmopower\n",
    "\n",
    "\n",
    "Check cosmopower is installed:"
   ]
  },
  {
   "cell_type": "code",
   "execution_count": 2,
   "id": "29933714-ef8b-4c2b-8cfc-9add6f1e7d3c",
   "metadata": {},
   "outputs": [],
   "source": [
    "import cosmopower"
   ]
  },
  {
   "cell_type": "markdown",
   "id": "9e9114e6-73ab-4596-977b-2b3224c5a264",
   "metadata": {},
   "source": [
    "## cosmosis"
   ]
  },
  {
   "cell_type": "markdown",
   "id": "d23e35a7-4b85-4849-b349-ef6af53a1a24",
   "metadata": {},
   "source": [
    "To install cosmosis, visit: \n",
    "\n",
    "https://github.com/joezuntz/cosmosis\n",
    "\n",
    "Check cosmosis is installed:"
   ]
  },
  {
   "cell_type": "code",
   "execution_count": 3,
   "id": "8ae082cd-0917-4cca-a76c-61340544c6e7",
   "metadata": {},
   "outputs": [],
   "source": [
    "import cosmosis"
   ]
  },
  {
   "cell_type": "markdown",
   "id": "75e42d56-2db4-4dba-bab1-f4e1f24f3120",
   "metadata": {},
   "source": [
    "## cosmosis-standard-library"
   ]
  },
  {
   "cell_type": "markdown",
   "id": "5f975111-f567-408b-b36d-02aa70584669",
   "metadata": {},
   "source": [
    "To download cosmosis-standard-library, visit: \n",
    "\n",
    "https://github.com/joezuntz/cosmosis-standard-library\n",
    "\n",
    "This does not need to be installed. This is the set of likelihoods that can run with cosmosis. "
   ]
  },
  {
   "cell_type": "markdown",
   "id": "54b85958-2ff7-4a17-b4c6-3ba83ecf77f0",
   "metadata": {},
   "source": [
    "# class-sz wrapper for cosmosis-standard library\n",
    "\n",
    "\n",
    "You can download the necessary files from:\n",
    "\n",
    "https://github.com/borisbolliet/cosmosis-standard-library/tree/dev-classy_szfast/boltzmann/class_sz\n",
    "\n",
    "and place the class_sz directory inside cosmosis-standard-library/boltzmann "
   ]
  },
  {
   "cell_type": "markdown",
   "id": "36c6e0a5-c9d9-4929-b94b-09bcde3e2cbc",
   "metadata": {},
   "source": [
    "## getdist"
   ]
  },
  {
   "cell_type": "markdown",
   "id": "b6b6a8d1-1ae6-4bea-8b59-c626b2ef54bd",
   "metadata": {},
   "source": [
    "To install getdist, visit:\n",
    "\n",
    "https://getdist.readthedocs.io/en/latest/intro.html\n",
    "\n",
    "Check getdist is installed\n"
   ]
  },
  {
   "cell_type": "code",
   "execution_count": 4,
   "id": "3be39aac-329f-468a-aebc-c9466b82dd67",
   "metadata": {},
   "outputs": [],
   "source": [
    "import getdist"
   ]
  },
  {
   "cell_type": "markdown",
   "id": "3555edfe-74da-4835-95c6-c738cf1d2132",
   "metadata": {},
   "source": [
    "## cosmopower emulators\n",
    "\n",
    "Make a cosmopower-organtization repository to store the emulaotors. It can be wherever on your system: <br>\n",
    "\n",
    "$ mkdir cosmopower-organtization <br>\n",
    "\n",
    "Then clone the emulators inside it: <br>\n",
    "\n",
    "$ cd cosmopower-organtization <br>\n",
    "\n",
    "$ git clone https://github.com/cosmopower-organization/lcdm.git <br>\n",
    "\n",
    "Now we need to set the path to this repository. <br>\n",
    "Mine is several levels above where we are now, so: (**adapt to your needs!**)"
   ]
  },
  {
   "cell_type": "code",
   "execution_count": 5,
   "id": "37701d83-4dad-4770-89b9-ca9ae2dc1564",
   "metadata": {},
   "outputs": [],
   "source": [
    "import os\n",
    "root_path = os.path.abspath(\"\")\n",
    "path_to_cosmopower_organization = root_path + '/../../../../../cosmopower-organization/' "
   ]
  },
  {
   "cell_type": "markdown",
   "id": "26df01b6-cebc-4f7c-b200-db24c5ed36de",
   "metadata": {},
   "source": [
    "Finally, the path to the emulators is:"
   ]
  },
  {
   "cell_type": "code",
   "execution_count": 6,
   "id": "5fe9e624-48cd-497c-8383-e0a29e8f274e",
   "metadata": {},
   "outputs": [],
   "source": [
    "path_to_emulators = path_to_cosmopower_organization + 'lcdm/'"
   ]
  },
  {
   "cell_type": "markdown",
   "id": "afcd4ef1-eea8-4c0b-a49d-5edc28001367",
   "metadata": {},
   "source": [
    "Check that these paths are correctly set:"
   ]
  },
  {
   "cell_type": "code",
   "execution_count": 7,
   "id": "4d779fb9-ca55-4a40-ae96-956e391aaa4b",
   "metadata": {},
   "outputs": [
    {
     "name": "stdout",
     "output_type": "stream",
     "text": [
      "inside lcdm:\n",
      "\u001b[34mPK\u001b[m\u001b[m\n",
      "\u001b[34mPP\u001b[m\u001b[m\n",
      "README.md\n",
      "\u001b[34mTTTEEE\u001b[m\u001b[m\n",
      "\u001b[34mderived-parameters\u001b[m\u001b[m\n",
      "\u001b[34mgrowth-and-distances\u001b[m\u001b[m\n",
      "0\n"
     ]
    }
   ],
   "source": [
    "import subprocess\n",
    "path_to_emulators = path_to_cosmopower_organization + 'lcdm/'\n",
    "str_cmd_subprocess = [\"ls\",path_to_emulators]\n",
    "print('inside lcdm:')\n",
    "print(subprocess.call(str_cmd_subprocess))\n",
    "\n"
   ]
  },
  {
   "cell_type": "markdown",
   "id": "63b7ffdd-20e9-48f8-9971-94dbea44c32c",
   "metadata": {},
   "source": [
    "# Initialize"
   ]
  },
  {
   "cell_type": "code",
   "execution_count": 8,
   "id": "d775e88a-d96b-40a0-be0c-6a4ef571365b",
   "metadata": {},
   "outputs": [],
   "source": [
    "import numpy as np\n",
    "import scipy\n",
    "import yaml\n",
    "\n",
    "\n",
    "from getdist import loadMCSamples, MCSamples\n",
    "from getdist import plots\n",
    "\n",
    "from cosmopower import cosmopower_NN\n",
    "from cosmopower import cosmopower_PCAplusNN\n",
    "\n",
    "#\n",
    "import matplotlib\n",
    "import matplotlib.pyplot as plt\n",
    "%matplotlib inline\n",
    "#\n",
    "font = {'size'   : 16, 'family':'STIXGeneral'}\n",
    "axislabelfontsize='large'\n",
    "matplotlib.rc('font', **font)"
   ]
  },
  {
   "cell_type": "markdown",
   "id": "d47bbba9-f504-4c08-aba7-be6077199217",
   "metadata": {},
   "source": [
    "The cosmosis chains are in (**adapt to your needs!**):"
   ]
  },
  {
   "cell_type": "code",
   "execution_count": 9,
   "id": "3cb7a120-3dd9-4278-b3ed-ee031d7d73c3",
   "metadata": {},
   "outputs": [
    {
     "name": "stdout",
     "output_type": "stream",
     "text": [
      "/Users/boris/Work/CLASS-SZ/SO-SZ/class_sz_organization/notebooks/mcmcs/cosmosis/notebooks/../../../../../cosmosis-standard-library/output/\n"
     ]
    }
   ],
   "source": [
    "path_to_chains_dir = root_path + '/../../../../../cosmosis-standard-library/output/'\n",
    "\n",
    "print(path_to_chains_dir)"
   ]
  },
  {
   "cell_type": "markdown",
   "id": "2fa2601f-d79c-4f1a-898d-d62d27e3807e",
   "metadata": {},
   "source": [
    "Load the emulators that we may want to use to add some derives parameters to the chains."
   ]
  },
  {
   "cell_type": "code",
   "execution_count": 10,
   "id": "d905041b-e566-4ce5-9dec-797c8b9afc9e",
   "metadata": {},
   "outputs": [
    {
     "name": "stdout",
     "output_type": "stream",
     "text": [
      "CPU times: user 20.9 ms, sys: 24.4 ms, total: 45.3 ms\n",
      "Wall time: 83.6 ms\n"
     ]
    }
   ],
   "source": [
    "%%time\n",
    "path_to_emulators = path_to_cosmopower_organization + 'lcdm/'\n",
    "\n",
    "\n",
    "cp_der_nn = cosmopower_NN(restore=True,\n",
    "                      restore_filename=path_to_emulators + 'derived-parameters/DER_v1',\n",
    "                      )\n"
   ]
  },
  {
   "cell_type": "markdown",
   "id": "79cbe133-21ec-4c9d-b96b-9a005b0d8186",
   "metadata": {},
   "source": [
    "# DES Year-3 "
   ]
  },
  {
   "cell_type": "markdown",
   "id": "e12b576f-75c9-4a46-a26e-936805442294",
   "metadata": {},
   "source": [
    "## Set-up of the input file"
   ]
  },
  {
   "cell_type": "markdown",
   "id": "4dcba7a2-300f-4cf5-b6a5-9518fc9c465f",
   "metadata": {},
   "source": [
    "Example files that run des-y3 chains are (inside cosmosis-standard-library):\n",
    "\n",
    "- **examples/des-y3-class_sz.ini**: <br> \n",
    "This file contains the settings for the run (sampelr, likelihoods, class_sz settings etc.) <br>\n",
    "You will find it here: https://github.com/borisbolliet/cosmosis-standard-library/blob/dev-classy_szfast/examples/des-y3-class_sz.ini\n",
    "- **examples/des-y3-class_sz-values.ini**: <br> \n",
    "This file contains the prior bounds of the main parameters. <br>\n",
    "You will find it here: https://github.com/borisbolliet/cosmosis-standard-library/blob/dev-classy_szfast/examples/des-y3-class_sz-values.ini\n",
    "\n",
    "You can modify the settings in these files according to your needs. And place them inside cosmosis-standard-library/examples."
   ]
  },
  {
   "cell_type": "markdown",
   "id": "7943f14c-c16c-472f-b828-973668367f3d",
   "metadata": {},
   "source": [
    "## Run the chains"
   ]
  },
  {
   "cell_type": "markdown",
   "id": "29231a43-d6f0-4640-a10d-51cbbb1062b7",
   "metadata": {
    "tags": []
   },
   "source": [
    "Although the use of the emulators, via the class_sz fast-mode, reduces the boltzmann code evaluation, this is not the bottelneck of th edes likelihood implementation. <br>\n",
    "Indeed, these calculations involve heavy numerical routines to compute Fourier transforms and other things. <br>\n",
    "Hence, the computing for a chain is still of the order of a day or more, with class, camb, and class_sz. <br>\n",
    "Nonetheless, in combination with CMB, class_sz is very useful since it evaluates high-accuracy cl's in milliseconds (that would take around an extra minute per evaluation for class or camb).\n",
    "\n",
    "\n",
    "To run the chains, first make sure you have loaded the envirionment where you installed cosmosis (if you used an environment).<br>\n",
    "And source the cosmosis-configure file:\n",
    "\n",
    "  $ conda activate /path/to/cosmosis/env\n",
    "\n",
    "  $ source cosmosis-configure\n",
    "  \n",
    "Then, you can run a chain with:\n",
    "\n",
    "  $ cd /path/to/cosmosis-standard-library\n",
    "  \n",
    "  $ **mpirun -n 4 cosmosis --mpi examples/des-y3-class_sz.ini**\n",
    "  \n",
    "This should create a des-y3_class_sz.txt chain in the output directory. Let's load it in the next subsection, once computed. \n",
    "\n",
    "\n",
    "(Note: rather than running a chain, it can be useful to run a test, simply replace \"sampler = polychord\" by \"sampler = test\", in des-y3-class_sz.ini, and run with **$ cosmosis examples/des-y3-class_sz.ini**)\n"
   ]
  },
  {
   "cell_type": "code",
   "execution_count": null,
   "id": "ef191f65-e4eb-4550-8a20-3ddcf0ce5f03",
   "metadata": {},
   "outputs": [],
   "source": []
  },
  {
   "cell_type": "markdown",
   "id": "c990ff5d-9261-4c05-9a99-aded5413855e",
   "metadata": {},
   "source": [
    "# Analyse and plot with getdist"
   ]
  },
  {
   "cell_type": "markdown",
   "id": "e65baa9b-f38c-4859-9a17-cd4c0a929567",
   "metadata": {},
   "source": [
    "## Analyse"
   ]
  },
  {
   "cell_type": "code",
   "execution_count": 37,
   "id": "01dde729-0c1d-43c6-9bc0-62aa5754d783",
   "metadata": {
    "tags": []
   },
   "outputs": [],
   "source": [
    "path_to_des_chain = path_to_chains_dir + 'des-y3_class_sz.txt'\n",
    "des_chain = np.loadtxt(path_to_des_chain)\n",
    "des_omega_m = des_chain[:,0]\n",
    "des_sigma_8 = des_chain[:,29]\n",
    "des_weight = des_chain[:,35]"
   ]
  },
  {
   "cell_type": "code",
   "execution_count": 38,
   "id": "19024664-63d1-44d1-943e-82e6499bd9c8",
   "metadata": {
    "tags": []
   },
   "outputs": [
    {
     "data": {
      "text/plain": [
       "<matplotlib.legend.Legend at 0x2eddda610>"
      ]
     },
     "execution_count": 38,
     "metadata": {},
     "output_type": "execute_result"
    },
    {
     "data": {
      "image/png": "[encoded data removed]",
      "text/plain": [
       "<Figure size 640x480 with 1 Axes>"
      ]
     },
     "metadata": {},
     "output_type": "display_data"
    }
   ],
   "source": [
    "plt.plot(des_omega_m,label='omega_m')\n",
    "plt.plot(des_sigma_8,label='sigma_8')\n",
    "plt.plot(des_sigma_8*(des_omega_m/0.3)**0.5,label='S8')\n",
    "plt.plot(des_weight,label='weights')\n",
    "plt.legend()"
   ]
  },
  {
   "cell_type": "code",
   "execution_count": 39,
   "id": "a10621e2-63c1-4788-9a2a-d08dd701718c",
   "metadata": {
    "tags": []
   },
   "outputs": [],
   "source": [
    "# plt.plot(des_weight)\n",
    "# plt.ylim(0.0001,0.1)\n",
    "# plt.yscale('log')"
   ]
  },
  {
   "cell_type": "code",
   "execution_count": 43,
   "id": "564fc730-da4d-4d4f-89d1-39824c9eb5ef",
   "metadata": {
    "tags": []
   },
   "outputs": [
    {
     "name": "stdout",
     "output_type": "stream",
     "text": [
      "Removed 0.7 as burn in\n",
      "S8d5:  S_8 = 0.778\\pm 0.021\n"
     ]
    }
   ],
   "source": [
    "\n",
    "names = ['sigma8','Ombc']\n",
    "labels =  [r'\\sigma_8',r'\\Omega_m']\n",
    "samps = [des_sigma_8,des_omega_m]\n",
    "samples = MCSamples(samples=samps,names = names, labels = labels,\n",
    "                    # weights = des_weight,\n",
    "                    settings={'ignore_rows':0.7}\n",
    "                   )\n",
    "p = samples.getParams()\n",
    "samples.addDerived(p.sigma8*(p.Ombc/0.3)**0.5,name='S8d5',label=r'S_8')\n",
    "samples.updateBaseStatistics()\n",
    "Fs = samples.getInlineLatex('S8d5',limit=1)\n",
    "print('S8d5: ',Fs)"
   ]
  },
  {
   "cell_type": "code",
   "execution_count": 44,
   "id": "feff1abb-27e6-4d74-9318-1b56ee9820cc",
   "metadata": {
    "tags": []
   },
   "outputs": [
    {
     "data": {
      "image/png": "[encoded data removed]",
      "text/plain": [
       "<Figure size 600x600 with 6 Axes>"
      ]
     },
     "metadata": {},
     "output_type": "display_data"
    }
   ],
   "source": [
    "g = plots.get_subplot_plotter()\n",
    "g.triangle_plot([samples],\n",
    "    ['Ombc','S8d5','sigma8',\n",
    "    ], filled=True)"
   ]
  },
  {
   "cell_type": "code",
   "execution_count": null,
   "id": "76d795f9-50e1-4351-90e7-4ca422561f7f",
   "metadata": {},
   "outputs": [],
   "source": []
  }
 ],
 "metadata": {
  "kernelspec": {
   "display_name": "Python 3 (ipykernel)",
   "language": "python",
   "name": "python3"
  },
  "language_info": {
   "codemirror_mode": {
    "name": "ipython",
    "version": 3
   },
   "file_extension": ".py",
   "mimetype": "text/x-python",
   "name": "python",
   "nbconvert_exporter": "python",
   "pygments_lexer": "ipython3",
   "version": "3.9.13"
  }
 },
 "nbformat": 4,
 "nbformat_minor": 5
}
