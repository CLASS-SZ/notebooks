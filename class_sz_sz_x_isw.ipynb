{
 "cells": [
  {
   "cell_type": "markdown",
   "id": "a3461285-3f18-4ba7-9619-4ead5fa207c5",
   "metadata": {},
   "source": [
    "# Intialize"
   ]
  },
  {
   "cell_type": "code",
   "execution_count": 2,
   "id": "2c4d4199-c6fb-4634-9520-cacfce177bd8",
   "metadata": {},
   "outputs": [
    {
     "name": "stderr",
     "output_type": "stream",
     "text": [
      "WARNING:absl:At this time, the v2.11+ optimizer `tf.keras.optimizers.Adam` runs slowly on M1/M2 Macs, please use the legacy Keras optimizer instead, located at `tf.keras.optimizers.legacy.Adam`.\n",
      "2024-03-12 12:53:18.990019: I metal_plugin/src/device/metal_device.cc:1154] Metal device set to: Apple M1 Pro\n",
      "2024-03-12 12:53:18.990043: I metal_plugin/src/device/metal_device.cc:296] systemMemory: 16.00 GB\n",
      "2024-03-12 12:53:18.990048: I metal_plugin/src/device/metal_device.cc:313] maxCacheSize: 5.33 GB\n",
      "2024-03-12 12:53:18.990081: I tensorflow/core/common_runtime/pluggable_device/pluggable_device_factory.cc:303] Could not identify NUMA node of platform GPU ID 0, defaulting to 0. Your kernel may not have been built with NUMA support.\n",
      "2024-03-12 12:53:18.990102: I tensorflow/core/common_runtime/pluggable_device/pluggable_device_factory.cc:269] Created TensorFlow device (/job:localhost/replica:0/task:0/device:GPU:0 with 0 MB memory) -> physical PluggableDevice (device: 0, name: METAL, pci bus id: <undefined>)\n",
      "WARNING:absl:At this time, the v2.11+ optimizer `tf.keras.optimizers.Adam` runs slowly on M1/M2 Macs, please use the legacy Keras optimizer instead, located at `tf.keras.optimizers.legacy.Adam`.\n"
     ]
    },
    {
     "name": "stdout",
     "output_type": "stream",
     "text": [
      "WARNING:tensorflow:Please fix your imports. Module tensorflow.python.training.tracking.data_structures has been moved to tensorflow.python.trackable.data_structures. The old module will be deleted in version 2.11.\n"
     ]
    },
    {
     "name": "stderr",
     "output_type": "stream",
     "text": [
      "WARNING:tensorflow:Please fix your imports. Module tensorflow.python.training.tracking.data_structures has been moved to tensorflow.python.trackable.data_structures. The old module will be deleted in version 2.11.\n"
     ]
    }
   ],
   "source": [
    "%matplotlib inline\n",
    "import matplotlib\n",
    "import matplotlib.pyplot as plt\n",
    "import numpy as np\n",
    "from classy_sz import Class\n",
    "import os\n",
    "import time\n",
    "\n",
    "\n",
    "\n",
    "\n",
    "# the parameters needed for cosmology:\n",
    "# use the last column of Planck 2018 (https://arxiv.org/pdf/1807.06209.pdf) Table 2\n",
    "# TT,TE,EE+lowE+lensing+BAO\n",
    "cosmo_params = {\n",
    "'omega_b': 0.02242,\n",
    "'omega_cdm':  0.11933,\n",
    "'H0': 67.66, # use H0 because this is what is used by the emulators.\n",
    "'tau_reio': 0.0561,\n",
    "'ln10^{10}A_s': 3.047,\n",
    "'n_s': 0.9665,\n",
    "\n",
    "# 'k_pivot': 0.05,\n",
    "# 'N_ncdm': 1,\n",
    "# 'N_ur': 2.0328,\n",
    "# 'm_ncdm': 0.06    \n",
    "\n",
    "}\n",
    "\n",
    "\n",
    "\n",
    "font = {'family':'STIXGeneral'}\n",
    "axislabelfontsize='large'\n",
    "matplotlib.rc('font', **font)\n",
    "\n",
    "plt.rcParams.update({\n",
    "    \"text.usetex\": True,\n",
    "    \"font.family\": \"sans-serif\",\n",
    "    \"font.sans-serif\": [\"Helvetica\"]})\n",
    "\n",
    "# # a simple conversion from cl's to dl's\n",
    "# def l_to_dl(lp):\n",
    "#     return lp*(lp+1.)/2./np.pi"
   ]
  },
  {
   "cell_type": "code",
   "execution_count": 9,
   "id": "d274566f-2a79-4d9c-894e-36dd704f6239",
   "metadata": {},
   "outputs": [
    {
     "name": "stdout",
     "output_type": "stream",
     "text": [
      "CPU times: user 37.6 s, sys: 65.1 ms, total: 37.7 s\n",
      "Wall time: 4.4 s\n"
     ]
    }
   ],
   "source": [
    "%%time \n",
    "M = Class()\n",
    "M.set(cosmo_params)\n",
    "M.set({\n",
    "'output':'tSZ_1h,isw_tsz',\n",
    "'ell_min': 2.\n",
    "})\n",
    "M.compute()"
   ]
  },
  {
   "cell_type": "code",
   "execution_count": 10,
   "id": "ed73ed36-5cd3-4b3b-af39-c9a4ed4a9b94",
   "metadata": {},
   "outputs": [
    {
     "data": {
      "text/plain": [
       "[]"
      ]
     },
     "execution_count": 10,
     "metadata": {},
     "output_type": "execute_result"
    },
    {
     "data": {
      "image/png": "[encoded data removed]",
      "text/plain": [
       "<Figure size 640x480 with 1 Axes>"
      ]
     },
     "metadata": {},
     "output_type": "display_data"
    }
   ],
   "source": [
    "plt.plot(M.dl_isw_sz()['ell'],M.dl_isw_sz()['d_ell'])\n",
    "plt.loglog()"
   ]
  },
  {
   "cell_type": "code",
   "execution_count": null,
   "id": "932165d0-6142-4024-b12d-52170f40a2af",
   "metadata": {},
   "outputs": [],
   "source": []
  }
 ],
 "metadata": {
  "kernelspec": {
   "display_name": "Python 3 (ipykernel)",
   "language": "python",
   "name": "python3"
  },
  "language_info": {
   "codemirror_mode": {
    "name": "ipython",
    "version": 3
   },
   "file_extension": ".py",
   "mimetype": "text/x-python",
   "name": "python",
   "nbconvert_exporter": "python",
   "pygments_lexer": "ipython3",
   "version": "3.9.13"
  }
 },
 "nbformat": 4,
 "nbformat_minor": 5
}
