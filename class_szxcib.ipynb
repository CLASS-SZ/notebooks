{
 "cells": [
  {
   "cell_type": "markdown",
   "id": "a37097f4-123c-435d-ae99-4a03fec7d15d",
   "metadata": {},
   "source": [
    "# Initialize"
   ]
  },
  {
   "cell_type": "code",
   "execution_count": 5,
   "id": "bfaf8952",
   "metadata": {},
   "outputs": [],
   "source": [
    "# import necessary modules\n",
    "# uncomment to get plots displayed in notebook\n",
    "%matplotlib inline\n",
    "import matplotlib\n",
    "import matplotlib.pyplot as plt\n",
    "import numpy as np\n",
    "from classy_sz import Class\n",
    "import math"
   ]
  },
  {
   "cell_type": "code",
   "execution_count": 6,
   "id": "6e9f9033-63cd-4cbf-ad50-c294309d3b81",
   "metadata": {},
   "outputs": [
    {
     "data": {
      "text/plain": [
       "'/Users/boris/opt/miniconda3/lib/python3.9/site-packages/classy_sz-2.9.4-py3.9-macosx-11.0-arm64.egg/classy_sz.cpython-39-darwin.so'"
      ]
     },
     "execution_count": 6,
     "metadata": {},
     "output_type": "execute_result"
    }
   ],
   "source": [
    "import classy_sz\n",
    "classy_sz.__file__"
   ]
  },
  {
   "cell_type": "code",
   "execution_count": 7,
   "id": "adb11bda",
   "metadata": {},
   "outputs": [],
   "source": [
    "# font = {'size'   : 16, 'family':'STIXGeneral'}\n",
    "# axislabelfontsize='large'\n",
    "# matplotlib.rc('font', **font)\n",
    "# plt.rcParams[\"figure.figsize\"] = [8.0,8.0]\n",
    "font = {'family':'STIXGeneral'}\n",
    "axislabelfontsize='large'\n",
    "matplotlib.rc('font', **font)\n",
    "\n",
    "plt.rcParams.update({\n",
    "    \"text.usetex\": True,\n",
    "    \"font.family\": \"sans-serif\",\n",
    "    \"font.sans-serif\": [\"Helvetica\"]})\n",
    "\n",
    "# a simple conversion from cl's to dl's\n",
    "def l_to_dl(lp):\n",
    "    return lp*(lp+1.)/2./np.pi"
   ]
  },
  {
   "cell_type": "code",
   "execution_count": 8,
   "id": "880e8902-87d4-4655-9f8a-9cc2ea7ee4b9",
   "metadata": {
    "tags": []
   },
   "outputs": [],
   "source": [
    "Planck = {'name': 'Planck',\n",
    "          'do_cib': 1, 'do_tsz': 1, 'do_cibxtsz': 1,\n",
    "          'freq_cib': [100., 143., 217., 353., 545., 857.],\n",
    "          'cc': np.array([1.076, 1.017, 1.119, 1.097, 1.068, 0.995, 0.960]),\n",
    "          'cc_cibmean': np.array([1.076, 1.017, 1.119, 1.097, 1.068, 0.995, 0.960]),\n",
    "          'freq_cibmean': np.array([100., 143., 217., 353., 545., 857.]),\n",
    "          'fc': np.ones(7),\n",
    "          }\n",
    "# exp = Planck\n",
    "# ell = np.geomspace(10., 5e4, 500)\n",
    "# redshifts = np.loadtxt('data_files/redshifts.txt')\n",
    "# z1 = np.linspace(min(redshifts), max(redshifts), 200)\n",
    "# z = redshifts  # z1  # redshifts\n",
    "\n",
    "# logmass = np.arange(8., 15.00, 0.05)\n",
    "\n",
    "# print('len logmass',len(logmass))\n",
    "# mass = 10**logmass\n",
    "\n",
    "# driver = data_var(exp, mass, z, ell)"
   ]
  },
  {
   "cell_type": "code",
   "execution_count": 9,
   "id": "de91aa55-4198-4ef1-9511-bce422f506be",
   "metadata": {},
   "outputs": [],
   "source": [
    "# Omegam0 = 0.3075\n",
    "# H0 = 67.74\n",
    "# Omegab = 0.0486\n",
    "# Omegac = 0.2589\n",
    "# Omegac + Omegab\n",
    "# omega_b = Omegab*(H0/100.)**2\n",
    "# omega_c = Omegac*(H0/100.)**2\n",
    "# hparam = H0/100.\n",
    "combo_cosmo = {\n",
    "# 'omega_b': omega_b,\n",
    "# 'omega_cdm':  omega_c,\n",
    "# 'h': H0/100.,\n",
    "# # 'tau_reio': 0.0561,\n",
    "# 'ln10^{10}A_s': 3.048,\n",
    "# 'n_s': 0.9665,\n",
    "# # 'sigma8':0.830,\n",
    "# 'k_pivot': 0.05,\n",
    "# 'N_ncdm': 1,\n",
    "# 'N_ur': 2.0328,\n",
    "# 'm_ncdm': 0.0\n",
    "    \n",
    "                   'H0':67.556,\n",
    "                   'omega_b':0.022032,\n",
    "                   'omega_cdm':0.12038,\n",
    "                   # 'sigma8': 0.831,\n",
    "                   'ln10^{10}A_s': 3.047,\n",
    "                   'n_s': 0.9665,\n",
    "                   'tau_reio':0.0925,\n",
    "                   # Take fixed value for primordial Helium (instead of automatic BBN adjustment)\n",
    "                   'YHe':0.246,\n",
    "}"
   ]
  },
  {
   "cell_type": "code",
   "execution_count": 10,
   "id": "50ebb2c4-a161-45c0-b0dc-e6a115c23931",
   "metadata": {},
   "outputs": [
    {
     "name": "stdout",
     "output_type": "stream",
     "text": [
      "CPU times: user 1min 18s, sys: 579 ms, total: 1min 19s\n",
      "Wall time: 9.28 s\n"
     ]
    }
   ],
   "source": [
    "%%time\n",
    "M = Class()\n",
    "output_str = 'cib_cib_1h,cib_cib_2h'\n",
    "# output_str += ',lens_cib_1h,lens_cib_2h'\n",
    "# output_str += ',gal_gal_1h,gal_gal_2h'\n",
    "# output_str += ',gal_lens_1h,gal_lens_2h'\n",
    "# output_str += ',gallens_lens_1h,gallens_lens_2h'\n",
    "# output_str += ',gallens_gallens_1h,gallens_gallens_2h'\n",
    "# output_str += ',tSZ_gallens_1h,tSZ_gallens_2h'\n",
    "# output_str += ',gal_gallens_1h,gal_gallens_2h'\n",
    "# output_str += ',gal_cib_1h,gal_cib_2h'\n",
    "# output_str += ',gallens_cib_1h,gallens_cib_2h'\n",
    "output_str += ',tSZ_1h,tSZ_2h'\n",
    "# output_str += ',lens_1h,lens_2h'\n",
    "# output_str += ',tSZ_gal_1h,tSZ_gal_2h'\n",
    "# output_str += ',tSZ_lens_1h,tSZ_lens_2h'\n",
    "output_str += ',tSZ_cib_1h,tSZ_cib_2h'\n",
    "M.set({'output':output_str})\n",
    "M.set(combo_cosmo)\n",
    "M.set({\n",
    "\n",
    "'mass function' : 'T08M200c',\n",
    "'use_maniyar_cib_model':1,\n",
    "\n",
    "'maniyar_cib_etamax' : 5.12572945e-01,\n",
    "\n",
    "'maniyar_cib_zc' : 1.5,\n",
    "'maniyar_cib_tau' : 8.25475287e-01,\n",
    "'maniyar_cib_fsub' : 0.134*np.log(10.),\n",
    "'Most_efficient_halo_mass_in_Msun' : 5.34372069e+12,\n",
    "'Size_of_halo_masses_sourcing_CIB_emission' :  1.5583436676980493,\n",
    "#for the Lsat tabulation:\n",
    "'freq_min': 100,\n",
    "'freq_max': 600,\n",
    "'dlogfreq' : 0.3,\n",
    "\n",
    "# 'concentration parameter':'B13', # this sets it to 5\n",
    "\n",
    "'n_z_L_sat' :50,\n",
    "'n_m_L_sat' :50,\n",
    "'n_nu_L_sat':10,\n",
    "\n",
    "'use_nc_1_for_all_halos_cib_HOD': 1,\n",
    "\n",
    "'sub_halo_mass_function' : 'TW10',#'JvdB14',\n",
    "'M_min_subhalo_in_Msun' : 1e5, # 1e5 see https://github.com/abhimaniyar/halomodel_cib_tsz_cibxtsz/blob/master/Cell_cib.py\n",
    "'use_redshift_dependent_M_min': 0,\n",
    "'M_min' : 1e10,\n",
    "'M_max' : 1e15,\n",
    "'z_min' : 0.05,\n",
    "'z_max' : 5.,\n",
    "'ell_min': 2.,\n",
    "'ell_max':8000,\n",
    "'dlogell':0.2,\n",
    "\n",
    "\n",
    "'ndim_redshifts': 50,\n",
    "'ndim_masses':100,\n",
    "\n",
    "'has_cib_flux_cut': 0,\n",
    "'hm_consistency':1,\n",
    "\n",
    "# 'epsabs_L_sat': 1e-40,\n",
    "# 'epsrel_L_sat': 1e-9,\n",
    "\n",
    "# \"P_k_max_1/Mpc\": 50.,\n",
    "# 'k_max_for_pk_class_sz':50.\n",
    "    \n",
    "'pressure profile':'B12',\n",
    "'delta for electron pressure':'200c',\n",
    "\"concentration parameter\":\"D08\",\n",
    "    \n",
    "'use_fft_for_profiles_transform' : 1,\n",
    "    \n",
    "    \n",
    "'damping_1h_term' : 0,\n",
    "    \n",
    "# 'x_min_gas_density_fftw' : 1e-5,\n",
    "# 'x_max_gas_density_fftw' : 1e2,\n",
    "    \n",
    "# 'n_k_pressure_profile' :50, # this is l/ls # default 80\n",
    "# 'n_m_pressure_profile' :30, # default: 100, decrease for faster\n",
    "# 'n_z_pressure_profile' :30, # default: 100, decrease for faster\n",
    "\n",
    "# 'x_min_gas_pressure_fftw' : 1e-5,\n",
    "# 'x_max_gas_pressure_fftw' : 1e2,\n",
    "    \n",
    "    \n",
    "# 'k_min_samp_fftw' : 1e-3,\n",
    "# 'k_max_samp_fftw' : 1e3,\n",
    "# 'N_samp_fftw' : 1024,\n",
    "    \n",
    "'n_z_pressure_profile': 500,\n",
    "'n_m_pressure_profile' : 500,\n",
    "'n_l_pressure_profile' : 500,\n",
    "})\n",
    "\n",
    "M.set({\n",
    "       'cib_frequency_list_num' : 1,\n",
    "       'cib_frequency_list_in_GHz' : '150',\n",
    "      })\n",
    "M.compute_class_szfast()"
   ]
  },
  {
   "cell_type": "code",
   "execution_count": 13,
   "id": "9992af2f-d21a-44fe-8468-ee77b7e14fb0",
   "metadata": {},
   "outputs": [],
   "source": [
    "# cl_cib_cib = {'spec':M.cl_cib_cib(),'key':'cib x cib'}\n",
    "# cl_lens_cib = {'spec':M.cl_lens_cib()['545'],'key':'cib x kc'}\n",
    "# cl_gal_cib = {'spec':M.cl_gal_cib()['545'],'key':'g x cib'}\n",
    "# cl_gal_gal = {'spec':M.cl_gg(),'key':'g x g'}\n",
    "# cl_gal_lens = {'spec':M.cl_kg(),'key':'g x kc'}\n",
    "# cl_lens_lens = {'spec':M.cl_kk(),'key':'kc x kc'}\n",
    "# cl_gallens_gallens = {'spec':M.cl_kg_kg(),'key':'kg x kg'}\n",
    "# cl_gal_gallens = {'spec':M.cl_ggamma(),'key':'kg x g'}\n",
    "# cl_y_y = {'spec':M.cl_sz(),'key':'y x y'}\n",
    "# cl_y_gal = {'spec':M.cl_yg(),'key':'g x y'}\n",
    "# cl_y_lens = {'spec':M.cl_y_kcmb(),'key':'y x kc'}\n",
    "# cl_y_cib = {'spec':M.cl_tSZ_cib()['545'],'key':'cib x y'}\n",
    "# cl_gallens_lens = {'spec':M.cl_kg_k(),'key':'kg x kc'}"
   ]
  },
  {
   "cell_type": "code",
   "execution_count": 14,
   "id": "70f3c4ac-73cd-41e8-953c-c78398ffc87a",
   "metadata": {},
   "outputs": [],
   "source": [
    "# M.cl_cib_cib()['545x545']\n",
    "# M.cl_lens_cib()['545']"
   ]
  },
  {
   "cell_type": "code",
   "execution_count": 26,
   "id": "f2fc0c7e-1c20-4cda-b4d7-bea7382bb764",
   "metadata": {},
   "outputs": [],
   "source": [
    "specs_dict = {\n",
    "'cib x cib' : M.cl_cib_cib()['150x150'],\n",
    "# 'cib x kc' : M.cl_lens_cib()['150'],\n",
    "# 'g x cib' : M.cl_gal_cib()['150'],\n",
    "# 'g x g' : M.cl_gg(),\n",
    "# 'g x kc' : M.cl_kg(),\n",
    "# 'kg x kg' : M.cl_kg_kg(),\n",
    "'kg x g' : M.cl_ggamma(),\n",
    "'y x y' : M.cl_sz(),\n",
    "# 'g x y' : M.cl_yg(),\n",
    "# 'y x kc' : M.cl_y_kcmb(),\n",
    "# 'kc x kc' : M.cl_kk(),\n",
    "'cib x y' : M.cl_tSZ_cib()['150'],\n",
    "# 'kg x kc' : M.cl_kg_k(),\n",
    "# 'kg x y' : M.cl_ykg(),\n",
    "# 'kg x cib' : M.cl_kg_cib()['150'],\n",
    "}"
   ]
  },
  {
   "cell_type": "code",
   "execution_count": 27,
   "id": "2ff5354e-8bfb-4899-a293-386ff35c66e1",
   "metadata": {},
   "outputs": [],
   "source": [
    "# M.cl_kg_cib()"
   ]
  },
  {
   "cell_type": "code",
   "execution_count": 34,
   "id": "0280ff93-df7b-4cf3-b55f-49cca22e44f1",
   "metadata": {},
   "outputs": [],
   "source": [
    "# tsz units function (see e.g., https://github.com/ACTCollaboration/tilec/blob/master/tilec/fg.py)\n",
    "TCMB = 2.7255 #Kelvin # 2.725 value in choi et al (vs 2.726) -- this has an effect on  chi2 of deltachi2 ~ 2\n",
    "TCMB_uK = 2.7255e6 #micro-Kelvin\n",
    "hplanck=6.626068e-34 #MKS\n",
    "kboltz=1.3806503e-23 #MKS\n",
    "def fsz(nu_ghz):\n",
    "    nu = 1.e9*np.asarray(nu_ghz).astype(float)\n",
    "    X = hplanck*nu/(kboltz*TCMB)\n",
    "    resp = (X / np.tanh(X/2.0) - 4.0) * TCMB_uK # into uK_CMB units\n",
    "    return resp"
   ]
  },
  {
   "cell_type": "code",
   "execution_count": 37,
   "id": "ee0cf118-1333-4cc0-b3e5-a87b365a6a7d",
   "metadata": {},
   "outputs": [
    {
     "data": {
      "text/plain": [
       "Text(0, 0.5, '$D_\\\\ell$ [Jy uK]')"
      ]
     },
     "execution_count": 37,
     "metadata": {},
     "output_type": "execute_result"
    },
    {
     "data": {
      "image/png": "[encoded data removed]",
      "text/plain": [
       "<Figure size 1000x400 with 1 Axes>"
      ]
     },
     "metadata": {},
     "output_type": "display_data"
    }
   ],
   "source": [
    "fig, ax = plt.subplots(figsize=(10, 4))\n",
    "ax.tick_params(axis = 'x',which='both',length=5,direction='in', pad=10)\n",
    "ax.tick_params(axis = 'y',which='both',length=5,direction='in', pad=5)\n",
    "ax.xaxis.set_ticks_position('both')\n",
    "ax.yaxis.set_ticks_position('both')\n",
    "plt.setp(ax.get_yticklabels(), rotation='horizontal', fontsize=18)\n",
    "plt.setp(ax.get_xticklabels(), fontsize=18)\n",
    "ax.grid( visible=True, which=\"both\", alpha=0.2, linestyle='--')\n",
    "# ax.set_xscale(\"log\")\n",
    "# ax.set_yscale(\"log\")\n",
    "\n",
    "\n",
    "clsp = specs_dict['cib x y']\n",
    "l = np.asarray(clsp['ell'])\n",
    "\n",
    "nu = 150.\n",
    "y_to_uK = fsz(nu)\n",
    "\n",
    "ax.plot(l,np.asarray(clsp['1h'])*(1e-6*y_to_uK),\n",
    "          ls='-.',c='k',label='class_sz 1h',lw=0.7)\n",
    "\n",
    "ax.plot(l,np.asarray(clsp['2h'])*(1e-6*y_to_uK),\n",
    "          ls='--',c='k',label='class_sz 2h',lw=0.7)\n",
    "\n",
    "ax.plot(l,(np.asarray(clsp['2h'])+np.asarray(clsp['1h']))*(1e-6*y_to_uK),\n",
    "        ls='-',c='k',label='class_sz Total',lw=1)\n",
    "ax.set_xlim(100,7000)\n",
    "plt.xlabel(r\"$\\ell$\",fontsize=18)\n",
    "plt.ylabel(r\"$D_\\ell$ [Jy uK]\",fontsize=18)"
   ]
  },
  {
   "cell_type": "code",
   "execution_count": null,
   "id": "b8a9bc1b-8c58-4e99-afcf-4418662bfb94",
   "metadata": {},
   "outputs": [],
   "source": []
  }
 ],
 "metadata": {
  "kernelspec": {
   "display_name": "Python 3 (ipykernel)",
   "language": "python",
   "name": "python3"
  },
  "language_info": {
   "codemirror_mode": {
    "name": "ipython",
    "version": 3
   },
   "file_extension": ".py",
   "mimetype": "text/x-python",
   "name": "python",
   "nbconvert_exporter": "python",
   "pygments_lexer": "ipython3",
   "version": "3.9.13"
  }
 },
 "nbformat": 4,
 "nbformat_minor": 5
}
